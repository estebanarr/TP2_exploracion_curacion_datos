{
 "cells": [
  {
   "cell_type": "markdown",
   "metadata": {
    "id": "EiIueXqQ-Syc"
   },
   "source": [
    "## Ejercicio 5: Documentación\n",
    "\n",
    "En un documento `.pdf` o `.md` realizar un reporte de las operaciones que realizaron para obtener el conjunto de datos final. Se debe incluir:\n",
    "  1. Criterios de exclusión (o inclusión) de filas\n",
    "  2. Interpretación de las columnas presentes\n",
    "  2. Todas las transofrmaciones realizadas\n"
   ]
  },
  {
   "cell_type": "markdown",
   "metadata": {
    "id": "IEH5-Sb7-Yd8"
   },
   "source": [
    "## Criterios de exclusión \n",
    "1. Se decidió eliminar del dataframe la variable `Date`, ya que como tal no tiene sentido aplicar OneHotEncoding, escalarla o imputarla. Mas bien nos serviría para hacer ingenería de features.\n",
    "2. Las variables `Lattitude` y`Longtitude` también fueron eliminadas ya que contamos con otras variables referidas a la ubicación geográfica de las propiedades. Sólo las emplearemos para llevar a cabo las visualizaciones.\n",
    "3. La variable `CouncilArea` fue eliminada debido a que luego de la imputación seguimos teniendo valores nulos, además, la feature `Suburb` ya nos da información, incluso más detallada, de la ubicación de las propiedades.\n",
    "\n",
    "## Variables seleccionadas\n",
    "### Variables categóricas \n",
    "1. `Rooms`: número de ambientes. Valores posibles entre 2 a 10\n",
    "2. `Type`: tipo de propiedad. 3 valores posibles: 'h', 'u', 't'\n",
    "3. `Method`: método de compra. Esta variable originalmente tenía 5 categorías posibles: 'S', 'SP', 'VB', 'PI'y 'SA'. La misma fue recategorizada en 3: \"On price\", \"Under\", \"Above\".\n",
    "4. `Postcode`: código postal\n",
    "5. `Bathroom`: número de baños. Valores posibles de 0 a 8\n",
    "6. `Car`: número de cocheras. Valores posibles entre 0 a 10\n",
    "7. `Regionname`: nombre de la región. Esta variable originalmente tenía 8 categorías posibles: 'Northern Metropolitan', 'Western Metropolitan','Southern Metropolitan', 'Eastern Metropolitan','South-Eastern Metropolitan', 'Northern Victoria','Western Victoria', 'Eastern Victoria'. La misma fue recategorizada en 5: 'Northern Metropolitan', 'Western Metropolitan','Southern Metropolitan','South-Eastern Metropolitan', 'Victoria'.\n",
    "8. `SellerG`: nombre del vendedor\n",
    "9. `Suburb`: suburbio-barrio\n",
    "10. `zipcode`: código postal\n",
    "11. `date_year`: año\n",
    "12. `date_month`: mes\n",
    "\n",
    "Todas las variables categóricas fueron codificadas a variables dummies (binarias) con tres métodos: get_dummies, OneHotEncoding y DictVectorizer\n",
    "\n",
    "### Variables numéricas\n",
    "1. `Price`: precio de la propiedad\n",
    "2. `Distance`: distancia al centro de la ciudad\n",
    "3. `Landsize`: tamaño del terreno\n",
    "4. `Propertycount`: número de propiedades\n",
    "5. `airbnb_price_mean`: precio promedio diario de las propiedades publicadas en la plataforma AirBnB en el mismo código postal (agregar link)\n",
    "6. `airbnb_record_count`: número de registros de precios promedio de las propiedades publicadas en la plataforma AirBnB en el mismo código postal. Esta variable sirvió para filtrar la base y quedarnos con el precio promedio del zipcode solo en aquellos casos en que había por lo menos 10 observaciones de casas en la base de airbnb.\n",
    "7. `airbnb_weekly_price_mean`: precio promedio semanal de las propiedades publicadas en la plataforma AirBnB en el mismo código postal. Los datos faltantes de esta variable fueron imputados por medio del KNN Imputer.\n",
    "8. `airbnb_weekly_price_count`: número de registros de precios promedio semanal de las propiedades publicadas en la plataforma AirBnB en el mismo código postal \n",
    "9. `airbnb_monthly_price_mean` precio promedio mensual de las propiedades publicadas en la plataforma AirBnB en el mismo código postal. Los datos faltantes de esta variable fueron imputados por medio del KNN Imputer.\n",
    "10. `airbnb_monthly_price_count`: número de registros de precios promedio mensual de las propiedades publicadas en la plataforma AirBnB en el mismo código postal \n",
    "11. `YearBuilt`: año de construcción. Se eliminó un dato outlier: Año de construcción=1196\n",
    "12. `BuildingArea`: área construida.\n",
    "\n",
    "Debido a que la variable numérica `Car` posee pocos valores faltantes (0.47 % del total de los datos), se los eliminó del dataframe.\n",
    "\n",
    "### Transformaciones\n",
    "1. Todas la variables numéricas fueron escaladas con el método MinMaxScaler previo a ser imputadas.\n",
    "2. Las variables `airbnb_weekly_price_mean` y `airbnb_monthly_price_mean` fueron imputadas con el método KNN\n",
    "3. Las columnas `Yearbuilt` y `BuildingArea` fueron imputadas con el algoritmo IterativeImputer y el estimador KNeighborsRegressor\n",
    "\n",
    "### Datos aumentados\n",
    "Se agregaron las 179 primeras componentes principales obtenidas a través del método de PCA, aplicado sobre el conjunto de datos totalmente procesado.\n"
   ]
  }
 ],
 "metadata": {
  "colab": {
   "name": "Documentación.ipynb",
   "provenance": []
  },
  "kernelspec": {
   "display_name": "Python 3",
   "language": "python",
   "name": "python3"
  },
  "language_info": {
   "codemirror_mode": {
    "name": "ipython",
    "version": 3
   },
   "file_extension": ".py",
   "mimetype": "text/x-python",
   "name": "python",
   "nbconvert_exporter": "python",
   "pygments_lexer": "ipython3",
   "version": "3.8.5"
  }
 },
 "nbformat": 4,
 "nbformat_minor": 4
}
