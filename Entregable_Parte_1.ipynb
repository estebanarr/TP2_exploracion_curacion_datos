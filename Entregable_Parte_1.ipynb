{
 "cells": [
  {
   "cell_type": "markdown",
   "metadata": {
    "id": "zO4bRoxr2Apy"
   },
   "source": [
    "**Diplomatura en Ciencia de Datos, Aprendizaje Automático y sus Aplicaciones**\n",
    "\n",
    "**Exploración y Curación de Datos**\n",
    "\n",
    "*Edición 2021*\n",
    "\n",
    "----\n",
    "\n",
    "# Trabajo práctico entregable - parte 1\n",
    "\n",
    "En esta notebook, vamos a cargar el conjunto de datos de [la compentencia Kaggle](https://www.kaggle.com/dansbecker/melbourne-housing-snapshot) sobre estimación de precios de ventas de propiedades en Melbourne, Australia.\n",
    "\n",
    "Utilizaremos el conjunto de datos reducido producido por [DanB](https://www.kaggle.com/dansbecker). Hemos subido una copia a un servidor de la Universidad Nacional de Córdoba para facilitar su acceso remoto.."
   ]
  },
  {
   "cell_type": "code",
   "execution_count": 1,
   "metadata": {
    "id": "4udjxjk1EtVU"
   },
   "outputs": [],
   "source": [
    "import matplotlib.pyplot as plt\n",
    "import numpy as np\n",
    "import pandas \n",
    "import seaborn as sns\n",
    "sns.set_context('talk')"
   ]
  },
  {
   "cell_type": "code",
   "execution_count": null,
   "metadata": {
    "colab": {
     "base_uri": "https://localhost:8080/",
     "height": 34
    },
    "id": "3XdIsB8hISis",
    "outputId": "763f4b55-71cc-4174-d433-e3982b5678c4"
   },
   "outputs": [
    {
     "data": {
      "application/vnd.google.colaboratory.intrinsic+json": {
       "type": "string"
      },
      "text/plain": [
       "'4.4.1'"
      ]
     },
     "execution_count": 7,
     "metadata": {
      "tags": []
     },
     "output_type": "execute_result"
    }
   ],
   "source": [
    "import plotly\n",
    "plotly.__version__\n",
    "# Make sure it's 4.14.3"
   ]
  },
  {
   "cell_type": "code",
   "execution_count": null,
   "metadata": {
    "id": "i2nqY0GGIVn2"
   },
   "outputs": [],
   "source": [
    "# To update plotly, uncomment and run the following line:\n",
    "#!pip install plotly --upgrade"
   ]
  },
  {
   "cell_type": "code",
   "execution_count": 2,
   "metadata": {
    "colab": {
     "base_uri": "https://localhost:8080/",
     "height": 230
    },
    "id": "_qeFN3GnEvMk",
    "outputId": "806ad36a-892a-4693-f6d2-4675419464f6"
   },
   "outputs": [
    {
     "data": {
      "text/html": [
       "<div>\n",
       "<style scoped>\n",
       "    .dataframe tbody tr th:only-of-type {\n",
       "        vertical-align: middle;\n",
       "    }\n",
       "\n",
       "    .dataframe tbody tr th {\n",
       "        vertical-align: top;\n",
       "    }\n",
       "\n",
       "    .dataframe thead th {\n",
       "        text-align: right;\n",
       "    }\n",
       "</style>\n",
       "<table border=\"1\" class=\"dataframe\">\n",
       "  <thead>\n",
       "    <tr style=\"text-align: right;\">\n",
       "      <th></th>\n",
       "      <th>Suburb</th>\n",
       "      <th>Address</th>\n",
       "      <th>Rooms</th>\n",
       "      <th>Type</th>\n",
       "      <th>Price</th>\n",
       "      <th>Method</th>\n",
       "      <th>SellerG</th>\n",
       "      <th>Date</th>\n",
       "      <th>Distance</th>\n",
       "      <th>Postcode</th>\n",
       "      <th>Bedroom2</th>\n",
       "      <th>Bathroom</th>\n",
       "      <th>Car</th>\n",
       "      <th>Landsize</th>\n",
       "      <th>BuildingArea</th>\n",
       "      <th>YearBuilt</th>\n",
       "      <th>CouncilArea</th>\n",
       "      <th>Lattitude</th>\n",
       "      <th>Longtitude</th>\n",
       "      <th>Regionname</th>\n",
       "      <th>Propertycount</th>\n",
       "    </tr>\n",
       "  </thead>\n",
       "  <tbody>\n",
       "    <tr>\n",
       "      <th>0</th>\n",
       "      <td>Abbotsford</td>\n",
       "      <td>85 Turner St</td>\n",
       "      <td>2</td>\n",
       "      <td>h</td>\n",
       "      <td>1480000.0</td>\n",
       "      <td>S</td>\n",
       "      <td>Biggin</td>\n",
       "      <td>3/12/2016</td>\n",
       "      <td>2.5</td>\n",
       "      <td>3067.0</td>\n",
       "      <td>2.0</td>\n",
       "      <td>1.0</td>\n",
       "      <td>1.0</td>\n",
       "      <td>202.0</td>\n",
       "      <td>NaN</td>\n",
       "      <td>NaN</td>\n",
       "      <td>Yarra</td>\n",
       "      <td>-37.7996</td>\n",
       "      <td>144.9984</td>\n",
       "      <td>Northern Metropolitan</td>\n",
       "      <td>4019.0</td>\n",
       "    </tr>\n",
       "    <tr>\n",
       "      <th>1</th>\n",
       "      <td>Abbotsford</td>\n",
       "      <td>25 Bloomburg St</td>\n",
       "      <td>2</td>\n",
       "      <td>h</td>\n",
       "      <td>1035000.0</td>\n",
       "      <td>S</td>\n",
       "      <td>Biggin</td>\n",
       "      <td>4/02/2016</td>\n",
       "      <td>2.5</td>\n",
       "      <td>3067.0</td>\n",
       "      <td>2.0</td>\n",
       "      <td>1.0</td>\n",
       "      <td>0.0</td>\n",
       "      <td>156.0</td>\n",
       "      <td>79.0</td>\n",
       "      <td>1900.0</td>\n",
       "      <td>Yarra</td>\n",
       "      <td>-37.8079</td>\n",
       "      <td>144.9934</td>\n",
       "      <td>Northern Metropolitan</td>\n",
       "      <td>4019.0</td>\n",
       "    </tr>\n",
       "    <tr>\n",
       "      <th>2</th>\n",
       "      <td>Abbotsford</td>\n",
       "      <td>5 Charles St</td>\n",
       "      <td>3</td>\n",
       "      <td>h</td>\n",
       "      <td>1465000.0</td>\n",
       "      <td>SP</td>\n",
       "      <td>Biggin</td>\n",
       "      <td>4/03/2017</td>\n",
       "      <td>2.5</td>\n",
       "      <td>3067.0</td>\n",
       "      <td>3.0</td>\n",
       "      <td>2.0</td>\n",
       "      <td>0.0</td>\n",
       "      <td>134.0</td>\n",
       "      <td>150.0</td>\n",
       "      <td>1900.0</td>\n",
       "      <td>Yarra</td>\n",
       "      <td>-37.8093</td>\n",
       "      <td>144.9944</td>\n",
       "      <td>Northern Metropolitan</td>\n",
       "      <td>4019.0</td>\n",
       "    </tr>\n",
       "  </tbody>\n",
       "</table>\n",
       "</div>"
      ],
      "text/plain": [
       "       Suburb          Address  ...             Regionname Propertycount\n",
       "0  Abbotsford     85 Turner St  ...  Northern Metropolitan        4019.0\n",
       "1  Abbotsford  25 Bloomburg St  ...  Northern Metropolitan        4019.0\n",
       "2  Abbotsford     5 Charles St  ...  Northern Metropolitan        4019.0\n",
       "\n",
       "[3 rows x 21 columns]"
      ]
     },
     "execution_count": 2,
     "metadata": {
      "tags": []
     },
     "output_type": "execute_result"
    }
   ],
   "source": [
    "melb_df = pandas.read_csv(\n",
    "    'https://cs.famaf.unc.edu.ar/~mteruel/datasets/diplodatos/melb_data.csv')\n",
    "melb_df[:3]"
   ]
  },
  {
   "cell_type": "markdown",
   "metadata": {
    "id": "s-mixICN22kA"
   },
   "source": [
    "## Ejercicio 1: \n",
    "\n",
    "1. Eliminar los valores extremos que no sean relevantes para la predicción de valores de las propiedades.\n",
    "\n",
    "1. Investigar la distribución de las variables del conjunto de datos y seleccionar un subconjunto de columnas que les parezcan relevantes al problema de predicción del valor de la propiedad.\n",
    "  1. Justificar cada columna no seleccionada.\n",
    "  2. Para las variables categóricas seleccionadas, agrupe o combine las categorías poco frecuentes para asegurar que todos los grupos tengan un número mínimo de registros.\n",
    "\n",
    "2. Agregar información adicional respectiva al entorno de una propiedad a partir del [conjunto de datos de AirBnB](https://www.kaggle.com/tylerx/melbourne-airbnb-open-data?select=cleansed_listings_dec18.csv) utilizado en el práctico. \n",
    "  1. Seleccionar qué variables agregar y qué combinaciones aplicar a cada una. Por ejemplo, pueden utilizar solo la columna `price`, o aplicar múltiples transformaciones como la mediana o el mínimo.\n",
    "  1. Utilizar la variable zipcode para unir los conjuntos de datos. Sólo incluir los zipcodes que tengan una cantidad mínima de registros (a elección) como para que la información agregada sea relevante.\n",
    "  2. Investigar al menos otras 2 variables que puedan servir para combinar los datos, y justificar si serían adecuadas o no. Pueden asumir que cuentan con la ayuda de anotadores expertos para encontrar equivalencias entre barrios o direcciones, o que cuentan con algoritmos para encontrar las n ubicaciones más cercanas a una propiedad a partir de sus coordenadas geográficas. **NO** es necesario que realicen la implementación.\n",
    "\n",
    "Pueden leer otras columnas del conjunto de AirBnB además de las que están en `interesting_cols`, si les parecen relevantes.\n"
   ]
  },
  {
   "cell_type": "markdown",
   "metadata": {
    "id": "6oGbUtGW7QSq"
   },
   "source": [
    "##Ejercicio 1\n",
    "**Punto 1**"
   ]
  },
  {
   "cell_type": "code",
   "execution_count": 3,
   "metadata": {
    "colab": {
     "base_uri": "https://localhost:8080/"
    },
    "id": "cO2gHKVQv8Ri",
    "outputId": "6795bf12-92a3-400f-e377-748434a5cf38"
   },
   "outputs": [
    {
     "name": "stdout",
     "output_type": "stream",
     "text": [
      "<class 'pandas.core.frame.DataFrame'>\n",
      "RangeIndex: 13580 entries, 0 to 13579\n",
      "Data columns (total 21 columns):\n",
      " #   Column         Non-Null Count  Dtype  \n",
      "---  ------         --------------  -----  \n",
      " 0   Suburb         13580 non-null  object \n",
      " 1   Address        13580 non-null  object \n",
      " 2   Rooms          13580 non-null  int64  \n",
      " 3   Type           13580 non-null  object \n",
      " 4   Price          13580 non-null  float64\n",
      " 5   Method         13580 non-null  object \n",
      " 6   SellerG        13580 non-null  object \n",
      " 7   Date           13580 non-null  object \n",
      " 8   Distance       13580 non-null  float64\n",
      " 9   Postcode       13580 non-null  float64\n",
      " 10  Bedroom2       13580 non-null  float64\n",
      " 11  Bathroom       13580 non-null  float64\n",
      " 12  Car            13518 non-null  float64\n",
      " 13  Landsize       13580 non-null  float64\n",
      " 14  BuildingArea   7130 non-null   float64\n",
      " 15  YearBuilt      8205 non-null   float64\n",
      " 16  CouncilArea    12211 non-null  object \n",
      " 17  Lattitude      13580 non-null  float64\n",
      " 18  Longtitude     13580 non-null  float64\n",
      " 19  Regionname     13580 non-null  object \n",
      " 20  Propertycount  13580 non-null  float64\n",
      "dtypes: float64(12), int64(1), object(8)\n",
      "memory usage: 2.2+ MB\n"
     ]
    }
   ],
   "source": [
    "#Análisis de valores extremos sobre la distribución del precio\n",
    "melb_df.info()"
   ]
  },
  {
   "cell_type": "code",
   "execution_count": 4,
   "metadata": {
    "colab": {
     "base_uri": "https://localhost:8080/"
    },
    "id": "uvctdFyxxcDE",
    "outputId": "05234523-09ae-4577-c139-48f4e1835a53"
   },
   "outputs": [
    {
     "data": {
      "text/plain": [
       "count      13580.0\n",
       "mean     1075684.0\n",
       "std       639311.0\n",
       "min        85000.0\n",
       "25%       650000.0\n",
       "50%       903000.0\n",
       "75%      1330000.0\n",
       "max      9000000.0\n",
       "Name: Price, dtype: float64"
      ]
     },
     "execution_count": 4,
     "metadata": {
      "tags": []
     },
     "output_type": "execute_result"
    }
   ],
   "source": [
    "melb_df.Price.describe().round()   #La variable precio no tiene datos faltantes, tiene un mínimo de $85.000 y un máximo de $9.000.000."
   ]
  },
  {
   "cell_type": "code",
   "execution_count": 5,
   "metadata": {
    "colab": {
     "base_uri": "https://localhost:8080/",
     "height": 572
    },
    "id": "wnDD67qUxTdN",
    "outputId": "9a4600a2-3717-453a-ec30-d4216ec39e5b"
   },
   "outputs": [
    {
     "name": "stderr",
     "output_type": "stream",
     "text": [
      "/usr/local/lib/python3.7/dist-packages/seaborn/_decorators.py:43: FutureWarning: Pass the following variable as a keyword arg: x. From version 0.12, the only valid positional argument will be `data`, and passing other arguments without an explicit keyword will result in an error or misinterpretation.\n",
      "  FutureWarning\n",
      "/usr/local/lib/python3.7/dist-packages/seaborn/distributions.py:2557: FutureWarning: `distplot` is a deprecated function and will be removed in a future version. Please adapt your code to use either `displot` (a figure-level function with similar flexibility) or `histplot` (an axes-level function for histograms).\n",
      "  warnings.warn(msg, FutureWarning)\n"
     ]
    },
    {
     "data": {
      "image/png": "[encoded data removed]",
      "text/plain": [
       "<Figure size 720x504 with 2 Axes>"
      ]
     },
     "metadata": {
      "needs_background": "light",
      "tags": []
     },
     "output_type": "display_data"
    }
   ],
   "source": [
    "f, (ax_box, ax_hist) = plt.subplots(2, sharex=True, figsize=(10,7),gridspec_kw={\"height_ratios\": (.15, .85)})\n",
    " \n",
    "#Se añade un gráfico a cada parte\n",
    "\n",
    "sns.boxplot(melb_df.Price, ax=ax_box)\n",
    "sns.distplot(melb_df.Price, ax=ax_hist, kde=False, hist=False)\n",
    "sns.distplot(melb_df.Price, ax=ax_hist, kde=True, hist=True,norm_hist=False)\n",
    "\n",
    "plt.axvline(melb_df.Price.quantile(0.25))\n",
    "plt.axvline(melb_df.Price.quantile(0.50),color='g')\n",
    "plt.axvline(melb_df.Price.quantile(0.75))\n",
    "plt.ticklabel_format(style='plain', axis='x') \n",
    " \n",
    "ax_box.set_title(\"Distribución de los valores de las propiedades en Melbourne\")\n",
    "plt.show()\n"
   ]
  },
  {
   "cell_type": "markdown",
   "metadata": {
    "id": "BQTl6VExzVbK"
   },
   "source": [
    "Se advierte que la distribución de los valores de las propiedades en Melbourne está sesgada a la izquierda (o asimétrica derecha), con un valor mínimo de \\$85.000 y un máximo de \\$9.000.000.\n",
    "Si bien no contamos con un conocimiento previo sobre la temática, podríamos concluir a partir del boxplot que existen ciertos valores outliers para el valor de las propiedades sobre todo entre aquellos valores más altos. Estos podrían ser eliminados para no afectar la capacidad de predecir el valor de venta las propiedades a futuro. Dado el escaso conocimiento que tenemos sobre la temática, se optará por emplear el criterio del rango intercuartílico para eliminación de datos outliers."
   ]
  },
  {
   "cell_type": "code",
   "execution_count": 6,
   "metadata": {
    "colab": {
     "base_uri": "https://localhost:8080/"
    },
    "id": "4A42h6fe2D_G",
    "outputId": "22f77d21-e261-4155-a28a-d5219f5d84e8"
   },
   "outputs": [
    {
     "name": "stdout",
     "output_type": "stream",
     "text": [
      "Nuevo mínimo= -370000.0\n",
      "Nuevo máximo= 2350000.0\n"
     ]
    }
   ],
   "source": [
    "melb_df.Price.quantile(.95).round()\n",
    "#Se podría definir una regla objetiva para eliminar datos outliers como: 1.5 veces el RI por encima o por debajo de los cuartiles 1 y 3. \n",
    "q25=melb_df.Price.quantile(.25)\n",
    "q75=melb_df.Price.quantile(.75)\n",
    "RI=q75-q25\n",
    "min=q25-1.5*RI\n",
    "max=q75+1.5*RI\n",
    "print(\"Nuevo mínimo=\", min)   #como el mínimo es negativo, tomaría cero como el mínimo. Es decir, solo restringiríamos la cola derecha de la distribución\n",
    "print(\"Nuevo máximo=\", max)"
   ]
  },
  {
   "cell_type": "code",
   "execution_count": 7,
   "metadata": {
    "id": "1Hfxxych30Vs"
   },
   "outputs": [],
   "source": [
    "#Eliminación de los valores outliers de la variable Precio\n",
    "melb_df2=melb_df[melb_df.Price<max]"
   ]
  },
  {
   "cell_type": "code",
   "execution_count": 8,
   "metadata": {
    "colab": {
     "base_uri": "https://localhost:8080/",
     "height": 426
    },
    "id": "eMPYXbz455nP",
    "outputId": "3a3658cf-7277-4b25-a12d-e1b726884104"
   },
   "outputs": [
    {
     "name": "stderr",
     "output_type": "stream",
     "text": [
      "/usr/local/lib/python3.7/dist-packages/seaborn/distributions.py:2557: FutureWarning: `distplot` is a deprecated function and will be removed in a future version. Please adapt your code to use either `displot` (a figure-level function with similar flexibility) or `histplot` (an axes-level function for histograms).\n",
      "  warnings.warn(msg, FutureWarning)\n"
     ]
    },
    {
     "data": {
      "image/png": "[encoded data removed]",
      "text/plain": [
       "<Figure size 720x360 with 1 Axes>"
      ]
     },
     "metadata": {
      "needs_background": "light",
      "tags": []
     },
     "output_type": "display_data"
    }
   ],
   "source": [
    "plt.figure(figsize=(10,5))\n",
    "sns.distplot(melb_df2.Price, kde=False, hist=False)\n",
    "sns.distplot(melb_df2.Price, kde=True, hist=True,norm_hist=False)\n",
    "\n",
    "plt.axvline(melb_df2.Price.quantile(0.25))\n",
    "plt.axvline(melb_df2.Price.quantile(0.50),color='g')\n",
    "plt.axvline(melb_df2.Price.quantile(0.75))\n",
    "plt.ticklabel_format(style='plain', axis='x') \n",
    " \n",
    "ax_box.set_title(\"Distribución de los valores de las propiedades en Melbourne, sin datos outliers\")\n",
    "plt.show()"
   ]
  },
  {
   "cell_type": "code",
   "execution_count": null,
   "metadata": {
    "id": "O4rQmz2_7d1V"
   },
   "outputs": [],
   "source": [
    "# melb_df2 es el dataset que usaremos en adelante, con la variable precio filtrada y sin datos outliers."
   ]
  },
  {
   "cell_type": "markdown",
   "metadata": {
    "id": "ssq4FbOY7uv7"
   },
   "source": [
    "**Punto 2**\n",
    "1. Investigar la distribución de las variables del conjunto de datos y seleccionar un subconjunto de columnas que les parezcan relevantes al problema de predicción del valor de la propiedad.\n",
    "  1. Justificar cada columna no seleccionada.\n",
    "  2. Para las variables categóricas seleccionadas, agrupe o combine las categorías poco frecuentes para asegurar que todos los grupos tengan un número mínimo de registros."
   ]
  },
  {
   "cell_type": "code",
   "execution_count": 9,
   "metadata": {
    "colab": {
     "base_uri": "https://localhost:8080/"
    },
    "id": "jz2ODztv7uX2",
    "outputId": "3ccadeec-3b04-48d2-d6b1-ab81798bd256"
   },
   "outputs": [
    {
     "name": "stdout",
     "output_type": "stream",
     "text": [
      "<class 'pandas.core.frame.DataFrame'>\n",
      "Int64Index: 12956 entries, 0 to 13579\n",
      "Data columns (total 21 columns):\n",
      " #   Column         Non-Null Count  Dtype  \n",
      "---  ------         --------------  -----  \n",
      " 0   Suburb         12956 non-null  object \n",
      " 1   Address        12956 non-null  object \n",
      " 2   Rooms          12956 non-null  int64  \n",
      " 3   Type           12956 non-null  object \n",
      " 4   Price          12956 non-null  float64\n",
      " 5   Method         12956 non-null  object \n",
      " 6   SellerG        12956 non-null  object \n",
      " 7   Date           12956 non-null  object \n",
      " 8   Distance       12956 non-null  float64\n",
      " 9   Postcode       12956 non-null  float64\n",
      " 10  Bedroom2       12956 non-null  float64\n",
      " 11  Bathroom       12956 non-null  float64\n",
      " 12  Car            12897 non-null  float64\n",
      " 13  Landsize       12956 non-null  float64\n",
      " 14  BuildingArea   6766 non-null   float64\n",
      " 15  YearBuilt      7798 non-null   float64\n",
      " 16  CouncilArea    11670 non-null  object \n",
      " 17  Lattitude      12956 non-null  float64\n",
      " 18  Longtitude     12956 non-null  float64\n",
      " 19  Regionname     12956 non-null  object \n",
      " 20  Propertycount  12956 non-null  float64\n",
      "dtypes: float64(12), int64(1), object(8)\n",
      "memory usage: 2.2+ MB\n"
     ]
    }
   ],
   "source": [
    "melb_df2.info()"
   ]
  },
  {
   "cell_type": "markdown",
   "metadata": {
    "id": "c1aNl4eO9e0Q"
   },
   "source": [
    "Podemos agrupar a las variables por tipo para hacer algunos análisis\n",
    "\n",
    "*Cuantitativa*: Rooms Price Distance Bedroom2 Bathroom Car Landsize BuildingArea   Propertycount\n",
    "\n",
    "*Categórica*: Suburb Address Type Method SellerG  CouncilArea Regionname\n",
    "\n",
    "*Tiempo*: Date  YearBuilt \n",
    "\n",
    "*Códigos y localización*: Postcode Lattitude  Longtitude  "
   ]
  },
  {
   "cell_type": "code",
   "execution_count": 10,
   "metadata": {
    "colab": {
     "base_uri": "https://localhost:8080/",
     "height": 720
    },
    "id": "gqNpDAgY8oBK",
    "outputId": "05f126f5-1807-4785-cec0-9ac2c86e7041"
   },
   "outputs": [
    {
     "name": "stderr",
     "output_type": "stream",
     "text": [
      "/usr/local/lib/python3.7/dist-packages/seaborn/_decorators.py:43: FutureWarning: Pass the following variable as a keyword arg: x. From version 0.12, the only valid positional argument will be `data`, and passing other arguments without an explicit keyword will result in an error or misinterpretation.\n",
      "  FutureWarning\n",
      "/usr/local/lib/python3.7/dist-packages/seaborn/_decorators.py:43: FutureWarning: Pass the following variable as a keyword arg: x. From version 0.12, the only valid positional argument will be `data`, and passing other arguments without an explicit keyword will result in an error or misinterpretation.\n",
      "  FutureWarning\n",
      "/usr/local/lib/python3.7/dist-packages/seaborn/_decorators.py:43: FutureWarning: Pass the following variable as a keyword arg: x. From version 0.12, the only valid positional argument will be `data`, and passing other arguments without an explicit keyword will result in an error or misinterpretation.\n",
      "  FutureWarning\n",
      "/usr/local/lib/python3.7/dist-packages/seaborn/_decorators.py:43: FutureWarning: Pass the following variable as a keyword arg: x. From version 0.12, the only valid positional argument will be `data`, and passing other arguments without an explicit keyword will result in an error or misinterpretation.\n",
      "  FutureWarning\n"
     ]
    },
    {
     "data": {
      "image/png": "[encoded data removed]",
      "text/plain": [
       "<Figure size 1440x792 with 4 Axes>"
      ]
     },
     "metadata": {
      "needs_background": "light",
      "tags": []
     },
     "output_type": "display_data"
    }
   ],
   "source": [
    " #Análisis de las variables cuantitativas\n",
    "fig, axes = plt.subplots(nrows=2, ncols=2, figsize=(20, 11))\n",
    "sns.boxplot(melb_df2.Rooms, ax=axes[0,0])\n",
    "sns.boxplot(melb_df2.Bedroom2, ax=axes[0,1])\n",
    "sns.boxplot(melb_df2.Bathroom, ax=axes[1,0])\n",
    "sns.boxplot(melb_df2.Car, ax=axes[1,1])\n",
    "plt.show()\n"
   ]
  },
  {
   "cell_type": "code",
   "execution_count": null,
   "metadata": {
    "colab": {
     "base_uri": "https://localhost:8080/"
    },
    "id": "8dENe_0MEIv_",
    "outputId": "e5139f7e-42d2-42a8-d6e9-136f06160ee5"
   },
   "outputs": [
    {
     "data": {
      "text/plain": [
       "count    12956.000000\n",
       "mean       517.115313\n",
       "std       1498.205505\n",
       "min          0.000000\n",
       "25%        168.000000\n",
       "50%        416.000000\n",
       "75%        645.000000\n",
       "max      76000.000000\n",
       "Name: Landsize, dtype: float64"
      ]
     },
     "execution_count": 19,
     "metadata": {
      "tags": []
     },
     "output_type": "execute_result"
    }
   ],
   "source": [
    "melb_df2.Landsize.describe()    #no tiene datos NaN pero tiene una variabilidad enorme y muchos \"0\", lo cual no tiene sentido"
   ]
  },
  {
   "cell_type": "code",
   "execution_count": null,
   "metadata": {
    "colab": {
     "base_uri": "https://localhost:8080/"
    },
    "id": "swLV9VwPEW1i",
    "outputId": "17dac323-01dc-4f5a-f380-190c14d0fc7a"
   },
   "outputs": [
    {
     "data": {
      "text/plain": [
       "count     6766.000000\n",
       "mean       144.997402\n",
       "std        552.864779\n",
       "min          0.000000\n",
       "25%         91.000000\n",
       "50%        122.000000\n",
       "75%        165.000000\n",
       "max      44515.000000\n",
       "Name: BuildingArea, dtype: float64"
      ]
     },
     "execution_count": 20,
     "metadata": {
      "tags": []
     },
     "output_type": "execute_result"
    }
   ],
   "source": [
    "melb_df2.BuildingArea.describe()  #tiene muchos valores perdidos y además muchos \"0\", los cuales tampoco tienen sentido."
   ]
  },
  {
   "cell_type": "code",
   "execution_count": null,
   "metadata": {
    "colab": {
     "base_uri": "https://localhost:8080/"
    },
    "id": "qBvxRiOhFXdX",
    "outputId": "27007f66-6f22-4aa5-b99e-a2cdc898af8e"
   },
   "outputs": [
    {
     "name": "stdout",
     "output_type": "stream",
     "text": [
      "Porcentaje de datos perdidos= 47.77709169496758 %\n"
     ]
    }
   ],
   "source": [
    "print(\"Porcentaje de datos perdidos=\", melb_df2.BuildingArea.isna().sum()/len(melb_df2)*100,\"%\")"
   ]
  },
  {
   "cell_type": "code",
   "execution_count": 11,
   "metadata": {
    "colab": {
     "base_uri": "https://localhost:8080/",
     "height": 372
    },
    "id": "4XhAe8WYMgPD",
    "outputId": "45ea6aff-12de-4218-d17e-9a818ae36b67"
   },
   "outputs": [
    {
     "name": "stderr",
     "output_type": "stream",
     "text": [
      "/usr/local/lib/python3.7/dist-packages/seaborn/_decorators.py:43: FutureWarning: Pass the following variable as a keyword arg: x. From version 0.12, the only valid positional argument will be `data`, and passing other arguments without an explicit keyword will result in an error or misinterpretation.\n",
      "  FutureWarning\n"
     ]
    },
    {
     "data": {
      "text/plain": [
       "<matplotlib.axes._subplots.AxesSubplot at 0x7f8eec8ed590>"
      ]
     },
     "execution_count": 11,
     "metadata": {
      "tags": []
     },
     "output_type": "execute_result"
    },
    {
     "data": {
      "image/png": "[encoded data removed]",
      "text/plain": [
       "<Figure size 432x288 with 1 Axes>"
      ]
     },
     "metadata": {
      "needs_background": "light",
      "tags": []
     },
     "output_type": "display_data"
    }
   ],
   "source": [
    "sns.boxplot(melb_df2.Distance)   #Esta variable es relevante para la explicación del precio"
   ]
  },
  {
   "cell_type": "code",
   "execution_count": null,
   "metadata": {
    "colab": {
     "base_uri": "https://localhost:8080/",
     "height": 317
    },
    "id": "lkDCqa1p_oJH",
    "outputId": "48b93c72-baf9-4dcd-85a4-bf21e9198374"
   },
   "outputs": [
    {
     "data": {
      "text/plain": [
       "<matplotlib.axes._subplots.AxesSubplot at 0x7f3f9bed2d50>"
      ]
     },
     "execution_count": 23,
     "metadata": {
      "tags": []
     },
     "output_type": "execute_result"
    },
    {
     "data": {
      "image/png": "[encoded data removed]",
      "text/plain": [
       "<Figure size 432x288 with 1 Axes>"
      ]
     },
     "metadata": {
      "needs_background": "light",
      "tags": []
     },
     "output_type": "display_data"
    }
   ],
   "source": [
    "sns.histplot(melb_df2.Propertycount)  #representa la cantidad de propiedades que existen en el mismo Suburb, es relevante por que da una idea de la oferta disponible y de la densidad de la zona tmb"
   ]
  },
  {
   "cell_type": "code",
   "execution_count": null,
   "metadata": {
    "colab": {
     "base_uri": "https://localhost:8080/",
     "height": 317
    },
    "id": "wrX_taw-HX5g",
    "outputId": "1cc3f991-71c6-4477-ba32-c6e97aafb764"
   },
   "outputs": [
    {
     "data": {
      "text/plain": [
       "<matplotlib.axes._subplots.AxesSubplot at 0x7f3f9bbeb3d0>"
      ]
     },
     "execution_count": 24,
     "metadata": {
      "tags": []
     },
     "output_type": "execute_result"
    },
    {
     "data": {
      "image/png": "[encoded data removed]",
      "text/plain": [
       "<Figure size 432x288 with 1 Axes>"
      ]
     },
     "metadata": {
      "needs_background": "light",
      "tags": []
     },
     "output_type": "display_data"
    }
   ],
   "source": [
    "sns.countplot(data=melb_df2, x=\"Type\")"
   ]
  },
  {
   "cell_type": "markdown",
   "metadata": {
    "id": "JuCs66GyTxPl"
   },
   "source": [
    "Type: br - bedroom(s); h - house,cottage,villa, semi,terrace; u - unit, duplex; t - townhouse; dev site - development site; o res - other residential."
   ]
  },
  {
   "cell_type": "code",
   "execution_count": null,
   "metadata": {
    "colab": {
     "base_uri": "https://localhost:8080/",
     "height": 317
    },
    "id": "7k_SfpbwICGA",
    "outputId": "c0437c9d-4e8b-4be7-a12e-045036faec98"
   },
   "outputs": [
    {
     "data": {
      "text/plain": [
       "<matplotlib.axes._subplots.AxesSubplot at 0x7f3f9bba66d0>"
      ]
     },
     "execution_count": 25,
     "metadata": {
      "tags": []
     },
     "output_type": "execute_result"
    },
    {
     "data": {
      "image/png": "[encoded data removed]",
      "text/plain": [
       "<Figure size 432x288 with 1 Axes>"
      ]
     },
     "metadata": {
      "needs_background": "light",
      "tags": []
     },
     "output_type": "display_data"
    }
   ],
   "source": [
    "sns.countplot(data=melb_df2, x=\"Method\")   #habría que comprender mejor qué información nos da esta variable y vemos de reagruparla."
   ]
  },
  {
   "cell_type": "markdown",
   "metadata": {
    "id": "AqVwMqqoTu5A"
   },
   "source": [
    "Method: S - property sold; SP - property sold prior; PI - property passed in; PN - sold prior not disclosed; SN - sold not disclosed; NB - no bid; VB - vendor bid; W - withdrawn prior to auction; SA - sold after auction; SS - sold after auction price not disclosed. N/A - price or highest bid not available."
   ]
  },
  {
   "cell_type": "code",
   "execution_count": null,
   "metadata": {
    "colab": {
     "base_uri": "https://localhost:8080/"
    },
    "id": "PsFoTFC_PiSm",
    "outputId": "339e8fbd-ee29-4ace-e65d-d619f9d58037"
   },
   "outputs": [
    {
     "data": {
      "text/plain": [
       "count      12956\n",
       "unique       265\n",
       "top       Nelson\n",
       "freq        1548\n",
       "Name: SellerG, dtype: object"
      ]
     },
     "execution_count": 26,
     "metadata": {
      "tags": []
     },
     "output_type": "execute_result"
    }
   ],
   "source": [
    "melb_df2.SellerG.describe()   #Son muchas categorías posibles, a primera vista no podremos juzgar nada respecto de ella. Pero eventualmente, ciertos vendedores podrían asociarse con ventas a mayor precio."
   ]
  },
  {
   "cell_type": "markdown",
   "metadata": {
    "id": "SDvZjjqqIoF6"
   },
   "source": [
    "Sobre la localización de la casa para explicar el precio, tenemos distintos niveles de precisión para explicarlo. \n",
    "\n",
    "1- La dirección exacta (no nos dice nada puntual, ya que no tenemos conocimiento del dominio)\n",
    "\n",
    "2- El suburbio, son muchas categorías aún, pero se encuentra un poco más agrupada que 1. **Puede estar vinculada a POSTCODE, que usaremos para los merge de datos con otras bases**\n",
    "\n",
    "3- CouncilArea, son más de 30 categorías que agrupan a varios suburbs y representa el Consejo Gubernamental de la zona.\n",
    "\n",
    "4- Regionname, es la variable que agrupa en mayor medida a las casas según localización. De momento, será esta la variable que tomemos de referencia para analizar. \n",
    "\n",
    "5- Latitud y longitud, puede emplearse directamente para graficar ubicaciones o para medir distancias con respecto a distintos puntos relevantes. Puede ser muy interesante para explicar el precio de venta de una propiedad."
   ]
  },
  {
   "cell_type": "code",
   "execution_count": null,
   "metadata": {
    "colab": {
     "base_uri": "https://localhost:8080/"
    },
    "id": "7pHxIVtIG8VT",
    "outputId": "81888307-c620-466b-b9dc-971707e00e55"
   },
   "outputs": [
    {
     "data": {
      "text/plain": [
       "count         12956\n",
       "unique          314\n",
       "top       Reservoir\n",
       "freq            359\n",
       "Name: Suburb, dtype: object"
      ]
     },
     "execution_count": 27,
     "metadata": {
      "tags": []
     },
     "output_type": "execute_result"
    }
   ],
   "source": [
    "melb_df2.Suburb.describe()   #Hay 314 suburb distintos, que sin info de dominio no me dicen mucho. Pero en algún modelo relacional puede explicar.\n",
    "#No podríamos definir ninguna manera de agruparla, pero tampoco la eliminaría"
   ]
  },
  {
   "cell_type": "code",
   "execution_count": null,
   "metadata": {
    "colab": {
     "base_uri": "https://localhost:8080/"
    },
    "id": "OZaT0heDJBbQ",
    "outputId": "f8b78816-bcf9-4777-a13a-e47313f18110"
   },
   "outputs": [
    {
     "data": {
      "text/plain": [
       "count        11670\n",
       "unique          33\n",
       "top       Moreland\n",
       "freq          1160\n",
       "Name: CouncilArea, dtype: object"
      ]
     },
     "execution_count": 28,
     "metadata": {
      "tags": []
     },
     "output_type": "execute_result"
    }
   ],
   "source": [
    "melb_df2.CouncilArea.describe()"
   ]
  },
  {
   "cell_type": "code",
   "execution_count": null,
   "metadata": {
    "colab": {
     "base_uri": "https://localhost:8080/",
     "height": 471
    },
    "id": "zjP6nSQUIQs0",
    "outputId": "48697b5a-16a6-46b6-b2cf-442ff67d5bea"
   },
   "outputs": [
    {
     "data": {
      "text/plain": [
       "(array([0, 1, 2, 3, 4, 5, 6, 7]), <a list of 8 Text major ticklabel objects>)"
      ]
     },
     "execution_count": 29,
     "metadata": {
      "tags": []
     },
     "output_type": "execute_result"
    },
    {
     "data": {
      "image/png": "[encoded data removed]",
      "text/plain": [
       "<Figure size 432x288 with 1 Axes>"
      ]
     },
     "metadata": {
      "needs_background": "light",
      "tags": []
     },
     "output_type": "display_data"
    }
   ],
   "source": [
    "sns.countplot(data=melb_df2, x=\"Regionname\")\n",
    "plt.xticks(rotation=45)"
   ]
  },
  {
   "cell_type": "code",
   "execution_count": null,
   "metadata": {
    "colab": {
     "base_uri": "https://localhost:8080/"
    },
    "id": "wfk7dGZgQ720",
    "outputId": "8453f599-a5a5-4b0e-f372-6deec0d42435"
   },
   "outputs": [
    {
     "data": {
      "text/plain": [
       "Southern Metropolitan         4177\n",
       "Northern Metropolitan         3846\n",
       "Western Metropolitan          2925\n",
       "Eastern Metropolitan          1435\n",
       "South-Eastern Metropolitan     447\n",
       "Eastern Victoria                53\n",
       "Northern Victoria               41\n",
       "Western Victoria                32\n",
       "Name: Regionname, dtype: int64"
      ]
     },
     "execution_count": 30,
     "metadata": {
      "tags": []
     },
     "output_type": "execute_result"
    }
   ],
   "source": [
    "melb_df2.Regionname.value_counts()   #En base a esto, agruparía de la siguiente manera: las últimas 3 categorías en una sola \"Victoria\" y Eastern con southeastern"
   ]
  },
  {
   "cell_type": "code",
   "execution_count": null,
   "metadata": {
    "id": "Z1unhOaERmz7"
   },
   "outputs": [],
   "source": [
    "new_groups = {\n",
    "    'Eastern Victoria': 'Victoria',\n",
    "    'Northern Victoria': 'Victoria',\n",
    "    'Western Victoria': 'Victoria',\n",
    "    'Southern Metropolitan': 'Southern Metropolitan',\n",
    "    'Northern Metropolitan': 'Northern Metropolitan',\n",
    "    'Western Metropolitan': 'Western Metropolitan',\n",
    "    'Eastern Metropolitan': 'South-Eastern Metropolitan',\n",
    "    'South-Eastern Metropolitan': 'South-Eastern Metropolitan',\n",
    "}\n",
    "grouped_region = melb_df2.Regionname.replace(new_groups)"
   ]
  },
  {
   "cell_type": "code",
   "execution_count": null,
   "metadata": {
    "colab": {
     "base_uri": "https://localhost:8080/",
     "height": 471
    },
    "id": "r02_KUMxSoPQ",
    "outputId": "eccffab0-b1e7-479d-f057-a10d2fbe40a9"
   },
   "outputs": [
    {
     "data": {
      "text/plain": [
       "(array([0, 1, 2, 3, 4]), <a list of 5 Text major ticklabel objects>)"
      ]
     },
     "execution_count": 32,
     "metadata": {
      "tags": []
     },
     "output_type": "execute_result"
    },
    {
     "data": {
      "image/png": "[encoded data removed]",
      "text/plain": [
       "<Figure size 432x288 with 1 Axes>"
      ]
     },
     "metadata": {
      "needs_background": "light",
      "tags": []
     },
     "output_type": "display_data"
    }
   ],
   "source": [
    "sns.countplot(data=melb_df2, x=grouped_region)\n",
    "plt.xticks(rotation=45)"
   ]
  },
  {
   "cell_type": "markdown",
   "metadata": {
    "id": "s2XHWhY4J8-R"
   },
   "source": [
    "Sobre las variables de tiempo, tenemos Date y YearBuilt. \n",
    "\n",
    "**Primero comentar con los chicos las transformaciones que quedaron pendientes en los ejercicios de clase y ver si usarlas.** \n",
    "\n",
    "*Podríamos crear varíables categóricas para la antiguedad que indiquen: Menos de 10 años de antiguedad, entre 10 y 20 años de antiguedad, entre 20 y 30 años de antiguedad, entre 30 y 40 años de antiguedad, etc."
   ]
  },
  {
   "cell_type": "code",
   "execution_count": null,
   "metadata": {
    "colab": {
     "base_uri": "https://localhost:8080/"
    },
    "id": "8roasL2fJ8UD",
    "outputId": "542d1989-fb79-45ee-a0ab-5a53d20ea814"
   },
   "outputs": [
    {
     "data": {
      "text/plain": [
       "count    7798.000000\n",
       "mean     1965.767120\n",
       "std        36.555041\n",
       "min      1196.000000\n",
       "25%      1950.000000\n",
       "50%      1970.000000\n",
       "75%      2000.000000\n",
       "max      2018.000000\n",
       "Name: YearBuilt, dtype: float64"
      ]
     },
     "execution_count": 33,
     "metadata": {
      "tags": []
     },
     "output_type": "execute_result"
    }
   ],
   "source": [
    "melb_df2.YearBuilt.describe()"
   ]
  },
  {
   "cell_type": "code",
   "execution_count": null,
   "metadata": {
    "colab": {
     "base_uri": "https://localhost:8080/"
    },
    "id": "Qv43hdsQKiDV",
    "outputId": "75bed220-3d34-405b-b075-29be6064d98e"
   },
   "outputs": [
    {
     "name": "stdout",
     "output_type": "stream",
     "text": [
      "Porcentaje de datos perdidos= 39.81167026860142 %\n"
     ]
    }
   ],
   "source": [
    "#Pero ojo! Tiene muchos datos faltantes.\n",
    "print(\"Porcentaje de datos perdidos=\", melb_df2.YearBuilt.isna().sum()/len(melb_df2)*100,\"%\")"
   ]
  },
  {
   "cell_type": "code",
   "execution_count": null,
   "metadata": {
    "colab": {
     "base_uri": "https://localhost:8080/"
    },
    "id": "fPDlXKbROSIy",
    "outputId": "d86f82e0-f87f-4164-cbbc-83cbe0acfec2"
   },
   "outputs": [
    {
     "data": {
      "text/plain": [
       "Index(['Suburb', 'Address', 'Rooms', 'Type', 'Price', 'Method', 'SellerG',\n",
       "       'Date', 'Distance', 'Postcode', 'Bedroom2', 'Bathroom', 'Car',\n",
       "       'Landsize', 'BuildingArea', 'YearBuilt', 'CouncilArea', 'Lattitude',\n",
       "       'Longtitude', 'Regionname', 'Propertycount'],\n",
       "      dtype='object')"
      ]
     },
     "execution_count": 35,
     "metadata": {
      "tags": []
     },
     "output_type": "execute_result"
    }
   ],
   "source": [
    "melb_df2.columns"
   ]
  },
  {
   "cell_type": "code",
   "execution_count": null,
   "metadata": {
    "id": "fX2mlwyNLZv3"
   },
   "outputs": [],
   "source": [
    "relevant_columns=['Rooms', 'Type', 'Price', 'Method',\n",
    "       'Date', 'Distance', 'Postcode', 'Bathroom', 'Car',\n",
    "       'Landsize', 'BuildingArea', 'YearBuilt', 'Lattitude',\n",
    "       'Longtitude', 'Regionname', 'Propertycount', 'SellerG']"
   ]
  },
  {
   "cell_type": "markdown",
   "metadata": {
    "id": "HQLu4qoMNZJF"
   },
   "source": [
    "En resumen, abajo se detallan las variables de dejar fuera del análisis y su justificación:\n",
    "\n",
    "Suburb, Address, CouncilArea serán dejadas de lado dado que sin conocimiento del dominio no nos sirven para vincularlas al precio, optaremos por una categorización más general para la localización (dada por Regionname), el código postal (POSTCODE) para cuando necesitemos vincular a datos de otras fuentes de datos y Latitud-Longitud cuando querramos una referencia exacta de la localización. Adicionalmente, se considera como variable relevante para predecir el precio de venta a la distancia de la casa hasta el CBD (Distance), la cual representa de una manera sintética la información de las variables que fueron eliminadas.\n",
    "\n",
    "Bethroom2 será dejada de lado por tener una alta correlación con la variable Room, con lo cual se tomará de referencia la variable Room que está más completa y confiable.\n",
    "\n",
    "Por otro lado, también dejaría de lado SellerG dado que sin conocimiento extra, no nos aporta información relevante. Tienen muchas categorías, las cuales no pueden agruparse sin conocimiento adicional, podría tener alguna correlación con Suburb o podría identificarse ciertos vendedores que se vinculen con ventas a precios más altos. Nos obstante, en esta instancia no nos aporta información relevante. **Se podría dejar para mas adelante, ver como procesarla."
   ]
  },
  {
   "cell_type": "markdown",
   "metadata": {
    "id": "APJ0lTPoG6EV"
   },
   "source": [
    "**Ejercicio 1**\n",
    "\n",
    "3. Agregar información adicional respectiva al entorno de una propiedad a partir del [conjunto de datos de AirBnB](https://www.kaggle.com/tylerx/melbourne-airbnb-open-data?select=cleansed_listings_dec18.csv) utilizado en el práctico. \n",
    "  1. Seleccionar qué variables agregar y qué combinaciones aplicar a cada una. Por ejemplo, pueden utilizar solo la columna `price`, o aplicar múltiples transformaciones como la mediana o el mínimo.\n",
    "  1. Utilizar la variable zipcode para unir los conjuntos de datos. Sólo incluir los zipcodes que tengan una cantidad mínima de registros (a elección) como para que la información agregada sea relevante.\n",
    "  2. Investigar al menos otras 2 variables que puedan servir para combinar los datos, y justificar si serían adecuadas o no. Pueden asumir que cuentan con la ayuda de anotadores expertos para encontrar equivalencias entre barrios o direcciones, o que cuentan con algoritmos para encontrar las n ubicaciones más cercanas a una propiedad a partir de sus coordenadas geográficas. **NO** es necesario que realicen la implementación.\n",
    "\n",
    "Pueden leer otras columnas del conjunto de AirBnB además de las que están en `interesting_cols`, si les parecen relevantes.\n"
   ]
  },
  {
   "cell_type": "code",
   "execution_count": null,
   "metadata": {
    "colab": {
     "base_uri": "https://localhost:8080/"
    },
    "id": "k3Z2vxNHJfJK",
    "outputId": "95ab3fa5-a041-47c7-dc3f-264c2234cd64"
   },
   "outputs": [
    {
     "name": "stderr",
     "output_type": "stream",
     "text": [
      "/usr/local/lib/python3.7/dist-packages/IPython/core/interactiveshell.py:2718: DtypeWarning:\n",
      "\n",
      "Columns (35) have mixed types.Specify dtype option on import or set low_memory=False.\n",
      "\n"
     ]
    }
   ],
   "source": [
    "# data source:\n",
    "# https://www.kaggle.com/tylerx/melbourne-airbnb-open-data?select=cleansed_listings_dec18.csv\n",
    "interesting_cols = [\n",
    "  'description', 'neighborhood_overview',\n",
    "  'street', 'neighborhood', 'city', 'suburb', 'state', 'zipcode',\n",
    "  'price', 'weekly_price', 'monthly_price',\n",
    "  'latitude', 'longitude',\n",
    "]\n",
    "airbnb_df = pandas.read_csv(\n",
    "    'https://cs.famaf.unc.edu.ar/~mteruel/datasets/diplodatos/cleansed_listings_dec18.csv',\n",
    "    usecols=interesting_cols)"
   ]
  },
  {
   "cell_type": "code",
   "execution_count": null,
   "metadata": {
    "colab": {
     "base_uri": "https://localhost:8080/"
    },
    "id": "bc55TFlhF6tP",
    "outputId": "46f97a43-5766-4441-daef-6c5d8b858aaa"
   },
   "outputs": [
    {
     "name": "stdout",
     "output_type": "stream",
     "text": [
      "<class 'pandas.core.frame.DataFrame'>\n",
      "RangeIndex: 22895 entries, 0 to 22894\n",
      "Data columns (total 13 columns):\n",
      " #   Column                 Non-Null Count  Dtype  \n",
      "---  ------                 --------------  -----  \n",
      " 0   description            22563 non-null  object \n",
      " 1   neighborhood_overview  14424 non-null  object \n",
      " 2   street                 22895 non-null  object \n",
      " 3   neighborhood           17082 non-null  object \n",
      " 4   city                   22895 non-null  object \n",
      " 5   suburb                 22872 non-null  object \n",
      " 6   state                  22834 non-null  object \n",
      " 7   zipcode                22753 non-null  object \n",
      " 8   latitude               22895 non-null  float64\n",
      " 9   longitude              22895 non-null  float64\n",
      " 10  price                  22895 non-null  int64  \n",
      " 11  weekly_price           2524 non-null   float64\n",
      " 12  monthly_price          1891 non-null   float64\n",
      "dtypes: float64(4), int64(1), object(8)\n",
      "memory usage: 2.3+ MB\n"
     ]
    }
   ],
   "source": [
    "airbnb_df.info()"
   ]
  },
  {
   "cell_type": "code",
   "execution_count": null,
   "metadata": {
    "id": "9kqJNFrEluwc"
   },
   "outputs": [],
   "source": [
    "relevant_cols = ['price', 'weekly_price', 'monthly_price', 'zipcode']\n",
    "airbnb_price_by_zipcode = airbnb_df[relevant_cols].groupby('zipcode')\\\n",
    "  .agg({'price': ['mean', 'count'], 'weekly_price': ['mean', 'count'],\n",
    "        'monthly_price': ['mean', 'count']})\\\n",
    "  .reset_index()\n",
    "# Flatten the two level columns\n",
    "airbnb_price_by_zipcode.columns = [\n",
    "  ' '.join(col).strip()\n",
    "  for col in airbnb_price_by_zipcode.columns.values]\n",
    "# Rename columns\n",
    "airbnb_price_by_zipcode = airbnb_price_by_zipcode.rename(\n",
    "    columns={'price mean': 'airbnb_price_mean',\n",
    "             'price count': 'airbnb_record_count',\n",
    "             'weekly_price mean': 'airbnb_weekly_price_mean',\n",
    "             'weekly_price count': 'airbnb_weekly_price_count',\n",
    "             'monthly_price mean': 'airbnb_monthly_price_mean',\n",
    "             'monthly_price count': 'airbnb_monthly_price_count'}\n",
    ")"
   ]
  },
  {
   "cell_type": "code",
   "execution_count": null,
   "metadata": {
    "colab": {
     "base_uri": "https://localhost:8080/"
    },
    "id": "ZMBhg6-rmpQW",
    "outputId": "2dd770b8-09c1-45ee-d236-86666bc87353"
   },
   "outputs": [
    {
     "name": "stdout",
     "output_type": "stream",
     "text": [
      "NaN de price: 0.0 %.\n",
      "NaN de weekly price: 56.803455723542115 %.\n",
      "NaN de monthly price: 60.69114470842333 %.\n"
     ]
    }
   ],
   "source": [
    "#ver bien a cuáles le pone NaN, si siempre que tenga una observación sin dato pone NaN a todo el promedio\n",
    "print(\"NaN de price:\",airbnb_price_by_zipcode.airbnb_price_mean.isna().sum()/len(airbnb_price_by_zipcode)*100,\"%.\")\n",
    "print(\"NaN de weekly price:\",airbnb_price_by_zipcode.airbnb_weekly_price_mean.isna().sum()/len(airbnb_price_by_zipcode)*100,\"%.\")\n",
    "print(\"NaN de monthly price:\",airbnb_price_by_zipcode.airbnb_monthly_price_mean.isna().sum()/len(airbnb_price_by_zipcode)*100,\"%.\")"
   ]
  },
  {
   "cell_type": "code",
   "execution_count": null,
   "metadata": {
    "colab": {
     "base_uri": "https://localhost:8080/",
     "height": 443
    },
    "id": "UquFvOZfnBtG",
    "outputId": "3c1aff7e-6bf5-49f1-e71f-88a5aa220642"
   },
   "outputs": [
    {
     "data": {
      "text/html": [
       "<div>\n",
       "<style scoped>\n",
       "    .dataframe tbody tr th:only-of-type {\n",
       "        vertical-align: middle;\n",
       "    }\n",
       "\n",
       "    .dataframe tbody tr th {\n",
       "        vertical-align: top;\n",
       "    }\n",
       "\n",
       "    .dataframe thead th {\n",
       "        text-align: right;\n",
       "    }\n",
       "</style>\n",
       "<table border=\"1\" class=\"dataframe\">\n",
       "  <thead>\n",
       "    <tr style=\"text-align: right;\">\n",
       "      <th></th>\n",
       "      <th>zipcode</th>\n",
       "      <th>airbnb_price_mean</th>\n",
       "      <th>airbnb_record_count</th>\n",
       "      <th>airbnb_weekly_price_mean</th>\n",
       "      <th>airbnb_weekly_price_count</th>\n",
       "      <th>airbnb_monthly_price_mean</th>\n",
       "      <th>airbnb_monthly_price_count</th>\n",
       "    </tr>\n",
       "  </thead>\n",
       "  <tbody>\n",
       "    <tr>\n",
       "      <th>0</th>\n",
       "      <td>2010</td>\n",
       "      <td>40.000000</td>\n",
       "      <td>1</td>\n",
       "      <td>NaN</td>\n",
       "      <td>0</td>\n",
       "      <td>NaN</td>\n",
       "      <td>0</td>\n",
       "    </tr>\n",
       "    <tr>\n",
       "      <th>1</th>\n",
       "      <td>2134</td>\n",
       "      <td>50.000000</td>\n",
       "      <td>1</td>\n",
       "      <td>NaN</td>\n",
       "      <td>0</td>\n",
       "      <td>NaN</td>\n",
       "      <td>0</td>\n",
       "    </tr>\n",
       "    <tr>\n",
       "      <th>2</th>\n",
       "      <td>2582</td>\n",
       "      <td>104.000000</td>\n",
       "      <td>1</td>\n",
       "      <td>NaN</td>\n",
       "      <td>0</td>\n",
       "      <td>NaN</td>\n",
       "      <td>0</td>\n",
       "    </tr>\n",
       "    <tr>\n",
       "      <th>3</th>\n",
       "      <td>3000</td>\n",
       "      <td>149.236050</td>\n",
       "      <td>2491</td>\n",
       "      <td>804.000000</td>\n",
       "      <td>2</td>\n",
       "      <td>3469.0</td>\n",
       "      <td>2</td>\n",
       "    </tr>\n",
       "    <tr>\n",
       "      <th>4</th>\n",
       "      <td>3001</td>\n",
       "      <td>120.000000</td>\n",
       "      <td>1</td>\n",
       "      <td>NaN</td>\n",
       "      <td>0</td>\n",
       "      <td>NaN</td>\n",
       "      <td>0</td>\n",
       "    </tr>\n",
       "    <tr>\n",
       "      <th>...</th>\n",
       "      <td>...</td>\n",
       "      <td>...</td>\n",
       "      <td>...</td>\n",
       "      <td>...</td>\n",
       "      <td>...</td>\n",
       "      <td>...</td>\n",
       "      <td>...</td>\n",
       "    </tr>\n",
       "    <tr>\n",
       "      <th>458</th>\n",
       "      <td>3977</td>\n",
       "      <td>79.105263</td>\n",
       "      <td>19</td>\n",
       "      <td>422.000000</td>\n",
       "      <td>4</td>\n",
       "      <td>1025.0</td>\n",
       "      <td>2</td>\n",
       "    </tr>\n",
       "    <tr>\n",
       "      <th>459</th>\n",
       "      <td>3978</td>\n",
       "      <td>197.250000</td>\n",
       "      <td>4</td>\n",
       "      <td>950.666667</td>\n",
       "      <td>3</td>\n",
       "      <td>7770.0</td>\n",
       "      <td>1</td>\n",
       "    </tr>\n",
       "    <tr>\n",
       "      <th>460</th>\n",
       "      <td>3980</td>\n",
       "      <td>60.000000</td>\n",
       "      <td>1</td>\n",
       "      <td>NaN</td>\n",
       "      <td>0</td>\n",
       "      <td>NaN</td>\n",
       "      <td>0</td>\n",
       "    </tr>\n",
       "    <tr>\n",
       "      <th>461</th>\n",
       "      <td>VIC</td>\n",
       "      <td>150.000000</td>\n",
       "      <td>1</td>\n",
       "      <td>NaN</td>\n",
       "      <td>0</td>\n",
       "      <td>NaN</td>\n",
       "      <td>0</td>\n",
       "    </tr>\n",
       "    <tr>\n",
       "      <th>462</th>\n",
       "      <td>VIC 3161</td>\n",
       "      <td>195.000000</td>\n",
       "      <td>1</td>\n",
       "      <td>NaN</td>\n",
       "      <td>0</td>\n",
       "      <td>NaN</td>\n",
       "      <td>0</td>\n",
       "    </tr>\n",
       "  </tbody>\n",
       "</table>\n",
       "<p>463 rows × 7 columns</p>\n",
       "</div>"
      ],
      "text/plain": [
       "      zipcode  ...  airbnb_monthly_price_count\n",
       "0        2010  ...                           0\n",
       "1        2134  ...                           0\n",
       "2        2582  ...                           0\n",
       "3        3000  ...                           2\n",
       "4        3001  ...                           0\n",
       "..        ...  ...                         ...\n",
       "458      3977  ...                           2\n",
       "459      3978  ...                           1\n",
       "460      3980  ...                           0\n",
       "461       VIC  ...                           0\n",
       "462  VIC 3161  ...                           0\n",
       "\n",
       "[463 rows x 7 columns]"
      ]
     },
     "execution_count": 41,
     "metadata": {
      "tags": []
     },
     "output_type": "execute_result"
    }
   ],
   "source": [
    "airbnb_price_by_zipcode[:]"
   ]
  },
  {
   "cell_type": "code",
   "execution_count": null,
   "metadata": {
    "id": "bX6mDoHQxu9H"
   },
   "outputs": [],
   "source": [
    "airbnb_price_by_zipcode=airbnb_price_by_zipcode[airbnb_price_by_zipcode.airbnb_monthly_price_count>10]"
   ]
  },
  {
   "cell_type": "code",
   "execution_count": null,
   "metadata": {
    "id": "qv_I96U1lRM3"
   },
   "outputs": [],
   "source": [
    "airbnb_price_by_zipcode['zipcode'] = pandas.to_numeric(airbnb_df.zipcode, errors='coerce')"
   ]
  },
  {
   "cell_type": "code",
   "execution_count": null,
   "metadata": {
    "id": "WD_7qh2K2Wr7"
   },
   "outputs": [],
   "source": [
    "merged_sales_df = melb_df2.merge(\n",
    "    airbnb_price_by_zipcode, how='left',\n",
    "    left_on='Postcode', right_on='zipcode'\n",
    ")"
   ]
  },
  {
   "cell_type": "markdown",
   "metadata": {
    "id": "Q2yDaMR023ty"
   },
   "source": [
    "Otras maneras posibles de hacer el merge podrían ser:\n",
    "- Explorar la variable suburb y ver cuántas coincidencias hay/no hay, sería una posibilidad. \n",
    "- La otra posibilidad sería pensar coincidencias por latitud-longitud, armar grupos de zonas en base a coordenadas. Armar los gurpos de igual manera en los dos datasets y unirlos en base a esa variable key.\n",
    "- Otra alternativa sería asociarla con el precio promedio de las casas que se encuentran más cerca. Diseñar algún algoritmo que mida distancias hacia a algún punto según lat y longitud, y luego definir un delta máximo para la distancia permitida."
   ]
  },
  {
   "cell_type": "markdown",
   "metadata": {
    "id": "ismngxPcfoWb"
   },
   "source": [
    "## Ejercicio 2: Imputación\n",
    "\n",
    "1. Imputar los valores faltantes de la columna CouncilArea en base a la información presente en Suburb. (Si en el punto anterior no seleccionó ninguna de estas variables, agréguelas ahora el conjunto de datos).\n",
    "\n",
    "2. Imputar los valores faltantes de la(s) columna(s) que se agregaron a partir del conjunto de datos de AirBnB.\n",
    "\n"
   ]
  },
  {
   "cell_type": "code",
   "execution_count": null,
   "metadata": {
    "id": "G4ClSr_JapCw"
   },
   "outputs": [],
   "source": [
    "#notar que la variable CouncilArea representa el Gobierno"
   ]
  },
  {
   "cell_type": "code",
   "execution_count": null,
   "metadata": {
    "colab": {
     "base_uri": "https://localhost:8080/"
    },
    "id": "SBUql8bT6bw1",
    "outputId": "7fd91744-4812-4e25-c30f-28abed81b614"
   },
   "outputs": [
    {
     "name": "stdout",
     "output_type": "stream",
     "text": [
      "NaN de Suburbio= 0\n",
      "NaN de CouncilArea= 1369\n"
     ]
    }
   ],
   "source": [
    "print(\"NaN de Suburbio=\", melb_df.Suburb.isna().sum())\n",
    "print(\"NaN de CouncilArea=\", melb_df.CouncilArea.isna().sum())"
   ]
  },
  {
   "cell_type": "code",
   "execution_count": null,
   "metadata": {
    "colab": {
     "base_uri": "https://localhost:8080/"
    },
    "id": "m4wzZetc60D-",
    "outputId": "0e786abf-4555-4015-b78e-642ef80c2957"
   },
   "outputs": [
    {
     "data": {
      "text/plain": [
       "count         13580\n",
       "unique          314\n",
       "top       Reservoir\n",
       "freq            359\n",
       "Name: Suburb, dtype: object"
      ]
     },
     "execution_count": 47,
     "metadata": {
      "tags": []
     },
     "output_type": "execute_result"
    }
   ],
   "source": [
    "melb_df.Suburb.describe()    #314 categorías para Suburb"
   ]
  },
  {
   "cell_type": "code",
   "execution_count": null,
   "metadata": {
    "colab": {
     "base_uri": "https://localhost:8080/"
    },
    "id": "6_P6HVj36z_u",
    "outputId": "2b227993-13cb-437e-f5c6-eef4ab7fde76"
   },
   "outputs": [
    {
     "data": {
      "text/plain": [
       "count        12211\n",
       "unique          33\n",
       "top       Moreland\n",
       "freq          1163\n",
       "Name: CouncilArea, dtype: object"
      ]
     },
     "execution_count": 48,
     "metadata": {
      "tags": []
     },
     "output_type": "execute_result"
    }
   ],
   "source": [
    "melb_df.CouncilArea.describe()    #33 categorías para CouncilArea, con lo cual un CouncilArea abarca a más de un Suburbio"
   ]
  },
  {
   "cell_type": "code",
   "execution_count": null,
   "metadata": {
    "colab": {
     "base_uri": "https://localhost:8080/",
     "height": 406
    },
    "id": "eQMvrvfq5XUJ",
    "outputId": "17a3982b-9721-48d5-fd01-ff29bcf6beed"
   },
   "outputs": [
    {
     "data": {
      "text/html": [
       "<div>\n",
       "<style scoped>\n",
       "    .dataframe tbody tr th:only-of-type {\n",
       "        vertical-align: middle;\n",
       "    }\n",
       "\n",
       "    .dataframe tbody tr th {\n",
       "        vertical-align: top;\n",
       "    }\n",
       "\n",
       "    .dataframe thead th {\n",
       "        text-align: right;\n",
       "    }\n",
       "</style>\n",
       "<table border=\"1\" class=\"dataframe\">\n",
       "  <thead>\n",
       "    <tr style=\"text-align: right;\">\n",
       "      <th></th>\n",
       "      <th>CouncilArea</th>\n",
       "      <th>Suburb</th>\n",
       "    </tr>\n",
       "  </thead>\n",
       "  <tbody>\n",
       "    <tr>\n",
       "      <th>0</th>\n",
       "      <td>Yarra</td>\n",
       "      <td>Abbotsford</td>\n",
       "    </tr>\n",
       "    <tr>\n",
       "      <th>1</th>\n",
       "      <td>Yarra</td>\n",
       "      <td>Abbotsford</td>\n",
       "    </tr>\n",
       "    <tr>\n",
       "      <th>2</th>\n",
       "      <td>Yarra</td>\n",
       "      <td>Abbotsford</td>\n",
       "    </tr>\n",
       "    <tr>\n",
       "      <th>3</th>\n",
       "      <td>Yarra</td>\n",
       "      <td>Abbotsford</td>\n",
       "    </tr>\n",
       "    <tr>\n",
       "      <th>4</th>\n",
       "      <td>Yarra</td>\n",
       "      <td>Abbotsford</td>\n",
       "    </tr>\n",
       "    <tr>\n",
       "      <th>...</th>\n",
       "      <td>...</td>\n",
       "      <td>...</td>\n",
       "    </tr>\n",
       "    <tr>\n",
       "      <th>13575</th>\n",
       "      <td>NaN</td>\n",
       "      <td>Wheelers Hill</td>\n",
       "    </tr>\n",
       "    <tr>\n",
       "      <th>13576</th>\n",
       "      <td>NaN</td>\n",
       "      <td>Williamstown</td>\n",
       "    </tr>\n",
       "    <tr>\n",
       "      <th>13577</th>\n",
       "      <td>NaN</td>\n",
       "      <td>Williamstown</td>\n",
       "    </tr>\n",
       "    <tr>\n",
       "      <th>13578</th>\n",
       "      <td>NaN</td>\n",
       "      <td>Williamstown</td>\n",
       "    </tr>\n",
       "    <tr>\n",
       "      <th>13579</th>\n",
       "      <td>NaN</td>\n",
       "      <td>Yarraville</td>\n",
       "    </tr>\n",
       "  </tbody>\n",
       "</table>\n",
       "<p>13580 rows × 2 columns</p>\n",
       "</div>"
      ],
      "text/plain": [
       "      CouncilArea         Suburb\n",
       "0           Yarra     Abbotsford\n",
       "1           Yarra     Abbotsford\n",
       "2           Yarra     Abbotsford\n",
       "3           Yarra     Abbotsford\n",
       "4           Yarra     Abbotsford\n",
       "...           ...            ...\n",
       "13575         NaN  Wheelers Hill\n",
       "13576         NaN   Williamstown\n",
       "13577         NaN   Williamstown\n",
       "13578         NaN   Williamstown\n",
       "13579         NaN     Yarraville\n",
       "\n",
       "[13580 rows x 2 columns]"
      ]
     },
     "execution_count": 49,
     "metadata": {
      "tags": []
     },
     "output_type": "execute_result"
    }
   ],
   "source": [
    "melb_df[[\"CouncilArea\",\"Suburb\"]]"
   ]
  },
  {
   "cell_type": "markdown",
   "metadata": {
    "id": "NBN7-5OIxjJW"
   },
   "source": [
    "## Ejercicio 3\n",
    "\n",
    "Crear y guardar un nuevo conjunto de datos con todas las transformaciones realizadas anteriormente."
   ]
  },
  {
   "cell_type": "code",
   "execution_count": null,
   "metadata": {
    "id": "DfchYPgTxvQ4"
   },
   "outputs": [],
   "source": []
  },
  {
   "cell_type": "markdown",
   "metadata": {
    "id": "Bq7nuPg2HIYx"
   },
   "source": []
  }
 ],
 "metadata": {
  "colab": {
   "collapsed_sections": [],
   "name": "Copy of Entregable - Parte 1.ipynb",
   "provenance": []
  },
  "kernelspec": {
   "display_name": "Python 3",
   "language": "python",
   "name": "python3"
  },
  "language_info": {
   "codemirror_mode": {
    "name": "ipython",
    "version": 3
   },
   "file_extension": ".py",
   "mimetype": "text/x-python",
   "name": "python",
   "nbconvert_exporter": "python",
   "pygments_lexer": "ipython3",
   "version": "3.8.5"
  }
 },
 "nbformat": 4,
 "nbformat_minor": 4
}
