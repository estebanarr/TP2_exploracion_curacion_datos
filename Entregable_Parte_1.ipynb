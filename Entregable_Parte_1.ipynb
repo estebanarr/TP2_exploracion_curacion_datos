{
 "cells": [
  {
   "cell_type": "markdown",
   "metadata": {
    "id": "zO4bRoxr2Apy"
   },
   "source": [
    "**Diplomatura en Ciencia de Datos, Aprendizaje Automático y sus Aplicaciones**\n",
    "\n",
    "**Exploración y Curación de Datos**\n",
    "\n",
    "*Edición 2021*\n",
    "\n",
    "----\n",
    "\n",
    "# Trabajo práctico entregable - parte 1 - Ejercicio 1\n",
    "\n",
    "En esta notebook, vamos a cargar el conjunto de datos de [la compentencia Kaggle](https://www.kaggle.com/dansbecker/melbourne-housing-snapshot) sobre estimación de precios de ventas de propiedades en Melbourne, Australia.\n",
    "\n",
    "Utilizaremos el conjunto de datos reducido producido por [DanB](https://www.kaggle.com/dansbecker). Hemos subido una copia a un servidor de la Universidad Nacional de Córdoba para facilitar su acceso remoto.."
   ]
  },
  {
   "cell_type": "code",
   "execution_count": 1,
   "metadata": {
    "id": "4udjxjk1EtVU"
   },
   "outputs": [],
   "source": [
    "import matplotlib.pyplot as plt\n",
    "import numpy as np\n",
    "import pandas \n",
    "import seaborn as sns\n",
    "sns.set_context('talk')"
   ]
  },
  {
   "cell_type": "code",
   "execution_count": 2,
   "metadata": {
    "colab": {
     "base_uri": "https://localhost:8080/",
     "height": 34
    },
    "id": "3XdIsB8hISis",
    "outputId": "763f4b55-71cc-4174-d433-e3982b5678c4"
   },
   "outputs": [
    {
     "data": {
      "text/plain": [
       "'4.14.3'"
      ]
     },
     "execution_count": 2,
     "metadata": {},
     "output_type": "execute_result"
    }
   ],
   "source": [
    "import plotly\n",
    "plotly.__version__\n",
    "# Make sure it's 4.14.3"
   ]
  },
  {
   "cell_type": "code",
   "execution_count": null,
   "metadata": {
    "id": "i2nqY0GGIVn2"
   },
   "outputs": [],
   "source": [
    "# To update plotly, uncomment and run the following line:\n",
    "#!pip install plotly --upgrade"
   ]
  },
  {
   "cell_type": "code",
   "execution_count": 2,
   "metadata": {
    "colab": {
     "base_uri": "https://localhost:8080/",
     "height": 230
    },
    "id": "_qeFN3GnEvMk",
    "outputId": "806ad36a-892a-4693-f6d2-4675419464f6"
   },
   "outputs": [
    {
     "data": {
      "text/html": [
       "<div>\n",
       "<style scoped>\n",
       "    .dataframe tbody tr th:only-of-type {\n",
       "        vertical-align: middle;\n",
       "    }\n",
       "\n",
       "    .dataframe tbody tr th {\n",
       "        vertical-align: top;\n",
       "    }\n",
       "\n",
       "    .dataframe thead th {\n",
       "        text-align: right;\n",
       "    }\n",
       "</style>\n",
       "<table border=\"1\" class=\"dataframe\">\n",
       "  <thead>\n",
       "    <tr style=\"text-align: right;\">\n",
       "      <th></th>\n",
       "      <th>Suburb</th>\n",
       "      <th>Address</th>\n",
       "      <th>Rooms</th>\n",
       "      <th>Type</th>\n",
       "      <th>Price</th>\n",
       "      <th>Method</th>\n",
       "      <th>SellerG</th>\n",
       "      <th>Date</th>\n",
       "      <th>Distance</th>\n",
       "      <th>Postcode</th>\n",
       "      <th>...</th>\n",
       "      <th>Bathroom</th>\n",
       "      <th>Car</th>\n",
       "      <th>Landsize</th>\n",
       "      <th>BuildingArea</th>\n",
       "      <th>YearBuilt</th>\n",
       "      <th>CouncilArea</th>\n",
       "      <th>Lattitude</th>\n",
       "      <th>Longtitude</th>\n",
       "      <th>Regionname</th>\n",
       "      <th>Propertycount</th>\n",
       "    </tr>\n",
       "  </thead>\n",
       "  <tbody>\n",
       "    <tr>\n",
       "      <th>0</th>\n",
       "      <td>Abbotsford</td>\n",
       "      <td>85 Turner St</td>\n",
       "      <td>2</td>\n",
       "      <td>h</td>\n",
       "      <td>1480000.0</td>\n",
       "      <td>S</td>\n",
       "      <td>Biggin</td>\n",
       "      <td>3/12/2016</td>\n",
       "      <td>2.5</td>\n",
       "      <td>3067.0</td>\n",
       "      <td>...</td>\n",
       "      <td>1.0</td>\n",
       "      <td>1.0</td>\n",
       "      <td>202.0</td>\n",
       "      <td>NaN</td>\n",
       "      <td>NaN</td>\n",
       "      <td>Yarra</td>\n",
       "      <td>-37.7996</td>\n",
       "      <td>144.9984</td>\n",
       "      <td>Northern Metropolitan</td>\n",
       "      <td>4019.0</td>\n",
       "    </tr>\n",
       "    <tr>\n",
       "      <th>1</th>\n",
       "      <td>Abbotsford</td>\n",
       "      <td>25 Bloomburg St</td>\n",
       "      <td>2</td>\n",
       "      <td>h</td>\n",
       "      <td>1035000.0</td>\n",
       "      <td>S</td>\n",
       "      <td>Biggin</td>\n",
       "      <td>4/02/2016</td>\n",
       "      <td>2.5</td>\n",
       "      <td>3067.0</td>\n",
       "      <td>...</td>\n",
       "      <td>1.0</td>\n",
       "      <td>0.0</td>\n",
       "      <td>156.0</td>\n",
       "      <td>79.0</td>\n",
       "      <td>1900.0</td>\n",
       "      <td>Yarra</td>\n",
       "      <td>-37.8079</td>\n",
       "      <td>144.9934</td>\n",
       "      <td>Northern Metropolitan</td>\n",
       "      <td>4019.0</td>\n",
       "    </tr>\n",
       "    <tr>\n",
       "      <th>2</th>\n",
       "      <td>Abbotsford</td>\n",
       "      <td>5 Charles St</td>\n",
       "      <td>3</td>\n",
       "      <td>h</td>\n",
       "      <td>1465000.0</td>\n",
       "      <td>SP</td>\n",
       "      <td>Biggin</td>\n",
       "      <td>4/03/2017</td>\n",
       "      <td>2.5</td>\n",
       "      <td>3067.0</td>\n",
       "      <td>...</td>\n",
       "      <td>2.0</td>\n",
       "      <td>0.0</td>\n",
       "      <td>134.0</td>\n",
       "      <td>150.0</td>\n",
       "      <td>1900.0</td>\n",
       "      <td>Yarra</td>\n",
       "      <td>-37.8093</td>\n",
       "      <td>144.9944</td>\n",
       "      <td>Northern Metropolitan</td>\n",
       "      <td>4019.0</td>\n",
       "    </tr>\n",
       "  </tbody>\n",
       "</table>\n",
       "<p>3 rows × 21 columns</p>\n",
       "</div>"
      ],
      "text/plain": [
       "       Suburb          Address  Rooms Type      Price Method SellerG  \\\n",
       "0  Abbotsford     85 Turner St      2    h  1480000.0      S  Biggin   \n",
       "1  Abbotsford  25 Bloomburg St      2    h  1035000.0      S  Biggin   \n",
       "2  Abbotsford     5 Charles St      3    h  1465000.0     SP  Biggin   \n",
       "\n",
       "        Date  Distance  Postcode  ...  Bathroom  Car  Landsize  BuildingArea  \\\n",
       "0  3/12/2016       2.5    3067.0  ...       1.0  1.0     202.0           NaN   \n",
       "1  4/02/2016       2.5    3067.0  ...       1.0  0.0     156.0          79.0   \n",
       "2  4/03/2017       2.5    3067.0  ...       2.0  0.0     134.0         150.0   \n",
       "\n",
       "   YearBuilt  CouncilArea Lattitude  Longtitude             Regionname  \\\n",
       "0        NaN        Yarra  -37.7996    144.9984  Northern Metropolitan   \n",
       "1     1900.0        Yarra  -37.8079    144.9934  Northern Metropolitan   \n",
       "2     1900.0        Yarra  -37.8093    144.9944  Northern Metropolitan   \n",
       "\n",
       "  Propertycount  \n",
       "0        4019.0  \n",
       "1        4019.0  \n",
       "2        4019.0  \n",
       "\n",
       "[3 rows x 21 columns]"
      ]
     },
     "execution_count": 2,
     "metadata": {},
     "output_type": "execute_result"
    }
   ],
   "source": [
    "melb_df = pandas.read_csv(\n",
    "    'https://cs.famaf.unc.edu.ar/~mteruel/datasets/diplodatos/melb_data.csv')\n",
    "melb_df[:3]"
   ]
  },
  {
   "cell_type": "markdown",
   "metadata": {
    "id": "s-mixICN22kA"
   },
   "source": [
    "## Ejercicio 1: \n",
    "\n",
    "1. Eliminar los valores extremos que no sean relevantes para la predicción de valores de las propiedades.\n",
    "\n",
    "1. Investigar la distribución de las variables del conjunto de datos y seleccionar un subconjunto de columnas que les parezcan relevantes al problema de predicción del valor de la propiedad.\n",
    "  1. Justificar cada columna no seleccionada.\n",
    "  2. Para las variables categóricas seleccionadas, agrupe o combine las categorías poco frecuentes para asegurar que todos los grupos tengan un número mínimo de registros.\n",
    "\n",
    "2. Agregar información adicional respectiva al entorno de una propiedad a partir del [conjunto de datos de AirBnB](https://www.kaggle.com/tylerx/melbourne-airbnb-open-data?select=cleansed_listings_dec18.csv) utilizado en el práctico. \n",
    "  1. Seleccionar qué variables agregar y qué combinaciones aplicar a cada una. Por ejemplo, pueden utilizar solo la columna `price`, o aplicar múltiples transformaciones como la mediana o el mínimo.\n",
    "  1. Utilizar la variable zipcode para unir los conjuntos de datos. Sólo incluir los zipcodes que tengan una cantidad mínima de registros (a elección) como para que la información agregada sea relevante.\n",
    "  2. Investigar al menos otras 2 variables que puedan servir para combinar los datos, y justificar si serían adecuadas o no. Pueden asumir que cuentan con la ayuda de anotadores expertos para encontrar equivalencias entre barrios o direcciones, o que cuentan con algoritmos para encontrar las n ubicaciones más cercanas a una propiedad a partir de sus coordenadas geográficas. **NO** es necesario que realicen la implementación.\n",
    "\n",
    "Pueden leer otras columnas del conjunto de AirBnB además de las que están en `interesting_cols`, si les parecen relevantes.\n"
   ]
  },
  {
   "cell_type": "markdown",
   "metadata": {
    "id": "6oGbUtGW7QSq"
   },
   "source": [
    "**Punto 1**"
   ]
  },
  {
   "cell_type": "code",
   "execution_count": 3,
   "metadata": {
    "colab": {
     "base_uri": "https://localhost:8080/"
    },
    "id": "cO2gHKVQv8Ri",
    "outputId": "6795bf12-92a3-400f-e377-748434a5cf38"
   },
   "outputs": [
    {
     "name": "stdout",
     "output_type": "stream",
     "text": [
      "<class 'pandas.core.frame.DataFrame'>\n",
      "RangeIndex: 13580 entries, 0 to 13579\n",
      "Data columns (total 21 columns):\n",
      " #   Column         Non-Null Count  Dtype  \n",
      "---  ------         --------------  -----  \n",
      " 0   Suburb         13580 non-null  object \n",
      " 1   Address        13580 non-null  object \n",
      " 2   Rooms          13580 non-null  int64  \n",
      " 3   Type           13580 non-null  object \n",
      " 4   Price          13580 non-null  float64\n",
      " 5   Method         13580 non-null  object \n",
      " 6   SellerG        13580 non-null  object \n",
      " 7   Date           13580 non-null  object \n",
      " 8   Distance       13580 non-null  float64\n",
      " 9   Postcode       13580 non-null  float64\n",
      " 10  Bedroom2       13580 non-null  float64\n",
      " 11  Bathroom       13580 non-null  float64\n",
      " 12  Car            13518 non-null  float64\n",
      " 13  Landsize       13580 non-null  float64\n",
      " 14  BuildingArea   7130 non-null   float64\n",
      " 15  YearBuilt      8205 non-null   float64\n",
      " 16  CouncilArea    12211 non-null  object \n",
      " 17  Lattitude      13580 non-null  float64\n",
      " 18  Longtitude     13580 non-null  float64\n",
      " 19  Regionname     13580 non-null  object \n",
      " 20  Propertycount  13580 non-null  float64\n",
      "dtypes: float64(12), int64(1), object(8)\n",
      "memory usage: 2.2+ MB\n"
     ]
    }
   ],
   "source": [
    "#Análisis de valores extremos sobre la distribución del precio\n",
    "melb_df.info()"
   ]
  },
  {
   "cell_type": "code",
   "execution_count": 4,
   "metadata": {
    "colab": {
     "base_uri": "https://localhost:8080/"
    },
    "id": "uvctdFyxxcDE",
    "outputId": "05234523-09ae-4577-c139-48f4e1835a53"
   },
   "outputs": [
    {
     "data": {
      "text/plain": [
       "count      13580.0\n",
       "mean     1075684.0\n",
       "std       639311.0\n",
       "min        85000.0\n",
       "25%       650000.0\n",
       "50%       903000.0\n",
       "75%      1330000.0\n",
       "max      9000000.0\n",
       "Name: Price, dtype: float64"
      ]
     },
     "execution_count": 4,
     "metadata": {},
     "output_type": "execute_result"
    }
   ],
   "source": [
    "melb_df.Price.describe().round()   #La variable precio no tiene datos faltantes, tiene un mínimo de $85.000 y un máximo de $9.000.000."
   ]
  },
  {
   "cell_type": "code",
   "execution_count": 5,
   "metadata": {
    "colab": {
     "base_uri": "https://localhost:8080/",
     "height": 572
    },
    "id": "wnDD67qUxTdN",
    "outputId": "9a4600a2-3717-453a-ec30-d4216ec39e5b"
   },
   "outputs": [
    {
     "name": "stderr",
     "output_type": "stream",
     "text": [
      "C:\\Users\\usuario\\anaconda3\\lib\\site-packages\\seaborn\\_decorators.py:36: FutureWarning: Pass the following variable as a keyword arg: x. From version 0.12, the only valid positional argument will be `data`, and passing other arguments without an explicit keyword will result in an error or misinterpretation.\n",
      "  warnings.warn(\n",
      "C:\\Users\\usuario\\anaconda3\\lib\\site-packages\\seaborn\\distributions.py:2551: FutureWarning: `distplot` is a deprecated function and will be removed in a future version. Please adapt your code to use either `displot` (a figure-level function with similar flexibility) or `histplot` (an axes-level function for histograms).\n",
      "  warnings.warn(msg, FutureWarning)\n"
     ]
    },
    {
     "data": {
      "image/png": "[encoded data removed]",
      "text/plain": [
       "<Figure size 720x504 with 2 Axes>"
      ]
     },
     "metadata": {
      "needs_background": "light"
     },
     "output_type": "display_data"
    }
   ],
   "source": [
    "f, (ax_box, ax_hist) = plt.subplots(2, sharex=True, figsize=(10,7),gridspec_kw={\"height_ratios\": (.15, .85)})\n",
    " \n",
    "#Se añade un gráfico a cada parte\n",
    "\n",
    "sns.boxplot(melb_df.Price, ax=ax_box)\n",
    "sns.distplot(melb_df.Price, ax=ax_hist, kde=False, hist=False)\n",
    "sns.distplot(melb_df.Price, ax=ax_hist, kde=True, hist=True,norm_hist=False)\n",
    "\n",
    "plt.axvline(melb_df.Price.quantile(0.25))\n",
    "plt.axvline(melb_df.Price.quantile(0.50),color='g')\n",
    "plt.axvline(melb_df.Price.quantile(0.75))\n",
    "plt.ticklabel_format(style='plain', axis='x') \n",
    " \n",
    "ax_box.set_title(\"Distribución de los valores de las propiedades en Melbourne\")\n",
    "plt.show()\n"
   ]
  },
  {
   "cell_type": "markdown",
   "metadata": {
    "id": "BQTl6VExzVbK"
   },
   "source": [
    "Se advierte que la distribución de los valores de las propiedades en Melbourne está sesgada a la izquierda (o asimétrica derecha), con un valor mínimo de 85.000 y un máximo de 9.000.000.\n",
    "Si bien no contamos con un conocimiento previo sobre la temática, podríamos concluir a partir del boxplot que existen ciertos valores outliers para el valor de las propiedades sobre todo entre aquellos valores más altos. Estos podrían ser eliminados para no afectar la capacidad de predecir el valor de venta las propiedades a futuro. Dado el escaso conocimiento que tenemos sobre la temática, se optará por emplear el criterio del rango intercuartílico para eliminación de datos outliers."
   ]
  },
  {
   "cell_type": "code",
   "execution_count": 6,
   "metadata": {
    "colab": {
     "base_uri": "https://localhost:8080/"
    },
    "id": "4A42h6fe2D_G",
    "outputId": "22f77d21-e261-4155-a28a-d5219f5d84e8"
   },
   "outputs": [
    {
     "name": "stdout",
     "output_type": "stream",
     "text": [
      "Nuevo mínimo= -370000.0\n",
      "Nuevo máximo= 2350000.0\n"
     ]
    }
   ],
   "source": [
    "melb_df.Price.quantile(.95).round()\n",
    "#Se podría definir una regla objetiva para eliminar datos outliers como: 1.5 veces el RI por encima o por debajo de los cuartiles 1 y 3. \n",
    "q25=melb_df.Price.quantile(.25)\n",
    "q75=melb_df.Price.quantile(.75)\n",
    "RI=q75-q25\n",
    "min=q25-1.5*RI\n",
    "max=q75+1.5*RI\n",
    "print(\"Nuevo mínimo=\", min)   #como el mínimo es negativo, tomaría cero como el mínimo. Es decir, solo restringiríamos la cola derecha de la distribución\n",
    "print(\"Nuevo máximo=\", max)"
   ]
  },
  {
   "cell_type": "code",
   "execution_count": 7,
   "metadata": {
    "id": "1Hfxxych30Vs"
   },
   "outputs": [],
   "source": [
    "#Eliminación de los valores outliers de la variable Precio\n",
    "melb_df2=melb_df[melb_df.Price<max]"
   ]
  },
  {
   "cell_type": "code",
   "execution_count": 8,
   "metadata": {
    "colab": {
     "base_uri": "https://localhost:8080/",
     "height": 426
    },
    "id": "eMPYXbz455nP",
    "outputId": "3a3658cf-7277-4b25-a12d-e1b726884104"
   },
   "outputs": [
    {
     "name": "stderr",
     "output_type": "stream",
     "text": [
      "C:\\Users\\usuario\\anaconda3\\lib\\site-packages\\seaborn\\distributions.py:2551: FutureWarning: `distplot` is a deprecated function and will be removed in a future version. Please adapt your code to use either `displot` (a figure-level function with similar flexibility) or `histplot` (an axes-level function for histograms).\n",
      "  warnings.warn(msg, FutureWarning)\n"
     ]
    },
    {
     "data": {
      "image/png": "[encoded data removed]",
      "text/plain": [
       "<Figure size 720x360 with 1 Axes>"
      ]
     },
     "metadata": {
      "needs_background": "light"
     },
     "output_type": "display_data"
    }
   ],
   "source": [
    "plt.figure(figsize=(10,5))\n",
    "sns.distplot(melb_df2.Price, kde=False, hist=False)\n",
    "sns.distplot(melb_df2.Price, kde=True, hist=True,norm_hist=False)\n",
    "\n",
    "plt.axvline(melb_df2.Price.quantile(0.25))\n",
    "plt.axvline(melb_df2.Price.quantile(0.50),color='g')\n",
    "plt.axvline(melb_df2.Price.quantile(0.75))\n",
    "plt.ticklabel_format(style='plain', axis='x') \n",
    " \n",
    "ax_box.set_title(\"Distribución de los valores de las propiedades en Melbourne, sin datos outliers\")\n",
    "plt.show()"
   ]
  },
  {
   "cell_type": "markdown",
   "metadata": {
    "id": "O4rQmz2_7d1V"
   },
   "source": [
    "*melb_df2* es el dataset que usaremos en adelante, con la variable precio filtrada y sin datos outliers.*melb_df2* es el dataset que usaremos en adelante. El mismo cuenta con la variable Precio filtrada y sin datos outliers."
   ]
  },
  {
   "cell_type": "markdown",
   "metadata": {
    "id": "ssq4FbOY7uv7"
   },
   "source": [
    "**Punto 2**\n",
    "1. Investigar la distribución de las variables del conjunto de datos y seleccionar un subconjunto de columnas que les parezcan relevantes al problema de predicción del valor de la propiedad.\n",
    "  1. Justificar cada columna no seleccionada.\n",
    "  2. Para las variables categóricas seleccionadas, agrupe o combine las categorías poco frecuentes para asegurar que todos los grupos tengan un número mínimo de registros."
   ]
  },
  {
   "cell_type": "code",
   "execution_count": 9,
   "metadata": {
    "colab": {
     "base_uri": "https://localhost:8080/"
    },
    "id": "jz2ODztv7uX2",
    "outputId": "3ccadeec-3b04-48d2-d6b1-ab81798bd256"
   },
   "outputs": [
    {
     "name": "stdout",
     "output_type": "stream",
     "text": [
      "<class 'pandas.core.frame.DataFrame'>\n",
      "Int64Index: 12956 entries, 0 to 13579\n",
      "Data columns (total 21 columns):\n",
      " #   Column         Non-Null Count  Dtype  \n",
      "---  ------         --------------  -----  \n",
      " 0   Suburb         12956 non-null  object \n",
      " 1   Address        12956 non-null  object \n",
      " 2   Rooms          12956 non-null  int64  \n",
      " 3   Type           12956 non-null  object \n",
      " 4   Price          12956 non-null  float64\n",
      " 5   Method         12956 non-null  object \n",
      " 6   SellerG        12956 non-null  object \n",
      " 7   Date           12956 non-null  object \n",
      " 8   Distance       12956 non-null  float64\n",
      " 9   Postcode       12956 non-null  float64\n",
      " 10  Bedroom2       12956 non-null  float64\n",
      " 11  Bathroom       12956 non-null  float64\n",
      " 12  Car            12897 non-null  float64\n",
      " 13  Landsize       12956 non-null  float64\n",
      " 14  BuildingArea   6766 non-null   float64\n",
      " 15  YearBuilt      7798 non-null   float64\n",
      " 16  CouncilArea    11670 non-null  object \n",
      " 17  Lattitude      12956 non-null  float64\n",
      " 18  Longtitude     12956 non-null  float64\n",
      " 19  Regionname     12956 non-null  object \n",
      " 20  Propertycount  12956 non-null  float64\n",
      "dtypes: float64(12), int64(1), object(8)\n",
      "memory usage: 2.2+ MB\n"
     ]
    }
   ],
   "source": [
    "melb_df2.info()"
   ]
  },
  {
   "cell_type": "markdown",
   "metadata": {
    "id": "c1aNl4eO9e0Q"
   },
   "source": [
    "Podemos agrupar a las variables por tipo para hacer algunos análisis\n",
    "\n",
    "*Cuantitativa*: Rooms Price Distance Bedroom2 Bathroom Car Landsize BuildingArea   Propertycount\n",
    "\n",
    "*Categórica*: Suburb Address Type Method SellerG  CouncilArea Regionname\n",
    "\n",
    "*Tiempo*: Date  YearBuilt \n",
    "\n",
    "*Códigos y localización*: Postcode Lattitude  Longtitude  "
   ]
  },
  {
   "cell_type": "markdown",
   "metadata": {},
   "source": [
    "### **Variables cuantitativas**"
   ]
  },
  {
   "cell_type": "code",
   "execution_count": 10,
   "metadata": {
    "colab": {
     "base_uri": "https://localhost:8080/",
     "height": 720
    },
    "id": "gqNpDAgY8oBK",
    "outputId": "05f126f5-1807-4785-cec0-9ac2c86e7041"
   },
   "outputs": [
    {
     "name": "stderr",
     "output_type": "stream",
     "text": [
      "C:\\Users\\usuario\\anaconda3\\lib\\site-packages\\seaborn\\_decorators.py:36: FutureWarning: Pass the following variable as a keyword arg: x. From version 0.12, the only valid positional argument will be `data`, and passing other arguments without an explicit keyword will result in an error or misinterpretation.\n",
      "  warnings.warn(\n",
      "C:\\Users\\usuario\\anaconda3\\lib\\site-packages\\seaborn\\_decorators.py:36: FutureWarning: Pass the following variable as a keyword arg: x. From version 0.12, the only valid positional argument will be `data`, and passing other arguments without an explicit keyword will result in an error or misinterpretation.\n",
      "  warnings.warn(\n",
      "C:\\Users\\usuario\\anaconda3\\lib\\site-packages\\seaborn\\_decorators.py:36: FutureWarning: Pass the following variable as a keyword arg: x. From version 0.12, the only valid positional argument will be `data`, and passing other arguments without an explicit keyword will result in an error or misinterpretation.\n",
      "  warnings.warn(\n",
      "C:\\Users\\usuario\\anaconda3\\lib\\site-packages\\seaborn\\_decorators.py:36: FutureWarning: Pass the following variable as a keyword arg: x. From version 0.12, the only valid positional argument will be `data`, and passing other arguments without an explicit keyword will result in an error or misinterpretation.\n",
      "  warnings.warn(\n"
     ]
    },
    {
     "data": {
      "image/png": "[encoded data removed]",
      "text/plain": [
       "<Figure size 1440x792 with 4 Axes>"
      ]
     },
     "metadata": {
      "needs_background": "light"
     },
     "output_type": "display_data"
    }
   ],
   "source": [
    " #Análisis de las variables cuantitativas  ##Quizás acá haría histogramas (de todas las variables continuas relevantes), me parece que muestran mejor la distribución de las variables (Lau)\n",
    "fig, axes = plt.subplots(nrows=2, ncols=2, figsize=(20, 11))\n",
    "sns.boxplot(melb_df2.Rooms, ax=axes[0,0])\n",
    "sns.boxplot(melb_df2.Bedroom2, ax=axes[0,1])\n",
    "sns.boxplot(melb_df2.Bathroom, ax=axes[1,0])\n",
    "sns.boxplot(melb_df2.Car, ax=axes[1,1])\n",
    "plt.show()\n"
   ]
  },
  {
   "cell_type": "code",
   "execution_count": 11,
   "metadata": {
    "colab": {
     "base_uri": "https://localhost:8080/"
    },
    "id": "8dENe_0MEIv_",
    "outputId": "e5139f7e-42d2-42a8-d6e9-136f06160ee5"
   },
   "outputs": [
    {
     "data": {
      "text/plain": [
       "count    12956.000000\n",
       "mean       517.115313\n",
       "std       1498.205505\n",
       "min          0.000000\n",
       "25%        168.000000\n",
       "50%        416.000000\n",
       "75%        645.000000\n",
       "max      76000.000000\n",
       "Name: Landsize, dtype: float64"
      ]
     },
     "execution_count": 11,
     "metadata": {},
     "output_type": "execute_result"
    }
   ],
   "source": [
    "melb_df2.Landsize.describe()    #no tiene datos NaN pero tiene una variabilidad enorme y muchos \"0\", lo cual no tiene sentido"
   ]
  },
  {
   "cell_type": "code",
   "execution_count": 12,
   "metadata": {
    "colab": {
     "base_uri": "https://localhost:8080/"
    },
    "id": "swLV9VwPEW1i",
    "outputId": "17dac323-01dc-4f5a-f380-190c14d0fc7a"
   },
   "outputs": [
    {
     "data": {
      "text/plain": [
       "count     6766.000000\n",
       "mean       144.997402\n",
       "std        552.864779\n",
       "min          0.000000\n",
       "25%         91.000000\n",
       "50%        122.000000\n",
       "75%        165.000000\n",
       "max      44515.000000\n",
       "Name: BuildingArea, dtype: float64"
      ]
     },
     "execution_count": 12,
     "metadata": {},
     "output_type": "execute_result"
    }
   ],
   "source": [
    "melb_df2.BuildingArea.describe()  #tiene muchos valores perdidos y además muchos \"0\", los cuales tampoco tienen sentido."
   ]
  },
  {
   "cell_type": "code",
   "execution_count": 13,
   "metadata": {
    "colab": {
     "base_uri": "https://localhost:8080/"
    },
    "id": "qBvxRiOhFXdX",
    "outputId": "27007f66-6f22-4aa5-b99e-a2cdc898af8e"
   },
   "outputs": [
    {
     "name": "stdout",
     "output_type": "stream",
     "text": [
      "Porcentaje de datos perdidos= 47.77709169496758 %\n"
     ]
    }
   ],
   "source": [
    "print(\"Porcentaje de datos perdidos=\", melb_df2.BuildingArea.isna().sum()/len(melb_df2)*100,\"%\")"
   ]
  },
  {
   "cell_type": "code",
   "execution_count": 14,
   "metadata": {
    "colab": {
     "base_uri": "https://localhost:8080/",
     "height": 372
    },
    "id": "4XhAe8WYMgPD",
    "outputId": "45ea6aff-12de-4218-d17e-9a818ae36b67"
   },
   "outputs": [
    {
     "name": "stderr",
     "output_type": "stream",
     "text": [
      "C:\\Users\\usuario\\anaconda3\\lib\\site-packages\\seaborn\\_decorators.py:36: FutureWarning: Pass the following variable as a keyword arg: x. From version 0.12, the only valid positional argument will be `data`, and passing other arguments without an explicit keyword will result in an error or misinterpretation.\n",
      "  warnings.warn(\n"
     ]
    },
    {
     "data": {
      "text/plain": [
       "<AxesSubplot:xlabel='Distance'>"
      ]
     },
     "execution_count": 14,
     "metadata": {},
     "output_type": "execute_result"
    },
    {
     "data": {
      "image/png": "[encoded data removed]",
      "text/plain": [
       "<Figure size 432x288 with 1 Axes>"
      ]
     },
     "metadata": {
      "needs_background": "light"
     },
     "output_type": "display_data"
    }
   ],
   "source": [
    "sns.boxplot(melb_df2.Distance)   #Esta variable es relevante para la explicación del precio"
   ]
  },
  {
   "cell_type": "code",
   "execution_count": 15,
   "metadata": {
    "colab": {
     "base_uri": "https://localhost:8080/",
     "height": 317
    },
    "id": "lkDCqa1p_oJH",
    "outputId": "48b93c72-baf9-4dcd-85a4-bf21e9198374"
   },
   "outputs": [
    {
     "data": {
      "text/plain": [
       "<AxesSubplot:xlabel='Propertycount', ylabel='Count'>"
      ]
     },
     "execution_count": 15,
     "metadata": {},
     "output_type": "execute_result"
    },
    {
     "data": {
      "image/png": "[encoded data removed]",
      "text/plain": [
       "<Figure size 432x288 with 1 Axes>"
      ]
     },
     "metadata": {
      "needs_background": "light"
     },
     "output_type": "display_data"
    }
   ],
   "source": [
    "sns.histplot(melb_df2.Propertycount)  #representa la cantidad de propiedades que existen en el mismo Suburb, es relevante por que da una idea de la oferta disponible y de la densidad de la zona tmb\n",
    "#Si sacamos Suburb no se si haría falta agregarla, porque son el número de propiedades por suburbio (Lau)"
   ]
  },
  {
   "cell_type": "code",
   "execution_count": 16,
   "metadata": {},
   "outputs": [
    {
     "data": {
      "text/html": [
       "<div>\n",
       "<style scoped>\n",
       "    .dataframe tbody tr th:only-of-type {\n",
       "        vertical-align: middle;\n",
       "    }\n",
       "\n",
       "    .dataframe tbody tr th {\n",
       "        vertical-align: top;\n",
       "    }\n",
       "\n",
       "    .dataframe thead th {\n",
       "        text-align: right;\n",
       "    }\n",
       "</style>\n",
       "<table border=\"1\" class=\"dataframe\">\n",
       "  <thead>\n",
       "    <tr style=\"text-align: right;\">\n",
       "      <th></th>\n",
       "      <th>Rooms</th>\n",
       "      <th>Price</th>\n",
       "      <th>Distance</th>\n",
       "      <th>Postcode</th>\n",
       "      <th>Bedroom2</th>\n",
       "      <th>Bathroom</th>\n",
       "      <th>Car</th>\n",
       "      <th>Landsize</th>\n",
       "      <th>BuildingArea</th>\n",
       "      <th>YearBuilt</th>\n",
       "      <th>Lattitude</th>\n",
       "      <th>Longtitude</th>\n",
       "      <th>Propertycount</th>\n",
       "    </tr>\n",
       "  </thead>\n",
       "  <tbody>\n",
       "    <tr>\n",
       "      <th>Rooms</th>\n",
       "      <td>1.000000</td>\n",
       "      <td>0.506546</td>\n",
       "      <td>0.390008</td>\n",
       "      <td>-0.001550</td>\n",
       "      <td>0.958868</td>\n",
       "      <td>0.558981</td>\n",
       "      <td>0.466272</td>\n",
       "      <td>0.474906</td>\n",
       "      <td>0.770018</td>\n",
       "      <td>-0.053258</td>\n",
       "      <td>0.074808</td>\n",
       "      <td>0.106791</td>\n",
       "      <td>-0.089902</td>\n",
       "    </tr>\n",
       "    <tr>\n",
       "      <th>Price</th>\n",
       "      <td>0.506546</td>\n",
       "      <td>1.000000</td>\n",
       "      <td>-0.110087</td>\n",
       "      <td>0.201119</td>\n",
       "      <td>0.490701</td>\n",
       "      <td>0.376098</td>\n",
       "      <td>0.259805</td>\n",
       "      <td>0.294973</td>\n",
       "      <td>0.597560</td>\n",
       "      <td>-0.366086</td>\n",
       "      <td>-0.238010</td>\n",
       "      <td>0.249000</td>\n",
       "      <td>-0.021565</td>\n",
       "    </tr>\n",
       "    <tr>\n",
       "      <th>Distance</th>\n",
       "      <td>0.390008</td>\n",
       "      <td>-0.110087</td>\n",
       "      <td>1.000000</td>\n",
       "      <td>0.220518</td>\n",
       "      <td>0.396243</td>\n",
       "      <td>0.185941</td>\n",
       "      <td>0.370150</td>\n",
       "      <td>0.443385</td>\n",
       "      <td>0.330679</td>\n",
       "      <td>0.218057</td>\n",
       "      <td>-0.001586</td>\n",
       "      <td>0.312206</td>\n",
       "      <td>-0.142158</td>\n",
       "    </tr>\n",
       "    <tr>\n",
       "      <th>Postcode</th>\n",
       "      <td>-0.001550</td>\n",
       "      <td>0.201119</td>\n",
       "      <td>0.220518</td>\n",
       "      <td>1.000000</td>\n",
       "      <td>0.003877</td>\n",
       "      <td>0.097429</td>\n",
       "      <td>0.042185</td>\n",
       "      <td>0.042979</td>\n",
       "      <td>0.042289</td>\n",
       "      <td>-0.019089</td>\n",
       "      <td>-0.560467</td>\n",
       "      <td>0.700231</td>\n",
       "      <td>0.136661</td>\n",
       "    </tr>\n",
       "    <tr>\n",
       "      <th>Bedroom2</th>\n",
       "      <td>0.958868</td>\n",
       "      <td>0.490701</td>\n",
       "      <td>0.396243</td>\n",
       "      <td>0.003877</td>\n",
       "      <td>1.000000</td>\n",
       "      <td>0.553082</td>\n",
       "      <td>0.467692</td>\n",
       "      <td>0.469807</td>\n",
       "      <td>0.756899</td>\n",
       "      <td>-0.040796</td>\n",
       "      <td>0.077101</td>\n",
       "      <td>0.110249</td>\n",
       "      <td>-0.089018</td>\n",
       "    </tr>\n",
       "    <tr>\n",
       "      <th>Bathroom</th>\n",
       "      <td>0.558981</td>\n",
       "      <td>0.376098</td>\n",
       "      <td>0.185941</td>\n",
       "      <td>0.097429</td>\n",
       "      <td>0.553082</td>\n",
       "      <td>1.000000</td>\n",
       "      <td>0.356133</td>\n",
       "      <td>0.180071</td>\n",
       "      <td>0.626973</td>\n",
       "      <td>0.244315</td>\n",
       "      <td>-0.049753</td>\n",
       "      <td>0.123354</td>\n",
       "      <td>-0.044803</td>\n",
       "    </tr>\n",
       "    <tr>\n",
       "      <th>Car</th>\n",
       "      <td>0.466272</td>\n",
       "      <td>0.259805</td>\n",
       "      <td>0.370150</td>\n",
       "      <td>0.042185</td>\n",
       "      <td>0.467692</td>\n",
       "      <td>0.356133</td>\n",
       "      <td>1.000000</td>\n",
       "      <td>0.396759</td>\n",
       "      <td>0.459079</td>\n",
       "      <td>0.122792</td>\n",
       "      <td>0.031004</td>\n",
       "      <td>0.115253</td>\n",
       "      <td>-0.053243</td>\n",
       "    </tr>\n",
       "    <tr>\n",
       "      <th>Landsize</th>\n",
       "      <td>0.474906</td>\n",
       "      <td>0.294973</td>\n",
       "      <td>0.443385</td>\n",
       "      <td>0.042979</td>\n",
       "      <td>0.469807</td>\n",
       "      <td>0.180071</td>\n",
       "      <td>0.396759</td>\n",
       "      <td>1.000000</td>\n",
       "      <td>0.451770</td>\n",
       "      <td>-0.126102</td>\n",
       "      <td>0.085935</td>\n",
       "      <td>0.171473</td>\n",
       "      <td>-0.084786</td>\n",
       "    </tr>\n",
       "    <tr>\n",
       "      <th>BuildingArea</th>\n",
       "      <td>0.770018</td>\n",
       "      <td>0.597560</td>\n",
       "      <td>0.330679</td>\n",
       "      <td>0.042289</td>\n",
       "      <td>0.756899</td>\n",
       "      <td>0.626973</td>\n",
       "      <td>0.459079</td>\n",
       "      <td>0.451770</td>\n",
       "      <td>1.000000</td>\n",
       "      <td>0.022885</td>\n",
       "      <td>0.022139</td>\n",
       "      <td>0.109462</td>\n",
       "      <td>-0.096137</td>\n",
       "    </tr>\n",
       "    <tr>\n",
       "      <th>YearBuilt</th>\n",
       "      <td>-0.053258</td>\n",
       "      <td>-0.366086</td>\n",
       "      <td>0.218057</td>\n",
       "      <td>-0.019089</td>\n",
       "      <td>-0.040796</td>\n",
       "      <td>0.244315</td>\n",
       "      <td>0.122792</td>\n",
       "      <td>-0.126102</td>\n",
       "      <td>0.022885</td>\n",
       "      <td>1.000000</td>\n",
       "      <td>0.061339</td>\n",
       "      <td>-0.005163</td>\n",
       "      <td>-0.002075</td>\n",
       "    </tr>\n",
       "    <tr>\n",
       "      <th>Lattitude</th>\n",
       "      <td>0.074808</td>\n",
       "      <td>-0.238010</td>\n",
       "      <td>-0.001586</td>\n",
       "      <td>-0.560467</td>\n",
       "      <td>0.077101</td>\n",
       "      <td>-0.049753</td>\n",
       "      <td>0.031004</td>\n",
       "      <td>0.085935</td>\n",
       "      <td>0.022139</td>\n",
       "      <td>0.061339</td>\n",
       "      <td>1.000000</td>\n",
       "      <td>-0.354797</td>\n",
       "      <td>-0.025076</td>\n",
       "    </tr>\n",
       "    <tr>\n",
       "      <th>Longtitude</th>\n",
       "      <td>0.106791</td>\n",
       "      <td>0.249000</td>\n",
       "      <td>0.312206</td>\n",
       "      <td>0.700231</td>\n",
       "      <td>0.110249</td>\n",
       "      <td>0.123354</td>\n",
       "      <td>0.115253</td>\n",
       "      <td>0.171473</td>\n",
       "      <td>0.109462</td>\n",
       "      <td>-0.005163</td>\n",
       "      <td>-0.354797</td>\n",
       "      <td>1.000000</td>\n",
       "      <td>0.088378</td>\n",
       "    </tr>\n",
       "    <tr>\n",
       "      <th>Propertycount</th>\n",
       "      <td>-0.089902</td>\n",
       "      <td>-0.021565</td>\n",
       "      <td>-0.142158</td>\n",
       "      <td>0.136661</td>\n",
       "      <td>-0.089018</td>\n",
       "      <td>-0.044803</td>\n",
       "      <td>-0.053243</td>\n",
       "      <td>-0.084786</td>\n",
       "      <td>-0.096137</td>\n",
       "      <td>-0.002075</td>\n",
       "      <td>-0.025076</td>\n",
       "      <td>0.088378</td>\n",
       "      <td>1.000000</td>\n",
       "    </tr>\n",
       "  </tbody>\n",
       "</table>\n",
       "</div>"
      ],
      "text/plain": [
       "                  Rooms     Price  Distance  Postcode  Bedroom2  Bathroom  \\\n",
       "Rooms          1.000000  0.506546  0.390008 -0.001550  0.958868  0.558981   \n",
       "Price          0.506546  1.000000 -0.110087  0.201119  0.490701  0.376098   \n",
       "Distance       0.390008 -0.110087  1.000000  0.220518  0.396243  0.185941   \n",
       "Postcode      -0.001550  0.201119  0.220518  1.000000  0.003877  0.097429   \n",
       "Bedroom2       0.958868  0.490701  0.396243  0.003877  1.000000  0.553082   \n",
       "Bathroom       0.558981  0.376098  0.185941  0.097429  0.553082  1.000000   \n",
       "Car            0.466272  0.259805  0.370150  0.042185  0.467692  0.356133   \n",
       "Landsize       0.474906  0.294973  0.443385  0.042979  0.469807  0.180071   \n",
       "BuildingArea   0.770018  0.597560  0.330679  0.042289  0.756899  0.626973   \n",
       "YearBuilt     -0.053258 -0.366086  0.218057 -0.019089 -0.040796  0.244315   \n",
       "Lattitude      0.074808 -0.238010 -0.001586 -0.560467  0.077101 -0.049753   \n",
       "Longtitude     0.106791  0.249000  0.312206  0.700231  0.110249  0.123354   \n",
       "Propertycount -0.089902 -0.021565 -0.142158  0.136661 -0.089018 -0.044803   \n",
       "\n",
       "                    Car  Landsize  BuildingArea  YearBuilt  Lattitude  \\\n",
       "Rooms          0.466272  0.474906      0.770018  -0.053258   0.074808   \n",
       "Price          0.259805  0.294973      0.597560  -0.366086  -0.238010   \n",
       "Distance       0.370150  0.443385      0.330679   0.218057  -0.001586   \n",
       "Postcode       0.042185  0.042979      0.042289  -0.019089  -0.560467   \n",
       "Bedroom2       0.467692  0.469807      0.756899  -0.040796   0.077101   \n",
       "Bathroom       0.356133  0.180071      0.626973   0.244315  -0.049753   \n",
       "Car            1.000000  0.396759      0.459079   0.122792   0.031004   \n",
       "Landsize       0.396759  1.000000      0.451770  -0.126102   0.085935   \n",
       "BuildingArea   0.459079  0.451770      1.000000   0.022885   0.022139   \n",
       "YearBuilt      0.122792 -0.126102      0.022885   1.000000   0.061339   \n",
       "Lattitude      0.031004  0.085935      0.022139   0.061339   1.000000   \n",
       "Longtitude     0.115253  0.171473      0.109462  -0.005163  -0.354797   \n",
       "Propertycount -0.053243 -0.084786     -0.096137  -0.002075  -0.025076   \n",
       "\n",
       "               Longtitude  Propertycount  \n",
       "Rooms            0.106791      -0.089902  \n",
       "Price            0.249000      -0.021565  \n",
       "Distance         0.312206      -0.142158  \n",
       "Postcode         0.700231       0.136661  \n",
       "Bedroom2         0.110249      -0.089018  \n",
       "Bathroom         0.123354      -0.044803  \n",
       "Car              0.115253      -0.053243  \n",
       "Landsize         0.171473      -0.084786  \n",
       "BuildingArea     0.109462      -0.096137  \n",
       "YearBuilt       -0.005163      -0.002075  \n",
       "Lattitude       -0.354797      -0.025076  \n",
       "Longtitude       1.000000       0.088378  \n",
       "Propertycount    0.088378       1.000000  "
      ]
     },
     "execution_count": 16,
     "metadata": {},
     "output_type": "execute_result"
    }
   ],
   "source": [
    "melb_df2_cor=melb_df2.corr(method=\"spearman\") #Debido a que las variables no poseen distribución normal se utilizó el metodo de spearman\n",
    "melb_df2_cor"
   ]
  },
  {
   "cell_type": "code",
   "execution_count": 17,
   "metadata": {},
   "outputs": [
    {
     "data": {
      "text/plain": [
       "<AxesSubplot:>"
      ]
     },
     "execution_count": 17,
     "metadata": {},
     "output_type": "execute_result"
    },
    {
     "data": {
      "image/png": "[encoded data removed]",
      "text/plain": [
       "<Figure size 864x432 with 2 Axes>"
      ]
     },
     "metadata": {
      "needs_background": "light"
     },
     "output_type": "display_data"
    }
   ],
   "source": [
    "plt.figure(figsize=(12,6))\n",
    "sns.heatmap(melb_df2_cor)\n"
   ]
  },
  {
   "cell_type": "markdown",
   "metadata": {},
   "source": [
    "A partir del análisis de correlación entre las variables numéricas, podemos observar una correlación alta (r=0.96) entre las variables Rooms y Bedroom2. Esto nos indica que ambas variables proveen información similar, por lo que deberíamos quedarnos solo con una de ellas. Debido a que la variable Bedroom2 posee valores 0, lo cual es poco confiable ya que es inusual que una casa no posea habitaciones y, sumado a que fue incluida a partir de otro dataset, decidimos desecharla y quedarnos con la variable Rooms. Si bien las variables BuildingArea y Rooms también se encuentran altamente correlacionadas (r=0.77), BuildingArea posee una gran cantidad de datos faltantes (casi la mitad) lo cual podría estar incidiendo sobre el valor de la correlación."
   ]
  },
  {
   "cell_type": "markdown",
   "metadata": {},
   "source": [
    "### **Variables categóricas**"
   ]
  },
  {
   "cell_type": "code",
   "execution_count": 20,
   "metadata": {
    "colab": {
     "base_uri": "https://localhost:8080/",
     "height": 317
    },
    "id": "wrX_taw-HX5g",
    "outputId": "1cc3f991-71c6-4477-ba32-c6e97aafb764"
   },
   "outputs": [
    {
     "data": {
      "text/plain": [
       "<AxesSubplot:xlabel='Type', ylabel='count'>"
      ]
     },
     "execution_count": 20,
     "metadata": {},
     "output_type": "execute_result"
    },
    {
     "data": {
      "image/png": "[encoded data removed]",
      "text/plain": [
       "<Figure size 432x288 with 1 Axes>"
      ]
     },
     "metadata": {
      "needs_background": "light"
     },
     "output_type": "display_data"
    }
   ],
   "source": [
    "sns.countplot(data=melb_df2, x=\"Type\")"
   ]
  },
  {
   "cell_type": "markdown",
   "metadata": {
    "id": "JuCs66GyTxPl"
   },
   "source": [
    "*Nota*: Las categorías de la variable Type son: br - bedroom(s); h - house,cottage,villa, semi,terrace; u - unit, duplex; t - townhouse; dev site - development site; o res - other residential. En este caso, tendríamos solo: a) house,cottage,villa, semi,terrace; b) unit, duplex, c) townhouse."
   ]
  },
  {
   "cell_type": "code",
   "execution_count": 18,
   "metadata": {
    "colab": {
     "base_uri": "https://localhost:8080/",
     "height": 317
    },
    "id": "7k_SfpbwICGA",
    "outputId": "c0437c9d-4e8b-4be7-a12e-045036faec98"
   },
   "outputs": [
    {
     "data": {
      "text/plain": [
       "<AxesSubplot:xlabel='Method', ylabel='count'>"
      ]
     },
     "execution_count": 18,
     "metadata": {},
     "output_type": "execute_result"
    },
    {
     "data": {
      "image/png": "[encoded data removed]",
      "text/plain": [
       "<Figure size 432x288 with 1 Axes>"
      ]
     },
     "metadata": {
      "needs_background": "light"
     },
     "output_type": "display_data"
    }
   ],
   "source": [
    "sns.countplot(data=melb_df2, x=\"Method\")   "
   ]
  },
  {
   "cell_type": "markdown",
   "metadata": {
    "id": "AqVwMqqoTu5A"
   },
   "source": [
    "*Nota*: Las categorías de la variable Method: S - property sold; SP - property sold prior; PI - property passed in; PN - sold prior not disclosed; SN - sold not disclosed; NB - no bid; VB - vendor bid; W - withdrawn prior to auction; SA - sold after auction; SS - sold after auction price not disclosed. N/A - price or highest bid not available.\n",
    "\n",
    "En este caso tendríamos solo: a) S - property sold (propiedad vendida); b) SP - property sold prior (propiedad vendida antes de, podría ser antes de una subasta); c) PI - property passed in (esto es cuando la máxima oferta en la subasta no superó el precio de reserva del vendedor, y el vendedor podría optar por no venderselo al mayor postor en la subasta, sino que ambos podrían negociar fuera de ella); d) VB - vendor bid (Oferta de vendedor es una oferta realizada por el subastador en nombre del vendedor. No es una oferta real para comprar la propiedad sino más bien, es una declaración pública de que el vendedor no está contento con el monto de la última oferta y se utiliza para que la oferta siga avanzando); e) SA - sold after auction (vendida por medio de subasta).\n",
    "\n",
    "Teniendo en cuanta esta clasificación, uno podría generar una variable que represente si el valor de la propiedad estaría acorde, sub o sobre valuada en función del precio de subasta. El supuesto base es que el precio de subasta sería el \"precio justo\". \n",
    "Categorias: \"En valor\": S, SA\n",
    "            \"Subvaluada\": PI, VB\n",
    "            \"Sobrevaluada\":SP"
   ]
  },
  {
   "cell_type": "code",
   "execution_count": 19,
   "metadata": {},
   "outputs": [],
   "source": [
    "auction_price_groups = {\n",
    "    'S': 'On price',\n",
    "    'SA': 'On price',\n",
    "    'PI': 'Under',\n",
    "    'VB': 'Under',\n",
    "    'SP': 'Above'\n",
    "}\n",
    "auction_price = melb_df2.Method.replace(auction_price_groups)"
   ]
  },
  {
   "cell_type": "code",
   "execution_count": 20,
   "metadata": {},
   "outputs": [
    {
     "data": {
      "text/plain": [
       "<AxesSubplot:xlabel='Method', ylabel='count'>"
      ]
     },
     "execution_count": 20,
     "metadata": {},
     "output_type": "execute_result"
    },
    {
     "data": {
      "image/png": "[encoded data removed]",
      "text/plain": [
       "<Figure size 432x288 with 1 Axes>"
      ]
     },
     "metadata": {
      "needs_background": "light"
     },
     "output_type": "display_data"
    }
   ],
   "source": [
    "sns.countplot(data=melb_df2, x=auction_price)"
   ]
  },
  {
   "cell_type": "code",
   "execution_count": null,
   "metadata": {
    "colab": {
     "base_uri": "https://localhost:8080/"
    },
    "id": "PsFoTFC_PiSm",
    "outputId": "339e8fbd-ee29-4ace-e65d-d619f9d58037"
   },
   "outputs": [
    {
     "data": {
      "text/plain": [
       "count      12956\n",
       "unique       265\n",
       "top       Nelson\n",
       "freq        1548\n",
       "Name: SellerG, dtype: object"
      ]
     },
     "execution_count": 26,
     "metadata": {
      "tags": []
     },
     "output_type": "execute_result"
    }
   ],
   "source": [
    "melb_df2.SellerG.describe()   #Son muchas categorías posibles, a primera vista no podremos juzgar nada respecto de ella. Pero eventualmente, ciertos vendedores podrían asociarse con ventas a mayor precio."
   ]
  },
  {
   "cell_type": "markdown",
   "metadata": {
    "id": "SDvZjjqqIoF6"
   },
   "source": [
    "Sobre la localización de la casa para explicar el precio, tenemos distintos niveles de precisión para explicarlo. \n",
    "\n",
    "1- La dirección exacta (no nos dice nada puntual, ya que no tenemos conocimiento del dominio)\n",
    "\n",
    "2- El suburbio, son muchas categorías aún, pero se encuentra un poco más agrupada que 1. **Puede estar vinculada a POSTCODE, que usaremos para los merge de datos con otras bases**\n",
    "\n",
    "3- CouncilArea, son más de 30 categorías que agrupan a varios suburbs y representa el Consejo Gubernamental de la zona.\n",
    "\n",
    "4- Regionname, es la variable que agrupa en mayor medida a las casas según localización. De momento, será esta la variable que tomemos de referencia para analizar. \n",
    "\n",
    "5- Latitud y longitud, puede emplearse directamente para graficar ubicaciones o para medir distancias con respecto a distintos puntos relevantes. Puede ser muy interesante para explicar el precio de venta de una propiedad."
   ]
  },
  {
   "cell_type": "code",
   "execution_count": 21,
   "metadata": {
    "colab": {
     "base_uri": "https://localhost:8080/"
    },
    "id": "7pHxIVtIG8VT",
    "outputId": "81888307-c620-466b-b9dc-971707e00e55"
   },
   "outputs": [
    {
     "data": {
      "text/plain": [
       "count         12956\n",
       "unique          314\n",
       "top       Reservoir\n",
       "freq            359\n",
       "Name: Suburb, dtype: object"
      ]
     },
     "execution_count": 21,
     "metadata": {},
     "output_type": "execute_result"
    }
   ],
   "source": [
    "melb_df2.Suburb.describe()   #Hay 314 suburb distintos, que sin info de dominio no me dicen mucho. Pero en algún modelo relacional puede explicar.\n",
    "#No podríamos definir ninguna manera de agruparla, pero tampoco la eliminaría"
   ]
  },
  {
   "cell_type": "code",
   "execution_count": 22,
   "metadata": {
    "colab": {
     "base_uri": "https://localhost:8080/"
    },
    "id": "OZaT0heDJBbQ",
    "outputId": "f8b78816-bcf9-4777-a13a-e47313f18110"
   },
   "outputs": [
    {
     "data": {
      "text/plain": [
       "count        11670\n",
       "unique          33\n",
       "top       Moreland\n",
       "freq          1160\n",
       "Name: CouncilArea, dtype: object"
      ]
     },
     "execution_count": 22,
     "metadata": {},
     "output_type": "execute_result"
    }
   ],
   "source": [
    "melb_df2.CouncilArea.describe()"
   ]
  },
  {
   "cell_type": "code",
   "execution_count": 23,
   "metadata": {
    "colab": {
     "base_uri": "https://localhost:8080/",
     "height": 471
    },
    "id": "zjP6nSQUIQs0",
    "outputId": "48697b5a-16a6-46b6-b2cf-442ff67d5bea"
   },
   "outputs": [
    {
     "data": {
      "text/plain": [
       "(array([0, 1, 2, 3, 4, 5, 6, 7]),\n",
       " [Text(0, 0, 'Northern Metropolitan'),\n",
       "  Text(1, 0, 'Western Metropolitan'),\n",
       "  Text(2, 0, 'Southern Metropolitan'),\n",
       "  Text(3, 0, 'Eastern Metropolitan'),\n",
       "  Text(4, 0, 'South-Eastern Metropolitan'),\n",
       "  Text(5, 0, 'Eastern Victoria'),\n",
       "  Text(6, 0, 'Northern Victoria'),\n",
       "  Text(7, 0, 'Western Victoria')])"
      ]
     },
     "execution_count": 23,
     "metadata": {},
     "output_type": "execute_result"
    },
    {
     "data": {
      "image/png": "[encoded data removed]",
      "text/plain": [
       "<Figure size 432x288 with 1 Axes>"
      ]
     },
     "metadata": {
      "needs_background": "light"
     },
     "output_type": "display_data"
    }
   ],
   "source": [
    "sns.countplot(data=melb_df2, x=\"Regionname\")\n",
    "plt.xticks(rotation=45)"
   ]
  },
  {
   "cell_type": "code",
   "execution_count": 24,
   "metadata": {
    "colab": {
     "base_uri": "https://localhost:8080/"
    },
    "id": "wfk7dGZgQ720",
    "outputId": "8453f599-a5a5-4b0e-f372-6deec0d42435"
   },
   "outputs": [
    {
     "data": {
      "text/plain": [
       "Southern Metropolitan         4177\n",
       "Northern Metropolitan         3846\n",
       "Western Metropolitan          2925\n",
       "Eastern Metropolitan          1435\n",
       "South-Eastern Metropolitan     447\n",
       "Eastern Victoria                53\n",
       "Northern Victoria               41\n",
       "Western Victoria                32\n",
       "Name: Regionname, dtype: int64"
      ]
     },
     "execution_count": 24,
     "metadata": {},
     "output_type": "execute_result"
    }
   ],
   "source": [
    "melb_df2.Regionname.value_counts()   #En base a esto, agruparía de la siguiente manera: las últimas 3 categorías en una sola \"Victoria\" y Eastern con southeastern"
   ]
  },
  {
   "cell_type": "code",
   "execution_count": 25,
   "metadata": {
    "id": "Z1unhOaERmz7"
   },
   "outputs": [],
   "source": [
    "new_groups = {\n",
    "    'Eastern Victoria': 'Victoria',\n",
    "    'Northern Victoria': 'Victoria',\n",
    "    'Western Victoria': 'Victoria',\n",
    "    'Southern Metropolitan': 'Southern Metropolitan',\n",
    "    'Northern Metropolitan': 'Northern Metropolitan',\n",
    "    'Western Metropolitan': 'Western Metropolitan',\n",
    "    'Eastern Metropolitan': 'South-Eastern Metropolitan',\n",
    "    'South-Eastern Metropolitan': 'South-Eastern Metropolitan',\n",
    "}\n",
    "grouped_region = melb_df2.Regionname.replace(new_groups)"
   ]
  },
  {
   "cell_type": "code",
   "execution_count": 26,
   "metadata": {
    "colab": {
     "base_uri": "https://localhost:8080/",
     "height": 471
    },
    "id": "r02_KUMxSoPQ",
    "outputId": "eccffab0-b1e7-479d-f057-a10d2fbe40a9"
   },
   "outputs": [
    {
     "data": {
      "text/plain": [
       "(array([0, 1, 2, 3, 4]),\n",
       " [Text(0, 0, 'Northern Metropolitan'),\n",
       "  Text(1, 0, 'Western Metropolitan'),\n",
       "  Text(2, 0, 'Southern Metropolitan'),\n",
       "  Text(3, 0, 'South-Eastern Metropolitan'),\n",
       "  Text(4, 0, 'Victoria')])"
      ]
     },
     "execution_count": 26,
     "metadata": {},
     "output_type": "execute_result"
    },
    {
     "data": {
      "image/png": "[encoded data removed]",
      "text/plain": [
       "<Figure size 432x288 with 1 Axes>"
      ]
     },
     "metadata": {
      "needs_background": "light"
     },
     "output_type": "display_data"
    }
   ],
   "source": [
    "sns.countplot(data=melb_df2, x=grouped_region)\n",
    "plt.xticks(rotation=45)"
   ]
  },
  {
   "cell_type": "markdown",
   "metadata": {
    "id": "s2XHWhY4J8-R"
   },
   "source": [
    "###**Sobre las variables de tiempo:** \n",
    "- En cuanto a la variable Date, la transformamos en serie temporal y adicionalmente extraemos mes y año, variables que podrían ser más relevantes para realizar ciertos análisis.\n",
    "- En cuanto a la variable YearBuilt, se podría crear una variable que represente la antiguedad de la vivienda y categorizarla en grupos de acuerdo a la cantidad de años de antiguedad que tenga. \n",
    "*Podríamos crear varíables categóricas para la antiguedad que indiquen: Menos de 10 años de antiguedad, entre 10 y 20 años de antiguedad, entre 20 y 30 años de antiguedad, entre 30 y 40 años de antiguedad, etc."
   ]
  },
  {
   "cell_type": "code",
   "execution_count": 28,
   "metadata": {},
   "outputs": [
    {
     "name": "stderr",
     "output_type": "stream",
     "text": [
      "<ipython-input-28-1e168436c3c7>:2: SettingWithCopyWarning: \n",
      "A value is trying to be set on a copy of a slice from a DataFrame.\n",
      "Try using .loc[row_indexer,col_indexer] = value instead\n",
      "\n",
      "See the caveats in the documentation: https://pandas.pydata.org/pandas-docs/stable/user_guide/indexing.html#returning-a-view-versus-a-copy\n",
      "  melb_df2['date'] = pandas.to_datetime(melb_df2.Date, dayfirst=True)\n"
     ]
    }
   ],
   "source": [
    "#Transformar la variable Date en una variable temporal   **VER POR QUÉ NO DEJA HACER ESTA OPERACIÓN (Flo)\n",
    "melb_df2['date'] = pandas.to_datetime(melb_df2.Date, dayfirst=True)"
   ]
  },
  {
   "cell_type": "code",
   "execution_count": null,
   "metadata": {},
   "outputs": [],
   "source": [
    "#Dado que la precisión por día no será útil, extraer por mes y año \n",
    "melb_df2['date_month'] = pandas.to_datetime(melb_df.date.dt.strftime('%Y-%m'))\n",
    "melb_df2['date_year'] = pandas.to_datetime(melb_df.date.dt.strftime('%Y'))"
   ]
  },
  {
   "cell_type": "code",
   "execution_count": null,
   "metadata": {},
   "outputs": [],
   "source": [
    "fig, axes = plt.subplots(nrows=3, figsize=(20, 11))\n",
    "sns.lineplot(melb_df2.date, ax=axes[0])\n",
    "sns.lineplot(melb_df2.date_month, ax=axes[1])\n",
    "sns.lineplot(melb_df2.date_year, ax=axes[2])\n",
    "plt.xticks(rotation=45)\n",
    "plt.show()"
   ]
  },
  {
   "cell_type": "code",
   "execution_count": 29,
   "metadata": {
    "colab": {
     "base_uri": "https://localhost:8080/"
    },
    "id": "8roasL2fJ8UD",
    "outputId": "542d1989-fb79-45ee-a0ab-5a53d20ea814"
   },
   "outputs": [
    {
     "data": {
      "text/plain": [
       "count    7798.000000\n",
       "mean     1965.767120\n",
       "std        36.555041\n",
       "min      1196.000000\n",
       "25%      1950.000000\n",
       "50%      1970.000000\n",
       "75%      2000.000000\n",
       "max      2018.000000\n",
       "Name: YearBuilt, dtype: float64"
      ]
     },
     "execution_count": 29,
     "metadata": {},
     "output_type": "execute_result"
    }
   ],
   "source": [
    "melb_df2.YearBuilt.describe()"
   ]
  },
  {
   "cell_type": "code",
   "execution_count": null,
   "metadata": {
    "colab": {
     "base_uri": "https://localhost:8080/"
    },
    "id": "Qv43hdsQKiDV",
    "outputId": "75bed220-3d34-405b-b075-29be6064d98e"
   },
   "outputs": [
    {
     "name": "stdout",
     "output_type": "stream",
     "text": [
      "Porcentaje de datos perdidos= 39.81167026860142 %\n"
     ]
    }
   ],
   "source": [
    "#Pero ojo! Tiene muchos datos faltantes.\n",
    "print(\"Porcentaje de datos perdidos=\", melb_df2.YearBuilt.isna().sum()/len(melb_df2)*100,\"%\")"
   ]
  },
  {
   "cell_type": "code",
   "execution_count": 31,
   "metadata": {},
   "outputs": [
    {
     "data": {
      "text/plain": [
       "<AxesSubplot:xlabel='YearBuilt', ylabel='Count'>"
      ]
     },
     "execution_count": 31,
     "metadata": {},
     "output_type": "execute_result"
    },
    {
     "data": {
      "image/png": "[encoded data removed]",
      "text/plain": [
       "<Figure size 432x288 with 1 Axes>"
      ]
     },
     "metadata": {
      "needs_background": "light"
     },
     "output_type": "display_data"
    }
   ],
   "source": [
    "sns.histplot(data=melb_df2,x=\"YearBuilt\")"
   ]
  },
  {
   "cell_type": "code",
   "execution_count": 30,
   "metadata": {},
   "outputs": [
    {
     "name": "stdout",
     "output_type": "stream",
     "text": [
      "Rango de años de construcción:  822.0\n"
     ]
    }
   ],
   "source": [
    "print(\"Rango de años de construcción: \",melb_df2.YearBuilt.max()-melb_df2.YearBuilt.min())  \n",
    "#En el mínimo tiene que haber algunos valores outliers"
   ]
  },
  {
   "cell_type": "code",
   "execution_count": 32,
   "metadata": {},
   "outputs": [
    {
     "name": "stdout",
     "output_type": "stream",
     "text": [
      "Nuevo mínimo:  1830.0\n"
     ]
    },
    {
     "data": {
      "image/png": "[encoded data removed]",
      "text/plain": [
       "<Figure size 432x288 with 1 Axes>"
      ]
     },
     "metadata": {
      "needs_background": "light"
     },
     "output_type": "display_data"
    }
   ],
   "source": [
    "sns.histplot(data=melb_df2[melb_df2.YearBuilt>1800],x=\"YearBuilt\")\n",
    "print(\"Nuevo mínimo: \", melb_df2[melb_df2.YearBuilt>1800].YearBuilt.min())"
   ]
  },
  {
   "cell_type": "code",
   "execution_count": 33,
   "metadata": {},
   "outputs": [],
   "source": [
    "#Armaría rangos de antiguedad que abarquen desde 1830 hasta 2018 (Flo)"
   ]
  },
  {
   "cell_type": "markdown",
   "metadata": {},
   "source": [
    "**Para concluir**"
   ]
  },
  {
   "cell_type": "code",
   "execution_count": 40,
   "metadata": {
    "colab": {
     "base_uri": "https://localhost:8080/"
    },
    "id": "fPDlXKbROSIy",
    "outputId": "d86f82e0-f87f-4164-cbbc-83cbe0acfec2"
   },
   "outputs": [
    {
     "data": {
      "text/plain": [
       "Index(['Suburb', 'Address', 'Rooms', 'Type', 'Price', 'Method', 'SellerG',\n",
       "       'Date', 'Distance', 'Postcode', 'Bedroom2', 'Bathroom', 'Car',\n",
       "       'Landsize', 'BuildingArea', 'YearBuilt', 'CouncilArea', 'Lattitude',\n",
       "       'Longtitude', 'Regionname', 'Propertycount', 'date'],\n",
       "      dtype='object')"
      ]
     },
     "execution_count": 40,
     "metadata": {},
     "output_type": "execute_result"
    }
   ],
   "source": [
    "melb_df2.columns"
   ]
  },
  {
   "cell_type": "markdown",
   "metadata": {
    "id": "HQLu4qoMNZJF"
   },
   "source": [
    "En resumen, abajo se detallan las variables de dejar fuera del análisis y su justificación:\n",
    "\n",
    "Suburb, Address, CouncilArea serán dejadas de lado dado que sin conocimiento del dominio no nos sirven para vincularlas al precio.\n",
    "En primer momento, optaremos por una categorización más general para la localización (dada por Regionname), el código postal (POSTCODE) para cuando necesitemos vincular a datos de otras fuentes de datos y Latitud-Longitud cuando querramos una referencia exacta de la localización. Adicionalmente, se considera como variable relevante para predecir el precio de venta a la distancia de la casa hasta el CBD (Distance), la cual representa de una manera sintética la información de las variables que fueron eliminadas.\n",
    "\n",
    "En cuanto a otras variables numéricas, Bethroom2 será dejada de lado por tener una alta correlación con la variable Room. Se tomará como referencia a la variable Room ya que está más completa y confiable. \n",
    "\n",
    "En cuanto a la variable SellerG, sin conocimiento extra del contexto no nos aporta información muy relevante al momento. No obstante, podría encontrarse vínculos entre el vendedor y los precios, con lo cual la misma será mantenida dentro de la base de datos."
   ]
  },
  {
   "cell_type": "code",
   "execution_count": 41,
   "metadata": {},
   "outputs": [],
   "source": [
    "relevant_columns=['Rooms', 'Type', 'Price', 'Method',\n",
    "       'Date', 'Distance', 'Postcode', 'Bathroom', 'Car',\n",
    "       'Landsize', 'BuildingArea', 'YearBuilt', 'Lattitude',\n",
    "       'Longtitude', 'Regionname', 'Propertycount', 'SellerG']"
   ]
  },
  {
   "cell_type": "markdown",
   "metadata": {
    "id": "APJ0lTPoG6EV"
   },
   "source": [
    "**Punto 3**\n",
    "\n",
    "3. Agregar información adicional respectiva al entorno de una propiedad a partir del [conjunto de datos de AirBnB](https://www.kaggle.com/tylerx/melbourne-airbnb-open-data?select=cleansed_listings_dec18.csv) utilizado en el práctico. \n",
    "  1. Seleccionar qué variables agregar y qué combinaciones aplicar a cada una. Por ejemplo, pueden utilizar solo la columna `price`, o aplicar múltiples transformaciones como la mediana o el mínimo.\n",
    "  1. Utilizar la variable zipcode para unir los conjuntos de datos. Sólo incluir los zipcodes que tengan una cantidad mínima de registros (a elección) como para que la información agregada sea relevante.\n",
    "  2. Investigar al menos otras 2 variables que puedan servir para combinar los datos, y justificar si serían adecuadas o no. Pueden asumir que cuentan con la ayuda de anotadores expertos para encontrar equivalencias entre barrios o direcciones, o que cuentan con algoritmos para encontrar las n ubicaciones más cercanas a una propiedad a partir de sus coordenadas geográficas. **NO** es necesario que realicen la implementación.\n",
    "\n",
    "Pueden leer otras columnas del conjunto de AirBnB además de las que están en `interesting_cols`, si les parecen relevantes.\n"
   ]
  },
  {
   "cell_type": "code",
   "execution_count": 37,
   "metadata": {
    "colab": {
     "base_uri": "https://localhost:8080/"
    },
    "id": "k3Z2vxNHJfJK",
    "outputId": "95ab3fa5-a041-47c7-dc3f-264c2234cd64"
   },
   "outputs": [],
   "source": [
    "# data source:\n",
    "# https://www.kaggle.com/tylerx/melbourne-airbnb-open-data?select=cleansed_listings_dec18.csv\n",
    "interesting_cols = [\n",
    "  'description', 'neighborhood_overview',\n",
    "  'street', 'neighborhood', 'city', 'suburb', 'state', 'zipcode',\n",
    "  'price', 'weekly_price', 'monthly_price',\n",
    "  'latitude', 'longitude',\n",
    "]\n",
    "airbnb_df = pandas.read_csv(\n",
    "    'https://cs.famaf.unc.edu.ar/~mteruel/datasets/diplodatos/cleansed_listings_dec18.csv',\n",
    "    usecols=interesting_cols)"
   ]
  },
  {
   "cell_type": "code",
   "execution_count": 39,
   "metadata": {
    "colab": {
     "base_uri": "https://localhost:8080/"
    },
    "id": "bc55TFlhF6tP",
    "outputId": "46f97a43-5766-4441-daef-6c5d8b858aaa"
   },
   "outputs": [
    {
     "name": "stdout",
     "output_type": "stream",
     "text": [
      "<class 'pandas.core.frame.DataFrame'>\n",
      "RangeIndex: 22895 entries, 0 to 22894\n",
      "Data columns (total 13 columns):\n",
      " #   Column                 Non-Null Count  Dtype  \n",
      "---  ------                 --------------  -----  \n",
      " 0   description            22563 non-null  object \n",
      " 1   neighborhood_overview  14424 non-null  object \n",
      " 2   street                 22895 non-null  object \n",
      " 3   neighborhood           17082 non-null  object \n",
      " 4   city                   22895 non-null  object \n",
      " 5   suburb                 22872 non-null  object \n",
      " 6   state                  22834 non-null  object \n",
      " 7   zipcode                22753 non-null  object \n",
      " 8   latitude               22895 non-null  float64\n",
      " 9   longitude              22895 non-null  float64\n",
      " 10  price                  22895 non-null  int64  \n",
      " 11  weekly_price           2524 non-null   float64\n",
      " 12  monthly_price          1891 non-null   float64\n",
      "dtypes: float64(4), int64(1), object(8)\n",
      "memory usage: 2.3+ MB\n"
     ]
    }
   ],
   "source": [
    "airbnb_df.info()"
   ]
  },
  {
   "cell_type": "code",
   "execution_count": 42,
   "metadata": {},
   "outputs": [],
   "source": [
    "airbnb_df['zipcode'] = pandas.to_numeric(airbnb_df.zipcode, errors='coerce')"
   ]
  },
  {
   "cell_type": "code",
   "execution_count": 43,
   "metadata": {
    "id": "9kqJNFrEluwc"
   },
   "outputs": [],
   "source": [
    "relevant_cols = ['price', 'weekly_price', 'monthly_price', 'zipcode']\n",
    "airbnb_price_by_zipcode = airbnb_df[relevant_cols].groupby('zipcode')\\\n",
    "  .agg({'price': ['mean', 'count'], 'weekly_price': ['mean', 'count'],\n",
    "        'monthly_price': ['mean', 'count']})\\\n",
    "  .reset_index()\n",
    "# Flatten the two level columns\n",
    "airbnb_price_by_zipcode.columns = [\n",
    "  ' '.join(col).strip()\n",
    "  for col in airbnb_price_by_zipcode.columns.values]\n",
    "# Rename columns\n",
    "airbnb_price_by_zipcode = airbnb_price_by_zipcode.rename(\n",
    "    columns={'price mean': 'airbnb_price_mean',\n",
    "             'price count': 'airbnb_record_count',\n",
    "             'weekly_price mean': 'airbnb_weekly_price_mean',\n",
    "             'weekly_price count': 'airbnb_weekly_price_count',\n",
    "             'monthly_price mean': 'airbnb_monthly_price_mean',\n",
    "             'monthly_price count': 'airbnb_monthly_price_count'}\n",
    ")"
   ]
  },
  {
   "cell_type": "code",
   "execution_count": 44,
   "metadata": {
    "colab": {
     "base_uri": "https://localhost:8080/"
    },
    "id": "ZMBhg6-rmpQW",
    "outputId": "2dd770b8-09c1-45ee-d236-86666bc87353"
   },
   "outputs": [
    {
     "name": "stdout",
     "output_type": "stream",
     "text": [
      "NaN de price: 0.0 %.\n",
      "NaN de weekly price: 25.506072874493928 %.\n",
      "NaN de monthly price: 31.983805668016196 %.\n"
     ]
    }
   ],
   "source": [
    "#ver bien a cuáles le pone NaN, si siempre que tenga una observación sin dato pone NaN a todo el promedio\n",
    "print(\"NaN de price:\",airbnb_price_by_zipcode.airbnb_price_mean.isna().sum()/len(airbnb_price_by_zipcode)*100,\"%.\")\n",
    "print(\"NaN de weekly price:\",airbnb_price_by_zipcode.airbnb_weekly_price_mean.isna().sum()/len(airbnb_price_by_zipcode)*100,\"%.\")\n",
    "print(\"NaN de monthly price:\",airbnb_price_by_zipcode.airbnb_monthly_price_mean.isna().sum()/len(airbnb_price_by_zipcode)*100,\"%.\")"
   ]
  },
  {
   "cell_type": "code",
   "execution_count": 45,
   "metadata": {},
   "outputs": [
    {
     "name": "stdout",
     "output_type": "stream",
     "text": [
      "Airbnb unique zipcodes 247\n",
      "Sales unique zipcodes 198\n",
      "Common zipcodes 191\n"
     ]
    }
   ],
   "source": [
    "intersection = np.intersect1d(\n",
    "    airbnb_price_by_zipcode.zipcode.values, melb_df2.Postcode.values, assume_unique=False)\n",
    "print(\"Airbnb unique zipcodes\", len(airbnb_price_by_zipcode.zipcode.unique()))\n",
    "print(\"Sales unique zipcodes\", len(melb_df2.Postcode.unique()))\n",
    "print(\"Common zipcodes\", len(intersection))  "
   ]
  },
  {
   "cell_type": "code",
   "execution_count": 46,
   "metadata": {
    "id": "WD_7qh2K2Wr7"
   },
   "outputs": [],
   "source": [
    "merged_df = melb_df2.merge(\n",
    "    airbnb_price_by_zipcode, how='left',\n",
    "    left_on='Postcode', right_on='zipcode'\n",
    ")"
   ]
  },
  {
   "cell_type": "code",
   "execution_count": 47,
   "metadata": {},
   "outputs": [
    {
     "name": "stdout",
     "output_type": "stream",
     "text": [
      "<class 'pandas.core.frame.DataFrame'>\n",
      "Int64Index: 12956 entries, 0 to 12955\n",
      "Data columns (total 29 columns):\n",
      " #   Column                      Non-Null Count  Dtype         \n",
      "---  ------                      --------------  -----         \n",
      " 0   Suburb                      12956 non-null  object        \n",
      " 1   Address                     12956 non-null  object        \n",
      " 2   Rooms                       12956 non-null  int64         \n",
      " 3   Type                        12956 non-null  object        \n",
      " 4   Price                       12956 non-null  float64       \n",
      " 5   Method                      12956 non-null  object        \n",
      " 6   SellerG                     12956 non-null  object        \n",
      " 7   Date                        12956 non-null  object        \n",
      " 8   Distance                    12956 non-null  float64       \n",
      " 9   Postcode                    12956 non-null  float64       \n",
      " 10  Bedroom2                    12956 non-null  float64       \n",
      " 11  Bathroom                    12956 non-null  float64       \n",
      " 12  Car                         12897 non-null  float64       \n",
      " 13  Landsize                    12956 non-null  float64       \n",
      " 14  BuildingArea                6766 non-null   float64       \n",
      " 15  YearBuilt                   7798 non-null   float64       \n",
      " 16  CouncilArea                 11670 non-null  object        \n",
      " 17  Lattitude                   12956 non-null  float64       \n",
      " 18  Longtitude                  12956 non-null  float64       \n",
      " 19  Regionname                  12956 non-null  object        \n",
      " 20  Propertycount               12956 non-null  float64       \n",
      " 21  date                        12956 non-null  datetime64[ns]\n",
      " 22  zipcode                     12936 non-null  float64       \n",
      " 23  airbnb_price_mean           12936 non-null  float64       \n",
      " 24  airbnb_record_count         12936 non-null  float64       \n",
      " 25  airbnb_weekly_price_mean    12083 non-null  float64       \n",
      " 26  airbnb_weekly_price_count   12936 non-null  float64       \n",
      " 27  airbnb_monthly_price_mean   11696 non-null  float64       \n",
      " 28  airbnb_monthly_price_count  12936 non-null  float64       \n",
      "dtypes: datetime64[ns](1), float64(19), int64(1), object(8)\n",
      "memory usage: 3.0+ MB\n"
     ]
    }
   ],
   "source": [
    "merged_df.info()  "
   ]
  },
  {
   "cell_type": "code",
   "execution_count": 48,
   "metadata": {},
   "outputs": [
    {
     "name": "stdout",
     "output_type": "stream",
     "text": [
      "Nan en precio promedio:  0\n",
      "Nan en precio promedio semanal:  528\n",
      "Nan en precio promedio mensual:  864\n"
     ]
    }
   ],
   "source": [
    "#quedarse con aquellos zipcodes que tengan al menos 10 datos para el precio\n",
    "merged_df2=merged_df[merged_df.airbnb_record_count>10]\n",
    "print(\"Nan en precio promedio: \", merged_df2.airbnb_price_mean.isna().sum())\n",
    "print(\"Nan en precio promedio semanal: \", merged_df2.airbnb_weekly_price_mean.isna().sum())\n",
    "print(\"Nan en precio promedio mensual: \", merged_df2.airbnb_monthly_price_mean.isna().sum())"
   ]
  },
  {
   "cell_type": "markdown",
   "metadata": {
    "id": "Q2yDaMR023ty"
   },
   "source": [
    "Otras maneras posibles de hacer el merge podrían ser:\n",
    "- Explorar la variable suburb y ver cuántas coincidencias hay/no hay, sería una posibilidad. \n",
    "- La otra posibilidad sería pensar coincidencias por latitud-longitud, armar grupos de zonas en base a coordenadas. Armar los gurpos de igual manera en los dos datasets y unirlos en base a esa variable key.\n",
    "- Otra alternativa sería asociarla con el precio promedio de las casas que se encuentran más cerca. Diseñar algún algoritmo que mida distancias hacia a algún punto según lat y longitud, y luego definir un delta máximo para la distancia permitida."
   ]
  }
 ],
 "metadata": {
  "colab": {
   "collapsed_sections": [],
   "name": "Copy of Entregable - Parte 1.ipynb",
   "provenance": []
  },
  "kernelspec": {
   "display_name": "Python 3",
   "language": "python",
   "name": "python3"
  },
  "language_info": {
   "codemirror_mode": {
    "name": "ipython",
    "version": 3
   },
   "file_extension": ".py",
   "mimetype": "text/x-python",
   "name": "python",
   "nbconvert_exporter": "python",
   "pygments_lexer": "ipython3",
   "version": "3.8.5"
  }
 },
 "nbformat": 4,
 "nbformat_minor": 4
}
