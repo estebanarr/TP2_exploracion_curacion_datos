{
 "cells": [
  {
   "cell_type": "markdown",
   "metadata": {
    "id": "RCBzBGjjse0_"
   },
   "source": [
    "# **Grupo 13: Parte 1 del entregable, ejercicios 2 y 3**\n",
    "\n",
    "Comienza con las transformaciones que traemos del ejercicio previo."
   ]
  },
  {
   "cell_type": "code",
   "execution_count": 100,
   "metadata": {
    "id": "v_sG8_l5sDjZ"
   },
   "outputs": [],
   "source": [
    "import matplotlib.pyplot as plt\n",
    "import numpy as np\n",
    "import pandas as pd\n",
    "import pandas\n",
    "import seaborn as sns\n",
    "\n",
    "pd.set_option('display.max_columns', 500)\n",
    "sns.set_context('talk')"
   ]
  },
  {
   "cell_type": "code",
   "execution_count": 101,
   "metadata": {
    "colab": {
     "base_uri": "https://localhost:8080/",
     "height": 230
    },
    "id": "QBC5eP0isxNv",
    "outputId": "78050254-4823-4b32-bba6-2cbde8eb2d6d"
   },
   "outputs": [
    {
     "data": {
      "text/html": [
       "<div>\n",
       "<style scoped>\n",
       "    .dataframe tbody tr th:only-of-type {\n",
       "        vertical-align: middle;\n",
       "    }\n",
       "\n",
       "    .dataframe tbody tr th {\n",
       "        vertical-align: top;\n",
       "    }\n",
       "\n",
       "    .dataframe thead th {\n",
       "        text-align: right;\n",
       "    }\n",
       "</style>\n",
       "<table border=\"1\" class=\"dataframe\">\n",
       "  <thead>\n",
       "    <tr style=\"text-align: right;\">\n",
       "      <th></th>\n",
       "      <th>Suburb</th>\n",
       "      <th>Address</th>\n",
       "      <th>Rooms</th>\n",
       "      <th>Type</th>\n",
       "      <th>Price</th>\n",
       "      <th>Method</th>\n",
       "      <th>SellerG</th>\n",
       "      <th>Date</th>\n",
       "      <th>Distance</th>\n",
       "      <th>Postcode</th>\n",
       "      <th>Bedroom2</th>\n",
       "      <th>Bathroom</th>\n",
       "      <th>Car</th>\n",
       "      <th>Landsize</th>\n",
       "      <th>BuildingArea</th>\n",
       "      <th>YearBuilt</th>\n",
       "      <th>CouncilArea</th>\n",
       "      <th>Lattitude</th>\n",
       "      <th>Longtitude</th>\n",
       "      <th>Regionname</th>\n",
       "      <th>Propertycount</th>\n",
       "    </tr>\n",
       "  </thead>\n",
       "  <tbody>\n",
       "    <tr>\n",
       "      <th>0</th>\n",
       "      <td>Abbotsford</td>\n",
       "      <td>85 Turner St</td>\n",
       "      <td>2</td>\n",
       "      <td>h</td>\n",
       "      <td>1480000.0</td>\n",
       "      <td>S</td>\n",
       "      <td>Biggin</td>\n",
       "      <td>3/12/2016</td>\n",
       "      <td>2.5</td>\n",
       "      <td>3067.0</td>\n",
       "      <td>2.0</td>\n",
       "      <td>1.0</td>\n",
       "      <td>1.0</td>\n",
       "      <td>202.0</td>\n",
       "      <td>NaN</td>\n",
       "      <td>NaN</td>\n",
       "      <td>Yarra</td>\n",
       "      <td>-37.7996</td>\n",
       "      <td>144.9984</td>\n",
       "      <td>Northern Metropolitan</td>\n",
       "      <td>4019.0</td>\n",
       "    </tr>\n",
       "    <tr>\n",
       "      <th>1</th>\n",
       "      <td>Abbotsford</td>\n",
       "      <td>25 Bloomburg St</td>\n",
       "      <td>2</td>\n",
       "      <td>h</td>\n",
       "      <td>1035000.0</td>\n",
       "      <td>S</td>\n",
       "      <td>Biggin</td>\n",
       "      <td>4/02/2016</td>\n",
       "      <td>2.5</td>\n",
       "      <td>3067.0</td>\n",
       "      <td>2.0</td>\n",
       "      <td>1.0</td>\n",
       "      <td>0.0</td>\n",
       "      <td>156.0</td>\n",
       "      <td>79.0</td>\n",
       "      <td>1900.0</td>\n",
       "      <td>Yarra</td>\n",
       "      <td>-37.8079</td>\n",
       "      <td>144.9934</td>\n",
       "      <td>Northern Metropolitan</td>\n",
       "      <td>4019.0</td>\n",
       "    </tr>\n",
       "    <tr>\n",
       "      <th>2</th>\n",
       "      <td>Abbotsford</td>\n",
       "      <td>5 Charles St</td>\n",
       "      <td>3</td>\n",
       "      <td>h</td>\n",
       "      <td>1465000.0</td>\n",
       "      <td>SP</td>\n",
       "      <td>Biggin</td>\n",
       "      <td>4/03/2017</td>\n",
       "      <td>2.5</td>\n",
       "      <td>3067.0</td>\n",
       "      <td>3.0</td>\n",
       "      <td>2.0</td>\n",
       "      <td>0.0</td>\n",
       "      <td>134.0</td>\n",
       "      <td>150.0</td>\n",
       "      <td>1900.0</td>\n",
       "      <td>Yarra</td>\n",
       "      <td>-37.8093</td>\n",
       "      <td>144.9944</td>\n",
       "      <td>Northern Metropolitan</td>\n",
       "      <td>4019.0</td>\n",
       "    </tr>\n",
       "  </tbody>\n",
       "</table>\n",
       "</div>"
      ],
      "text/plain": [
       "       Suburb          Address  Rooms Type      Price Method SellerG  \\\n",
       "0  Abbotsford     85 Turner St      2    h  1480000.0      S  Biggin   \n",
       "1  Abbotsford  25 Bloomburg St      2    h  1035000.0      S  Biggin   \n",
       "2  Abbotsford     5 Charles St      3    h  1465000.0     SP  Biggin   \n",
       "\n",
       "        Date  Distance  Postcode  Bedroom2  Bathroom  Car  Landsize  \\\n",
       "0  3/12/2016       2.5    3067.0       2.0       1.0  1.0     202.0   \n",
       "1  4/02/2016       2.5    3067.0       2.0       1.0  0.0     156.0   \n",
       "2  4/03/2017       2.5    3067.0       3.0       2.0  0.0     134.0   \n",
       "\n",
       "   BuildingArea  YearBuilt CouncilArea  Lattitude  Longtitude  \\\n",
       "0           NaN        NaN       Yarra   -37.7996    144.9984   \n",
       "1          79.0     1900.0       Yarra   -37.8079    144.9934   \n",
       "2         150.0     1900.0       Yarra   -37.8093    144.9944   \n",
       "\n",
       "              Regionname  Propertycount  \n",
       "0  Northern Metropolitan         4019.0  \n",
       "1  Northern Metropolitan         4019.0  \n",
       "2  Northern Metropolitan         4019.0  "
      ]
     },
     "execution_count": 101,
     "metadata": {},
     "output_type": "execute_result"
    }
   ],
   "source": [
    "melb_df = pandas.read_csv(\n",
    "    'https://cs.famaf.unc.edu.ar/~mteruel/datasets/diplodatos/melb_data.csv')\n",
    "melb_df[:3]"
   ]
  },
  {
   "cell_type": "code",
   "execution_count": 102,
   "metadata": {
    "colab": {
     "base_uri": "https://localhost:8080/"
    },
    "id": "uWicZDEOsx81",
    "outputId": "8688c742-3ec0-45ce-eefc-12642e55c76b"
   },
   "outputs": [
    {
     "name": "stdout",
     "output_type": "stream",
     "text": [
      "Nuevo mínimo= -370000.0\n",
      "Nuevo máximo= 2350000.0\n"
     ]
    }
   ],
   "source": [
    "melb_df.Price.quantile(.95).round()\n",
    "#Se podría definir una regla objetiva para eliminar datos outliers como: 1.5 veces el RI por encima o por debajo de los cuartiles 1 y 3. \n",
    "q25=melb_df.Price.quantile(.25)\n",
    "q75=melb_df.Price.quantile(.75)\n",
    "RI=q75-q25\n",
    "min=q25-1.5*RI\n",
    "max=q75+1.5*RI\n",
    "print(\"Nuevo mínimo=\", min)   #como el mínimo es negativo, tomaría el mínimo real de la variable. Es decir, solo restringiríamos la cola derecha de la distribución\n",
    "print(\"Nuevo máximo=\", max)"
   ]
  },
  {
   "cell_type": "code",
   "execution_count": 103,
   "metadata": {
    "id": "y5LcVB-Vs4dY"
   },
   "outputs": [],
   "source": [
    "melb_df2=melb_df[melb_df.Price<max]"
   ]
  },
  {
   "cell_type": "code",
   "execution_count": 104,
   "metadata": {
    "id": "kkxAQWIPs-mV"
   },
   "outputs": [],
   "source": [
    "relevant_columns2=['Rooms', 'Type', 'Price', 'Method',\n",
    "       'Date', 'Distance', 'Postcode', 'Bathroom', 'Car',\n",
    "       'Landsize', 'BuildingArea', 'YearBuilt', 'Lattitude',\n",
    "       'Longtitude', 'Regionname', 'Propertycount', 'SellerG','Suburb', 'CouncilArea']\n",
    "melb_df3=melb_df2[relevant_columns2]"
   ]
  },
  {
   "cell_type": "markdown",
   "metadata": {
    "id": "ko-M3YE-vtWC"
   },
   "source": [
    "Agregar todas las otras modificaciones que hicimos a las variables, para partir desde ahí."
   ]
  },
  {
   "cell_type": "code",
   "execution_count": 105,
   "metadata": {
    "id": "8_Y40zt-vCgO"
   },
   "outputs": [],
   "source": [
    "auction_price_groups = {\n",
    "    'S': 'On price',\n",
    "    'SA': 'On price',\n",
    "    'PI': 'Under',\n",
    "    'VB': 'Under',\n",
    "    'SP': 'Above'\n",
    "}\n",
    "auction_price = melb_df3.Method.replace(auction_price_groups)"
   ]
  },
  {
   "cell_type": "code",
   "execution_count": 106,
   "metadata": {
    "id": "MWgBWrNRvFoD"
   },
   "outputs": [],
   "source": [
    "new_groups = {\n",
    "    'Eastern Victoria': 'Victoria',\n",
    "    'Northern Victoria': 'Victoria',\n",
    "    'Western Victoria': 'Victoria',\n",
    "    'Southern Metropolitan': 'Southern Metropolitan',\n",
    "    'Northern Metropolitan': 'Northern Metropolitan',\n",
    "    'Western Metropolitan': 'Western Metropolitan',\n",
    "    'Eastern Metropolitan': 'South-Eastern Metropolitan',\n",
    "    'South-Eastern Metropolitan': 'South-Eastern Metropolitan',\n",
    "}\n",
    "grouped_region = melb_df3.Regionname.replace(new_groups)"
   ]
  },
  {
   "cell_type": "code",
   "execution_count": 107,
   "metadata": {
    "colab": {
     "base_uri": "https://localhost:8080/"
    },
    "id": "xMvBL5oDvNf1",
    "outputId": "5063dfb9-c057-4b8b-b406-9e24ad7afa54"
   },
   "outputs": [
    {
     "name": "stderr",
     "output_type": "stream",
     "text": [
      "<ipython-input-107-c6f7c3de82ab>:2: SettingWithCopyWarning: \n",
      "A value is trying to be set on a copy of a slice from a DataFrame.\n",
      "Try using .loc[row_indexer,col_indexer] = value instead\n",
      "\n",
      "See the caveats in the documentation: https://pandas.pydata.org/pandas-docs/stable/user_guide/indexing.html#returning-a-view-versus-a-copy\n",
      "  melb_df3['date'] = pandas.to_datetime(melb_df3.Date, dayfirst=True)\n"
     ]
    }
   ],
   "source": [
    "#Transformar la variable Date en una variable temporal\n",
    "melb_df3['date'] = pandas.to_datetime(melb_df3.Date, dayfirst=True)"
   ]
  },
  {
   "cell_type": "code",
   "execution_count": 108,
   "metadata": {
    "id": "69Gvox0LvO5e"
   },
   "outputs": [],
   "source": [
    "#Dado que la precisión por día no será útil, extraer por mes y año \n",
    "melb_df3['date_month'] = pandas.to_datetime(melb_df3.date.dt.strftime('%Y-%m'))\n",
    "melb_df3['date_year'] = pandas.to_datetime(melb_df3.date.dt.strftime('%Y'))"
   ]
  },
  {
   "cell_type": "code",
   "execution_count": 109,
   "metadata": {
    "id": "H_ZaIjuOvh_w"
   },
   "outputs": [],
   "source": [
    "#Armar rangos de antiguedad que abarquen desde 1830 hasta 2018"
   ]
  },
  {
   "cell_type": "code",
   "execution_count": 110,
   "metadata": {
    "colab": {
     "base_uri": "https://localhost:8080/"
    },
    "id": "RRAI3V0WwAd_",
    "outputId": "75b04e01-2429-425a-8dca-a9718752b9cb"
   },
   "outputs": [
    {
     "name": "stderr",
     "output_type": "stream",
     "text": [
      "C:\\Users\\arrua\\anaconda3\\lib\\site-packages\\IPython\\core\\interactiveshell.py:3165: DtypeWarning: Columns (35) have mixed types.Specify dtype option on import or set low_memory=False.\n",
      "  has_raised = await self.run_ast_nodes(code_ast.body, cell_name,\n"
     ]
    }
   ],
   "source": [
    "# data source:\n",
    "# https://www.kaggle.com/tylerx/melbourne-airbnb-open-data?select=cleansed_listings_dec18.csv\n",
    "interesting_cols = [\n",
    "  'description', 'neighborhood_overview',\n",
    "  'street', 'neighborhood', 'city', 'suburb', 'state', 'zipcode',\n",
    "  'price', 'weekly_price', 'monthly_price',\n",
    "  'latitude', 'longitude',\n",
    "]\n",
    "airbnb_df = pandas.read_csv(\n",
    "    'https://cs.famaf.unc.edu.ar/~mteruel/datasets/diplodatos/cleansed_listings_dec18.csv',\n",
    "    usecols=interesting_cols)"
   ]
  },
  {
   "cell_type": "code",
   "execution_count": 111,
   "metadata": {
    "id": "GgmRbikCwD2p"
   },
   "outputs": [],
   "source": [
    "airbnb_df['zipcode'] = pandas.to_numeric(airbnb_df.zipcode, errors='coerce')"
   ]
  },
  {
   "cell_type": "code",
   "execution_count": 112,
   "metadata": {
    "id": "KmP6rNF5wHfo"
   },
   "outputs": [],
   "source": [
    "relevant_cols = ['price', 'weekly_price', 'monthly_price', 'zipcode']\n",
    "airbnb_price_by_zipcode = airbnb_df[relevant_cols].groupby('zipcode')\\\n",
    "  .agg({'price': ['mean', 'count'], 'weekly_price': ['mean', 'count'],\n",
    "        'monthly_price': ['mean', 'count']})\\\n",
    "  .reset_index()\n",
    "# Flatten the two level columns\n",
    "airbnb_price_by_zipcode.columns = [\n",
    "  ' '.join(col).strip()\n",
    "  for col in airbnb_price_by_zipcode.columns.values]\n",
    "# Rename columns\n",
    "airbnb_price_by_zipcode = airbnb_price_by_zipcode.rename(\n",
    "    columns={'price mean': 'airbnb_price_mean',\n",
    "             'price count': 'airbnb_record_count',\n",
    "             'weekly_price mean': 'airbnb_weekly_price_mean',\n",
    "             'weekly_price count': 'airbnb_weekly_price_count',\n",
    "             'monthly_price mean': 'airbnb_monthly_price_mean',\n",
    "             'monthly_price count': 'airbnb_monthly_price_count'}\n",
    ")"
   ]
  },
  {
   "cell_type": "code",
   "execution_count": 113,
   "metadata": {
    "colab": {
     "base_uri": "https://localhost:8080/"
    },
    "id": "KVtojApGtY5A",
    "outputId": "ae3a7aaa-b97b-4cfa-8dc0-16e71880d94e"
   },
   "outputs": [
    {
     "name": "stdout",
     "output_type": "stream",
     "text": [
      "<class 'pandas.core.frame.DataFrame'>\n",
      "Int64Index: 12956 entries, 0 to 12955\n",
      "Data columns (total 29 columns):\n",
      " #   Column                      Non-Null Count  Dtype         \n",
      "---  ------                      --------------  -----         \n",
      " 0   Rooms                       12956 non-null  int64         \n",
      " 1   Type                        12956 non-null  object        \n",
      " 2   Price                       12956 non-null  float64       \n",
      " 3   Method                      12956 non-null  object        \n",
      " 4   Date                        12956 non-null  object        \n",
      " 5   Distance                    12956 non-null  float64       \n",
      " 6   Postcode                    12956 non-null  float64       \n",
      " 7   Bathroom                    12956 non-null  float64       \n",
      " 8   Car                         12897 non-null  float64       \n",
      " 9   Landsize                    12956 non-null  float64       \n",
      " 10  BuildingArea                6766 non-null   float64       \n",
      " 11  YearBuilt                   7798 non-null   float64       \n",
      " 12  Lattitude                   12956 non-null  float64       \n",
      " 13  Longtitude                  12956 non-null  float64       \n",
      " 14  Regionname                  12956 non-null  object        \n",
      " 15  Propertycount               12956 non-null  float64       \n",
      " 16  SellerG                     12956 non-null  object        \n",
      " 17  Suburb                      12956 non-null  object        \n",
      " 18  CouncilArea                 11670 non-null  object        \n",
      " 19  date                        12956 non-null  datetime64[ns]\n",
      " 20  date_month                  12956 non-null  datetime64[ns]\n",
      " 21  date_year                   12956 non-null  datetime64[ns]\n",
      " 22  zipcode                     12936 non-null  float64       \n",
      " 23  airbnb_price_mean           12936 non-null  float64       \n",
      " 24  airbnb_record_count         12936 non-null  float64       \n",
      " 25  airbnb_weekly_price_mean    12083 non-null  float64       \n",
      " 26  airbnb_weekly_price_count   12936 non-null  float64       \n",
      " 27  airbnb_monthly_price_mean   11696 non-null  float64       \n",
      " 28  airbnb_monthly_price_count  12936 non-null  float64       \n",
      "dtypes: datetime64[ns](3), float64(18), int64(1), object(7)\n",
      "memory usage: 3.0+ MB\n"
     ]
    }
   ],
   "source": [
    "complete_df= melb_df3.merge(\n",
    "    airbnb_price_by_zipcode, how='left',\n",
    "    left_on='Postcode', right_on='zipcode'\n",
    ")\n",
    "complete_df.info()  "
   ]
  },
  {
   "cell_type": "code",
   "execution_count": 114,
   "metadata": {
    "id": "DskPK58otd7X"
   },
   "outputs": [],
   "source": [
    "#Deberíamos retomar la aliminación según conteo de casos por zipcode verdad?\n",
    "complete_df2=complete_df[complete_df.airbnb_record_count>10]"
   ]
  },
  {
   "cell_type": "markdown",
   "metadata": {
    "id": "99517UPYsw7B"
   },
   "source": [
    "## Ejercicio 2: Imputación\n",
    "\n",
    "1. Imputar los valores faltantes de la columna CouncilArea en base a la información presente en Suburb. (Si en el punto anterior no seleccionó ninguna de estas variables, agréguelas ahora el conjunto de datos).\n"
   ]
  },
  {
   "cell_type": "code",
   "execution_count": 115,
   "metadata": {
    "colab": {
     "base_uri": "https://localhost:8080/"
    },
    "id": "chiBczYPtkZL",
    "outputId": "7c191b13-db97-468f-f856-b0842eb39dc9"
   },
   "outputs": [
    {
     "name": "stdout",
     "output_type": "stream",
     "text": [
      "NaN de Suburbio= 0\n",
      "NaN de CouncilArea= 1193\n"
     ]
    }
   ],
   "source": [
    "print(\"NaN de Suburbio=\", complete_df2.Suburb.isna().sum())\n",
    "print(\"NaN de CouncilArea=\", complete_df2.CouncilArea.isna().sum())"
   ]
  },
  {
   "cell_type": "code",
   "execution_count": 116,
   "metadata": {
    "colab": {
     "base_uri": "https://localhost:8080/"
    },
    "id": "Yjb4Zrd9tvSZ",
    "outputId": "f12bb5a3-62e2-4f39-988a-ba3e41a09db1"
   },
   "outputs": [
    {
     "data": {
      "text/plain": [
       "count         12358\n",
       "unique          265\n",
       "top       Reservoir\n",
       "freq            359\n",
       "Name: Suburb, dtype: object"
      ]
     },
     "execution_count": 116,
     "metadata": {},
     "output_type": "execute_result"
    }
   ],
   "source": [
    "complete_df2.Suburb.describe()    #265 categorías para Suburb"
   ]
  },
  {
   "cell_type": "code",
   "execution_count": 117,
   "metadata": {
    "colab": {
     "base_uri": "https://localhost:8080/"
    },
    "id": "UbfTC7Z3txyn",
    "outputId": "9b8be461-5fe3-4edc-f82f-8f0455c0033a"
   },
   "outputs": [
    {
     "data": {
      "text/plain": [
       "count        11165\n",
       "unique          31\n",
       "top       Moreland\n",
       "freq          1064\n",
       "Name: CouncilArea, dtype: object"
      ]
     },
     "execution_count": 117,
     "metadata": {},
     "output_type": "execute_result"
    }
   ],
   "source": [
    "complete_df2.CouncilArea.describe()    #31 categorías para CouncilArea, con lo cual un CouncilArea abarca a más de un Suburbio"
   ]
  },
  {
   "cell_type": "markdown",
   "metadata": {
    "id": "WqCh2FAEt5RW"
   },
   "source": [
    "Métodos de imputación para variables string: El más frecuente (pero en este caso no serviría por el tipo de datos), Datawig Imputation Using Deep Learning (habría que comprender bien qué hace), sino la otra alternativa más manual que no se cómo programar acá.\n",
    "\n",
    "La alternativa manual sería hacer un cuadro anidado y ver si los NaN se CouncilArea se encuentran Suburbs que ya tenían asociada en otra línea el CouncilArea. Sería fácil identificarlos en ese caso."
   ]
  },
  {
   "cell_type": "code",
   "execution_count": 118,
   "metadata": {},
   "outputs": [
    {
     "data": {
      "text/html": [
       "<div>\n",
       "<style scoped>\n",
       "    .dataframe tbody tr th:only-of-type {\n",
       "        vertical-align: middle;\n",
       "    }\n",
       "\n",
       "    .dataframe tbody tr th {\n",
       "        vertical-align: top;\n",
       "    }\n",
       "\n",
       "    .dataframe thead th {\n",
       "        text-align: right;\n",
       "    }\n",
       "</style>\n",
       "<table border=\"1\" class=\"dataframe\">\n",
       "  <thead>\n",
       "    <tr style=\"text-align: right;\">\n",
       "      <th></th>\n",
       "      <th>Rooms</th>\n",
       "      <th>Type</th>\n",
       "      <th>Price</th>\n",
       "      <th>Method</th>\n",
       "      <th>Date</th>\n",
       "      <th>Distance</th>\n",
       "      <th>Postcode</th>\n",
       "      <th>Bathroom</th>\n",
       "      <th>Car</th>\n",
       "      <th>Landsize</th>\n",
       "      <th>BuildingArea</th>\n",
       "      <th>YearBuilt</th>\n",
       "      <th>Lattitude</th>\n",
       "      <th>Longtitude</th>\n",
       "      <th>Regionname</th>\n",
       "      <th>Propertycount</th>\n",
       "      <th>SellerG</th>\n",
       "      <th>Suburb</th>\n",
       "      <th>CouncilArea</th>\n",
       "      <th>date</th>\n",
       "      <th>date_month</th>\n",
       "      <th>date_year</th>\n",
       "      <th>zipcode</th>\n",
       "      <th>airbnb_price_mean</th>\n",
       "      <th>airbnb_record_count</th>\n",
       "      <th>airbnb_weekly_price_mean</th>\n",
       "      <th>airbnb_weekly_price_count</th>\n",
       "      <th>airbnb_monthly_price_mean</th>\n",
       "      <th>airbnb_monthly_price_count</th>\n",
       "    </tr>\n",
       "  </thead>\n",
       "  <tbody>\n",
       "    <tr>\n",
       "      <th>0</th>\n",
       "      <td>2</td>\n",
       "      <td>h</td>\n",
       "      <td>1480000.0</td>\n",
       "      <td>S</td>\n",
       "      <td>3/12/2016</td>\n",
       "      <td>2.5</td>\n",
       "      <td>3067.0</td>\n",
       "      <td>1.0</td>\n",
       "      <td>1.0</td>\n",
       "      <td>202.0</td>\n",
       "      <td>NaN</td>\n",
       "      <td>NaN</td>\n",
       "      <td>-37.7996</td>\n",
       "      <td>144.9984</td>\n",
       "      <td>Northern Metropolitan</td>\n",
       "      <td>4019.0</td>\n",
       "      <td>Biggin</td>\n",
       "      <td>Abbotsford</td>\n",
       "      <td>Yarra</td>\n",
       "      <td>2016-12-03</td>\n",
       "      <td>2016-12-01</td>\n",
       "      <td>2016-01-01</td>\n",
       "      <td>3067.0</td>\n",
       "      <td>130.624031</td>\n",
       "      <td>258.0</td>\n",
       "      <td>605.152174</td>\n",
       "      <td>46.0</td>\n",
       "      <td>2187.032258</td>\n",
       "      <td>31.0</td>\n",
       "    </tr>\n",
       "    <tr>\n",
       "      <th>1</th>\n",
       "      <td>2</td>\n",
       "      <td>h</td>\n",
       "      <td>1035000.0</td>\n",
       "      <td>S</td>\n",
       "      <td>4/02/2016</td>\n",
       "      <td>2.5</td>\n",
       "      <td>3067.0</td>\n",
       "      <td>1.0</td>\n",
       "      <td>0.0</td>\n",
       "      <td>156.0</td>\n",
       "      <td>79.0</td>\n",
       "      <td>1900.0</td>\n",
       "      <td>-37.8079</td>\n",
       "      <td>144.9934</td>\n",
       "      <td>Northern Metropolitan</td>\n",
       "      <td>4019.0</td>\n",
       "      <td>Biggin</td>\n",
       "      <td>Abbotsford</td>\n",
       "      <td>Yarra</td>\n",
       "      <td>2016-02-04</td>\n",
       "      <td>2016-02-01</td>\n",
       "      <td>2016-01-01</td>\n",
       "      <td>3067.0</td>\n",
       "      <td>130.624031</td>\n",
       "      <td>258.0</td>\n",
       "      <td>605.152174</td>\n",
       "      <td>46.0</td>\n",
       "      <td>2187.032258</td>\n",
       "      <td>31.0</td>\n",
       "    </tr>\n",
       "  </tbody>\n",
       "</table>\n",
       "</div>"
      ],
      "text/plain": [
       "   Rooms Type      Price Method       Date  Distance  Postcode  Bathroom  Car  \\\n",
       "0      2    h  1480000.0      S  3/12/2016       2.5    3067.0       1.0  1.0   \n",
       "1      2    h  1035000.0      S  4/02/2016       2.5    3067.0       1.0  0.0   \n",
       "\n",
       "   Landsize  BuildingArea  YearBuilt  Lattitude  Longtitude  \\\n",
       "0     202.0           NaN        NaN   -37.7996    144.9984   \n",
       "1     156.0          79.0     1900.0   -37.8079    144.9934   \n",
       "\n",
       "              Regionname  Propertycount SellerG      Suburb CouncilArea  \\\n",
       "0  Northern Metropolitan         4019.0  Biggin  Abbotsford       Yarra   \n",
       "1  Northern Metropolitan         4019.0  Biggin  Abbotsford       Yarra   \n",
       "\n",
       "        date date_month  date_year  zipcode  airbnb_price_mean  \\\n",
       "0 2016-12-03 2016-12-01 2016-01-01   3067.0         130.624031   \n",
       "1 2016-02-04 2016-02-01 2016-01-01   3067.0         130.624031   \n",
       "\n",
       "   airbnb_record_count  airbnb_weekly_price_mean  airbnb_weekly_price_count  \\\n",
       "0                258.0                605.152174                       46.0   \n",
       "1                258.0                605.152174                       46.0   \n",
       "\n",
       "   airbnb_monthly_price_mean  airbnb_monthly_price_count  \n",
       "0                2187.032258                        31.0  \n",
       "1                2187.032258                        31.0  "
      ]
     },
     "execution_count": 118,
     "metadata": {},
     "output_type": "execute_result"
    }
   ],
   "source": [
    "complete_df2.head(2)"
   ]
  },
  {
   "cell_type": "code",
   "execution_count": 119,
   "metadata": {},
   "outputs": [
    {
     "name": "stdout",
     "output_type": "stream",
     "text": [
      "Brighton East  CouncilArea ['Bayside' 'Glen Eira']\n",
      "----------------Nos quedamos con el primero----------\n",
      "Brighton East  CouncilArea: Bayside\n",
      "Reservoir  CouncilArea: Darebin\n",
      "Aberfeldie  CouncilArea: Moonee Valley\n",
      "Albion  CouncilArea: Brimbank\n",
      "Alphington  CouncilArea ['Darebin' 'Yarra']\n",
      "----------------Nos quedamos con el primero----------\n",
      "Alphington  CouncilArea: Darebin\n",
      "Altona  CouncilArea: Hobsons Bay\n",
      "Altona Meadows  CouncilArea: Hobsons Bay\n",
      "Altona North  CouncilArea: Hobsons Bay\n",
      "Armadale  CouncilArea: Stonnington\n",
      "Ascot Vale  CouncilArea: Moonee Valley\n",
      "Balaclava  CouncilArea: Port Phillip\n",
      "Balwyn North  CouncilArea: Boroondara\n",
      "Bayswater  CouncilArea: Knox\n",
      "Bentleigh East  CouncilArea: Glen Eira\n",
      "Berwick  CouncilArea: Casey\n",
      "Black Rock  CouncilArea: Bayside\n",
      "Blackburn North  CouncilArea: Whitehorse\n",
      "Box Hill  CouncilArea: Whitehorse\n",
      "Briar Hill  CouncilArea: Banyule\n",
      "Broadmeadows  CouncilArea: Hume\n",
      "Brunswick  CouncilArea: Moreland\n",
      "Brunswick East  CouncilArea: Moreland\n",
      "Bundoora  CouncilArea ['Banyule' 'Whittlesea' 'Darebin']\n",
      "----------------Nos quedamos con el primero----------\n",
      "Bundoora  CouncilArea: Banyule\n",
      "Burwood East  CouncilArea: Whitehorse\n",
      "Camberwell  CouncilArea: Boroondara\n",
      "Carlton North  CouncilArea: Yarra\n",
      "Caulfield East  CouncilArea: Glen Eira\n",
      "Cheltenham  CouncilArea ['Kingston' 'Bayside']\n",
      "----------------Nos quedamos con el primero----------\n",
      "Cheltenham  CouncilArea: Kingston\n",
      "Clayton South  CouncilArea: Kingston\n",
      "Clifton Hill  CouncilArea: Yarra\n",
      "Coburg  CouncilArea: Moreland\n",
      "Coburg North  CouncilArea ['Moreland' 'Darebin']\n",
      "----------------Nos quedamos con el primero----------\n",
      "Coburg North  CouncilArea: Moreland\n",
      "Craigieburn  CouncilArea: Hume\n",
      "Croydon  CouncilArea: Maroondah\n",
      "Croydon Hills  CouncilArea: Maroondah\n",
      "Croydon North  CouncilArea: Maroondah\n",
      "Dallas  CouncilArea: Hume\n",
      "Dandenong  CouncilArea: Greater Dandenong\n",
      "Dandenong North  CouncilArea: Greater Dandenong\n",
      "Dingley Village  CouncilArea: Kingston\n",
      "Doncaster  CouncilArea: Manningham\n",
      "Doncaster East  CouncilArea: Manningham\n",
      "Doreen  CouncilArea: Whittlesea\n",
      "Eltham North  CouncilArea ['Nillumbik' 'Banyule']\n",
      "----------------Nos quedamos con el primero----------\n",
      "Eltham North  CouncilArea: Nillumbik\n",
      "Elwood  CouncilArea ['Port Phillip' 'Glen Eira']\n",
      "----------------Nos quedamos con el primero----------\n",
      "Elwood  CouncilArea: Port Phillip\n",
      "Epping  CouncilArea: Whittlesea\n",
      "Essendon  CouncilArea: Moonee Valley\n",
      "Fairfield  CouncilArea ['Darebin' 'Yarra']\n",
      "----------------Nos quedamos con el primero----------\n",
      "Fairfield  CouncilArea: Darebin\n",
      "Ferntree Gully  CouncilArea: Knox\n",
      "Fitzroy  CouncilArea: Yarra\n",
      "Flemington  CouncilArea ['Moonee Valley' 'Melbourne']\n",
      "----------------Nos quedamos con el primero----------\n",
      "Flemington  CouncilArea: Moonee Valley\n",
      "Footscray  CouncilArea: Maribyrnong\n"
     ]
    },
    {
     "name": "stderr",
     "output_type": "stream",
     "text": [
      "C:\\Users\\arrua\\anaconda3\\lib\\site-packages\\pandas\\core\\indexing.py:1765: SettingWithCopyWarning: \n",
      "A value is trying to be set on a copy of a slice from a DataFrame.\n",
      "Try using .loc[row_indexer,col_indexer] = value instead\n",
      "\n",
      "See the caveats in the documentation: https://pandas.pydata.org/pandas-docs/stable/user_guide/indexing.html#returning-a-view-versus-a-copy\n",
      "  isetter(loc, value)\n"
     ]
    },
    {
     "name": "stdout",
     "output_type": "stream",
     "text": [
      "Forest Hill  CouncilArea: Whitehorse\n",
      "Frankston  CouncilArea: Frankston\n",
      "Frankston South  CouncilArea: Frankston\n",
      "Gladstone Park  CouncilArea: Hume\n",
      "Glen Iris  CouncilArea ['Boroondara' 'Stonnington']\n",
      "----------------Nos quedamos con el primero----------\n",
      "Glen Iris  CouncilArea: Boroondara\n",
      "Glen Waverley  CouncilArea: Monash\n",
      "Glenroy  CouncilArea: Moreland\n",
      "Gowanbrae  CouncilArea: Moreland\n",
      "Greensborough  CouncilArea ['Banyule' 'Nillumbik']\n",
      "----------------Nos quedamos con el primero----------\n",
      "Greensborough  CouncilArea: Banyule\n",
      "Greenvale  CouncilArea: Hume\n",
      "Hampton  CouncilArea ['Bayside' 'Unavailable']\n",
      "----------------Nos quedamos con el primero----------\n",
      "Hampton  CouncilArea: Bayside\n",
      "Highett  CouncilArea ['Bayside' 'Kingston']\n",
      "----------------Nos quedamos con el primero----------\n",
      "Highett  CouncilArea: Bayside\n",
      "Hoppers Crossing  CouncilArea: Wyndham\n",
      "Huntingdale  CouncilArea: Monash\n",
      "Kealba  CouncilArea: Brimbank\n",
      "Keilor East  CouncilArea ['Moonee Valley' 'Brimbank']\n",
      "----------------Nos quedamos con el primero----------\n",
      "Keilor East  CouncilArea: Moonee Valley\n",
      "Kew  CouncilArea: Boroondara\n",
      "Kew East  CouncilArea: Boroondara\n",
      "Maidstone  CouncilArea: Maribyrnong\n",
      "Malvern East  CouncilArea: Stonnington\n",
      "Maribyrnong  CouncilArea: Maribyrnong\n",
      "Melton  CouncilArea: Melton\n",
      "Melton West  CouncilArea: Melton\n",
      "Mentone  CouncilArea: Kingston\n",
      "Moonee Ponds  CouncilArea: Moonee Valley\n",
      "Moorabbin  CouncilArea: Kingston\n",
      "Mordialloc  CouncilArea: Kingston\n",
      "Mount Waverley  CouncilArea: Monash\n",
      "Mulgrave  CouncilArea: Monash\n",
      "Newport  CouncilArea: Hobsons Bay\n",
      "Niddrie  CouncilArea: Moonee Valley\n",
      "North Melbourne  CouncilArea: Melbourne\n",
      "Northcote  CouncilArea: Darebin\n",
      "Oakleigh  CouncilArea: Monash\n",
      "Oakleigh South  CouncilArea ['Monash' 'Kingston']\n",
      "----------------Nos quedamos con el primero----------\n",
      "Oakleigh South  CouncilArea: Monash\n",
      "Ormond  CouncilArea: Glen Eira\n",
      "Parkdale  CouncilArea: Kingston\n",
      "Pascoe Vale  CouncilArea: Moreland\n",
      "Point Cook  CouncilArea: Wyndham\n",
      "Port Melbourne  CouncilArea ['Port Phillip' 'Melbourne']\n",
      "----------------Nos quedamos con el primero----------\n",
      "Port Melbourne  CouncilArea: Port Phillip\n",
      "Prahran  CouncilArea: Stonnington\n",
      "Ringwood  CouncilArea: Maroondah\n",
      "Roxburgh Park  CouncilArea: Hume\n",
      "South Melbourne  CouncilArea: Port Phillip\n",
      "South Yarra  CouncilArea ['Stonnington' 'Melbourne']\n",
      "----------------Nos quedamos con el primero----------\n",
      "South Yarra  CouncilArea: Stonnington\n",
      "Springvale  CouncilArea: Greater Dandenong\n",
      "Springvale South  CouncilArea: Greater Dandenong\n",
      "St Albans  CouncilArea: Brimbank\n",
      "Sunbury  CouncilArea: Hume\n",
      "Sunshine North  CouncilArea: Brimbank\n",
      "Sunshine West  CouncilArea: Brimbank\n",
      "Thornbury  CouncilArea: Darebin\n",
      "Tullamarine  CouncilArea: Hume\n",
      "Warrandyte  CouncilArea: Manningham\n",
      "Werribee  CouncilArea: Wyndham\n",
      "West Footscray  CouncilArea: Maribyrnong\n",
      "West Melbourne  CouncilArea: Melbourne\n",
      "Wheelers Hill  CouncilArea: Monash\n",
      "Williamstown  CouncilArea: Hobsons Bay\n",
      "Windsor  CouncilArea ['Port Phillip' 'Stonnington']\n",
      "----------------Nos quedamos con el primero----------\n",
      "Windsor  CouncilArea: Port Phillip\n",
      "Yarraville  CouncilArea: Maribyrnong\n",
      "Airport West  CouncilArea: Moonee Valley\n",
      "Ashburton  CouncilArea: Boroondara\n",
      "Aspendale  CouncilArea: Kingston\n",
      "Aspendale Gardens  CouncilArea: Kingston\n",
      "Bayswater North  CouncilArea: Maroondah\n",
      "Beaumaris  CouncilArea: Bayside\n",
      "Bentleigh  CouncilArea: Glen Eira\n",
      "Blackburn  CouncilArea: Whitehorse\n",
      "Braybrook  CouncilArea: Maribyrnong\n",
      "Brunswick West  CouncilArea: Moreland\n",
      "Bulleen  CouncilArea: Manningham\n",
      "Burwood  CouncilArea ['Whitehorse' 'Monash']\n",
      "----------------Nos quedamos con el primero----------\n",
      "Burwood  CouncilArea: Whitehorse\n",
      "Carlton  CouncilArea: Melbourne\n",
      "Collingwood  CouncilArea: Yarra\n",
      "Cremorne  CouncilArea: Yarra\n",
      "Deer Park  CouncilArea: Brimbank\n",
      "Derrimut  CouncilArea: Brimbank\n",
      "Eltham  CouncilArea: Nillumbik\n",
      "Hadfield  CouncilArea: Moreland\n",
      "Hawthorn  CouncilArea: Boroondara\n",
      "Hawthorn East  CouncilArea: Boroondara\n",
      "Heathmont  CouncilArea: Maroondah\n",
      "Heidelberg Heights  CouncilArea: Banyule\n",
      "Hillside  CouncilArea ['Melton' 'Brimbank']\n",
      "----------------Nos quedamos con el primero----------\n",
      "Hillside  CouncilArea: Melton\n",
      "Ivanhoe East  CouncilArea: Banyule\n",
      "Kingsville  CouncilArea: Maribyrnong\n",
      "Malvern  CouncilArea: Stonnington\n",
      "Melton South  CouncilArea: Melton\n",
      "Mernda  CouncilArea: Whittlesea\n",
      "Middle Park  CouncilArea: Port Phillip\n",
      "Mill Park  CouncilArea: Whittlesea\n",
      "Mitcham  CouncilArea: Whitehorse\n",
      "Mont Albert  CouncilArea ['Whitehorse' 'Boroondara']\n",
      "----------------Nos quedamos con el primero----------\n",
      "Mont Albert  CouncilArea: Whitehorse\n",
      "Mooroolbark  CouncilArea: Yarra Ranges\n",
      "Murrumbeena  CouncilArea: Glen Eira\n",
      "North Warrandyte  CouncilArea: Nillumbik\n",
      "Preston  CouncilArea ['Darebin' 'Banyule']\n",
      "----------------Nos quedamos con el primero----------\n",
      "Preston  CouncilArea: Darebin\n",
      "Richmond  CouncilArea: Yarra\n",
      "Ringwood East  CouncilArea: Maroondah\n",
      "Ringwood North  CouncilArea: Maroondah\n",
      "Rosanna  CouncilArea: Banyule\n",
      "Sandringham  CouncilArea: Bayside\n",
      "Seaford  CouncilArea: Frankston\n",
      "South Morang  CouncilArea: Whittlesea\n",
      "Templestowe Lower  CouncilArea: Manningham\n",
      "Thomastown  CouncilArea: Whittlesea\n",
      "Wantirna  CouncilArea: Knox\n",
      "Wantirna South  CouncilArea: Knox\n",
      "Waterways  CouncilArea: Kingston\n",
      "Westmeadows  CouncilArea: Hume\n",
      "Albert Park  CouncilArea: Port Phillip\n",
      "Blackburn South  CouncilArea: Whitehorse\n",
      "Bonbeach  CouncilArea: Kingston\n",
      "Boronia  CouncilArea: Knox\n",
      "Brighton  CouncilArea: Bayside\n",
      "Carnegie  CouncilArea: Glen Eira\n",
      "Chelsea  CouncilArea: Kingston\n",
      "Clayton  CouncilArea: Monash\n",
      "Fitzroy North  CouncilArea ['Yarra' 'Moreland']\n",
      "----------------Nos quedamos con el primero----------\n",
      "Fitzroy North  CouncilArea: Yarra\n",
      "Hampton East  CouncilArea ['Bayside' 'Kingston']\n",
      "----------------Nos quedamos con el primero----------\n",
      "Hampton East  CouncilArea: Bayside\n",
      "Heidelberg West  CouncilArea: Banyule\n",
      "Jacana  CouncilArea: Hume\n",
      "Narre Warren  CouncilArea: Casey\n",
      "Oak Park  CouncilArea: Moreland\n",
      "Princes Hill  CouncilArea: Yarra\n",
      "Scoresby  CouncilArea: Knox\n",
      "Sunshine  CouncilArea: Brimbank\n",
      "Surrey Hills  CouncilArea ['Whitehorse' 'Boroondara']\n",
      "----------------Nos quedamos con el primero----------\n",
      "Surrey Hills  CouncilArea: Whitehorse\n",
      "Templestowe  CouncilArea: Manningham\n",
      "Toorak  CouncilArea: Stonnington\n",
      "Vermont  CouncilArea: Whitehorse\n",
      "Viewbank  CouncilArea: Banyule\n",
      "Williams Landing  CouncilArea: Wyndham\n",
      "Williamstown North  CouncilArea: Hobsons Bay\n",
      "Abbotsford  CouncilArea: Yarra\n",
      "Albanvale  CouncilArea: Brimbank\n",
      "Ashwood  CouncilArea: Monash\n",
      "Balwyn  CouncilArea: Boroondara\n",
      "Caroline Springs  CouncilArea: Melton\n",
      "Chelsea Heights  CouncilArea: Kingston\n",
      "Clarinda  CouncilArea: Kingston\n",
      "Eaglemont  CouncilArea: Banyule\n",
      "Edithvale  CouncilArea: Kingston\n",
      "Elsternwick  CouncilArea: Glen Eira\n",
      "Kensington  CouncilArea ['Melbourne' 'Moonee Valley']\n",
      "----------------Nos quedamos con el primero----------\n",
      "Kensington  CouncilArea: Melbourne\n",
      "McKinnon  CouncilArea: Glen Eira\n",
      "Nunawading  CouncilArea: Whitehorse\n",
      "Spotswood  CouncilArea: Hobsons Bay\n",
      "Truganina  CouncilArea: Wyndham\n",
      "Vermont South  CouncilArea: Whitehorse\n",
      "Wyndham Vale  CouncilArea: Wyndham\n",
      "Brooklyn  CouncilArea ['Hobsons Bay' 'Brimbank']\n",
      "----------------Nos quedamos con el primero----------\n",
      "Brooklyn  CouncilArea: Hobsons Bay\n",
      "Burnside Heights  CouncilArea: Melton\n",
      "Delahey  CouncilArea: Brimbank\n",
      "Glen Huntly  CouncilArea: Glen Eira\n",
      "Heidelberg  CouncilArea: Banyule\n",
      "Keysborough  CouncilArea: Greater Dandenong\n",
      "Notting Hill  CouncilArea: Monash\n",
      "Oakleigh East  CouncilArea: Monash\n",
      "Seddon  CouncilArea: Maribyrnong\n",
      "St Helena  CouncilArea: Banyule\n",
      "St Kilda  CouncilArea: Port Phillip\n",
      "Bellfield  CouncilArea: Banyule\n",
      "Canterbury  CouncilArea: Boroondara\n",
      "Caulfield South  CouncilArea: Glen Eira\n",
      "Chadstone  CouncilArea: Monash\n",
      "Cranbourne  CouncilArea: Casey\n",
      "Ivanhoe  CouncilArea: Banyule\n",
      "Keilor Park  CouncilArea: Brimbank\n",
      "Kings Park  CouncilArea: Brimbank\n",
      "Tarneit  CouncilArea: Wyndham\n",
      "Existen 27 suburbs que pertenecen a mas de un CouncilArea\n"
     ]
    }
   ],
   "source": [
    "contador=0\n",
    "\n",
    "for i in complete_df2[complete_df2.CouncilArea.isnull()].Suburb.unique():\n",
    "    council_area=complete_df2[(complete_df2.Suburb==i) & (~complete_df2.CouncilArea.isnull())].CouncilArea.unique()\n",
    "    if council_area.size!=0:\n",
    "        if council_area.size>1:\n",
    "            contador=contador+1\n",
    "            print(i,\" CouncilArea\", council_area)\n",
    "            council_area=council_area[0]\n",
    "            print(\"----------------Nos quedamos con el primero----------\")\n",
    "            print(i,\" CouncilArea:\", council_area)\n",
    "        else:\n",
    "            council_area=council_area[0]\n",
    "            print(i,\" CouncilArea:\", council_area)\n",
    "        \n",
    "        complete_df2.loc[complete_df2[(complete_df2.Suburb==i) & (complete_df2.CouncilArea.isnull())].index,'CouncilArea']=council_area\n",
    "        \n",
    "print(\"Existen {} suburbs que pertenecen a mas de un CouncilArea\".format(contador))"
   ]
  },
  {
   "cell_type": "code",
   "execution_count": 120,
   "metadata": {},
   "outputs": [
    {
     "data": {
      "text/html": [
       "<div>\n",
       "<style scoped>\n",
       "    .dataframe tbody tr th:only-of-type {\n",
       "        vertical-align: middle;\n",
       "    }\n",
       "\n",
       "    .dataframe tbody tr th {\n",
       "        vertical-align: top;\n",
       "    }\n",
       "\n",
       "    .dataframe thead th {\n",
       "        text-align: right;\n",
       "    }\n",
       "</style>\n",
       "<table border=\"1\" class=\"dataframe\">\n",
       "  <thead>\n",
       "    <tr style=\"text-align: right;\">\n",
       "      <th></th>\n",
       "      <th>Rooms</th>\n",
       "      <th>Type</th>\n",
       "      <th>Price</th>\n",
       "      <th>Method</th>\n",
       "      <th>Date</th>\n",
       "      <th>Distance</th>\n",
       "      <th>Postcode</th>\n",
       "      <th>Bathroom</th>\n",
       "      <th>Car</th>\n",
       "      <th>Landsize</th>\n",
       "      <th>BuildingArea</th>\n",
       "      <th>YearBuilt</th>\n",
       "      <th>Lattitude</th>\n",
       "      <th>Longtitude</th>\n",
       "      <th>Regionname</th>\n",
       "      <th>Propertycount</th>\n",
       "      <th>SellerG</th>\n",
       "      <th>Suburb</th>\n",
       "      <th>CouncilArea</th>\n",
       "      <th>date</th>\n",
       "      <th>date_month</th>\n",
       "      <th>date_year</th>\n",
       "      <th>zipcode</th>\n",
       "      <th>airbnb_price_mean</th>\n",
       "      <th>airbnb_record_count</th>\n",
       "      <th>airbnb_weekly_price_mean</th>\n",
       "      <th>airbnb_weekly_price_count</th>\n",
       "      <th>airbnb_monthly_price_mean</th>\n",
       "      <th>airbnb_monthly_price_count</th>\n",
       "    </tr>\n",
       "  </thead>\n",
       "  <tbody>\n",
       "    <tr>\n",
       "      <th>11705</th>\n",
       "      <td>3</td>\n",
       "      <td>h</td>\n",
       "      <td>657500.0</td>\n",
       "      <td>SP</td>\n",
       "      <td>3/09/2017</td>\n",
       "      <td>14.8</td>\n",
       "      <td>3023.0</td>\n",
       "      <td>2.0</td>\n",
       "      <td>2.0</td>\n",
       "      <td>631.0</td>\n",
       "      <td>NaN</td>\n",
       "      <td>NaN</td>\n",
       "      <td>-37.75225</td>\n",
       "      <td>144.75520</td>\n",
       "      <td>Western Metropolitan</td>\n",
       "      <td>1607.0</td>\n",
       "      <td>Harcourts</td>\n",
       "      <td>Burnside</td>\n",
       "      <td>NaN</td>\n",
       "      <td>2017-09-03</td>\n",
       "      <td>2017-09-01</td>\n",
       "      <td>2017-01-01</td>\n",
       "      <td>3023.0</td>\n",
       "      <td>92.600000</td>\n",
       "      <td>35.0</td>\n",
       "      <td>500.0</td>\n",
       "      <td>1.0</td>\n",
       "      <td>NaN</td>\n",
       "      <td>0.0</td>\n",
       "    </tr>\n",
       "    <tr>\n",
       "      <th>11886</th>\n",
       "      <td>3</td>\n",
       "      <td>h</td>\n",
       "      <td>640000.0</td>\n",
       "      <td>SP</td>\n",
       "      <td>9/09/2017</td>\n",
       "      <td>16.5</td>\n",
       "      <td>3049.0</td>\n",
       "      <td>2.0</td>\n",
       "      <td>2.0</td>\n",
       "      <td>607.0</td>\n",
       "      <td>NaN</td>\n",
       "      <td>NaN</td>\n",
       "      <td>-37.67379</td>\n",
       "      <td>144.89826</td>\n",
       "      <td>Northern Metropolitan</td>\n",
       "      <td>1130.0</td>\n",
       "      <td>YPA</td>\n",
       "      <td>Attwood</td>\n",
       "      <td>NaN</td>\n",
       "      <td>2017-09-09</td>\n",
       "      <td>2017-09-01</td>\n",
       "      <td>2017-01-01</td>\n",
       "      <td>3049.0</td>\n",
       "      <td>92.285714</td>\n",
       "      <td>21.0</td>\n",
       "      <td>400.0</td>\n",
       "      <td>1.0</td>\n",
       "      <td>NaN</td>\n",
       "      <td>0.0</td>\n",
       "    </tr>\n",
       "    <tr>\n",
       "      <th>12769</th>\n",
       "      <td>3</td>\n",
       "      <td>h</td>\n",
       "      <td>580000.0</td>\n",
       "      <td>S</td>\n",
       "      <td>26/08/2017</td>\n",
       "      <td>14.8</td>\n",
       "      <td>3023.0</td>\n",
       "      <td>2.0</td>\n",
       "      <td>2.0</td>\n",
       "      <td>461.0</td>\n",
       "      <td>174.0</td>\n",
       "      <td>2000.0</td>\n",
       "      <td>-37.74518</td>\n",
       "      <td>144.74708</td>\n",
       "      <td>Western Metropolitan</td>\n",
       "      <td>1607.0</td>\n",
       "      <td>YPA</td>\n",
       "      <td>Burnside</td>\n",
       "      <td>NaN</td>\n",
       "      <td>2017-08-26</td>\n",
       "      <td>2017-08-01</td>\n",
       "      <td>2017-01-01</td>\n",
       "      <td>3023.0</td>\n",
       "      <td>92.600000</td>\n",
       "      <td>35.0</td>\n",
       "      <td>500.0</td>\n",
       "      <td>1.0</td>\n",
       "      <td>NaN</td>\n",
       "      <td>0.0</td>\n",
       "    </tr>\n",
       "  </tbody>\n",
       "</table>\n",
       "</div>"
      ],
      "text/plain": [
       "       Rooms Type     Price Method        Date  Distance  Postcode  Bathroom  \\\n",
       "11705      3    h  657500.0     SP   3/09/2017      14.8    3023.0       2.0   \n",
       "11886      3    h  640000.0     SP   9/09/2017      16.5    3049.0       2.0   \n",
       "12769      3    h  580000.0      S  26/08/2017      14.8    3023.0       2.0   \n",
       "\n",
       "       Car  Landsize  BuildingArea  YearBuilt  Lattitude  Longtitude  \\\n",
       "11705  2.0     631.0           NaN        NaN  -37.75225   144.75520   \n",
       "11886  2.0     607.0           NaN        NaN  -37.67379   144.89826   \n",
       "12769  2.0     461.0         174.0     2000.0  -37.74518   144.74708   \n",
       "\n",
       "                  Regionname  Propertycount    SellerG    Suburb CouncilArea  \\\n",
       "11705   Western Metropolitan         1607.0  Harcourts  Burnside         NaN   \n",
       "11886  Northern Metropolitan         1130.0        YPA   Attwood         NaN   \n",
       "12769   Western Metropolitan         1607.0        YPA  Burnside         NaN   \n",
       "\n",
       "            date date_month  date_year  zipcode  airbnb_price_mean  \\\n",
       "11705 2017-09-03 2017-09-01 2017-01-01   3023.0          92.600000   \n",
       "11886 2017-09-09 2017-09-01 2017-01-01   3049.0          92.285714   \n",
       "12769 2017-08-26 2017-08-01 2017-01-01   3023.0          92.600000   \n",
       "\n",
       "       airbnb_record_count  airbnb_weekly_price_mean  \\\n",
       "11705                 35.0                     500.0   \n",
       "11886                 21.0                     400.0   \n",
       "12769                 35.0                     500.0   \n",
       "\n",
       "       airbnb_weekly_price_count  airbnb_monthly_price_mean  \\\n",
       "11705                        1.0                        NaN   \n",
       "11886                        1.0                        NaN   \n",
       "12769                        1.0                        NaN   \n",
       "\n",
       "       airbnb_monthly_price_count  \n",
       "11705                         0.0  \n",
       "11886                         0.0  \n",
       "12769                         0.0  "
      ]
     },
     "execution_count": 120,
     "metadata": {},
     "output_type": "execute_result"
    }
   ],
   "source": [
    "complete_df2[(complete_df2.CouncilArea.isnull())]"
   ]
  },
  {
   "cell_type": "code",
   "execution_count": null,
   "metadata": {},
   "outputs": [],
   "source": []
  },
  {
   "cell_type": "code",
   "execution_count": 19,
   "metadata": {
    "id": "1NfU6Xgtt1ZO"
   },
   "outputs": [],
   "source": [
    "#qué método podríamos usar para esto?"
   ]
  },
  {
   "cell_type": "markdown",
   "metadata": {
    "id": "HT5Sl_FatYDo"
   },
   "source": [
    "2. Imputar los valores faltantes de la(s) columna(s) que se agregaron a partir del conjunto de datos de AirBnB.\n",
    "\n"
   ]
  },
  {
   "cell_type": "code",
   "execution_count": 20,
   "metadata": {
    "colab": {
     "base_uri": "https://localhost:8080/",
     "height": 565
    },
    "id": "VG-VqNMKuaew",
    "outputId": "3ea71c68-1112-46e6-9019-b0496e04c035"
   },
   "outputs": [
    {
     "data": {
      "text/plain": [
       "<AxesSubplot:>"
      ]
     },
     "execution_count": 20,
     "metadata": {},
     "output_type": "execute_result"
    },
    {
     "data": {
      "image/png": "[encoded data removed]",
      "text/plain": [
       "<Figure size 864x432 with 3 Axes>"
      ]
     },
     "metadata": {
      "needs_background": "light"
     },
     "output_type": "display_data"
    }
   ],
   "source": [
    "import missingno as msno\n",
    "msno.bar(complete_df2,figsize=(12, 6), fontsize=12, color='steelblue')   \n",
    "# el precio promedio tiene 20 datos faltantes si consideramos aquellos que tienen menos de 10 observaciones en el conteo, \n",
    "# sino se pueden hacer imputaciones sobre las otras varaibles"
   ]
  },
  {
   "cell_type": "code",
   "execution_count": 21,
   "metadata": {
    "colab": {
     "base_uri": "https://localhost:8080/",
     "height": 565
    },
    "id": "lfomdc3CuhWv",
    "outputId": "4f30f6d4-b9ef-4c07-bc55-8b69effa0c67"
   },
   "outputs": [
    {
     "data": {
      "text/plain": [
       "<AxesSubplot:>"
      ]
     },
     "execution_count": 21,
     "metadata": {},
     "output_type": "execute_result"
    },
    {
     "data": {
      "image/png": "[encoded data removed]",
      "text/plain": [
       "<Figure size 864x432 with 3 Axes>"
      ]
     },
     "metadata": {
      "needs_background": "light"
     },
     "output_type": "display_data"
    }
   ],
   "source": [
    "#1) Imputación por la media\n",
    "from sklearn.impute import SimpleImputer\n",
    "complete_df_mean = complete_df2.copy()\n",
    "\n",
    "#setting strategy to 'mean' \n",
    "mean_imputer = SimpleImputer(missing_values=np.nan,strategy='mean') # strategy can also be mean or median or mean\n",
    "\n",
    "complete_df_mean[[\"airbnb_weekly_price_mean\",\"airbnb_monthly_price_mean\"]] = mean_imputer.fit_transform(complete_df_mean[[\"airbnb_weekly_price_mean\",\"airbnb_monthly_price_mean\"]])\n",
    "msno.bar(complete_df_mean,figsize=(12, 6), fontsize=12, color='steelblue')"
   ]
  },
  {
   "cell_type": "code",
   "execution_count": 22,
   "metadata": {
    "colab": {
     "base_uri": "https://localhost:8080/",
     "height": 565
    },
    "id": "Ngeyxi8FulDA",
    "outputId": "20d4acdf-7cc3-4a64-c2bc-57decf5f9001"
   },
   "outputs": [
    {
     "data": {
      "text/plain": [
       "<AxesSubplot:>"
      ]
     },
     "execution_count": 22,
     "metadata": {},
     "output_type": "execute_result"
    },
    {
     "data": {
      "image/png": "[encoded data removed]",
      "text/plain": [
       "<Figure size 864x432 with 3 Axes>"
      ]
     },
     "metadata": {
      "needs_background": "light"
     },
     "output_type": "display_data"
    }
   ],
   "source": [
    "#2) KNN \n",
    "\n",
    "from sklearn.impute import KNNImputer\n",
    "complete_df_knn = complete_df2.copy(deep=True)\n",
    "\n",
    "knn_imputer = KNNImputer(n_neighbors=2, weights=\"uniform\")\n",
    "\n",
    "complete_df_knn[[\"airbnb_weekly_price_mean\",\"airbnb_monthly_price_mean\"]] = knn_imputer.fit_transform(complete_df_knn[[\"airbnb_weekly_price_mean\",\"airbnb_monthly_price_mean\"]])\n",
    "msno.bar(complete_df_knn,figsize=(12, 6), fontsize=12, color='steelblue')"
   ]
  },
  {
   "cell_type": "code",
   "execution_count": 23,
   "metadata": {
    "colab": {
     "base_uri": "https://localhost:8080/",
     "height": 565
    },
    "id": "CyK2Znf1un9c",
    "outputId": "353584de-f3dd-478a-f2a9-b37525c404f5"
   },
   "outputs": [
    {
     "data": {
      "text/plain": [
       "<AxesSubplot:>"
      ]
     },
     "execution_count": 23,
     "metadata": {},
     "output_type": "execute_result"
    },
    {
     "data": {
      "image/png": "[encoded data removed]",
      "text/plain": [
       "<Figure size 864x432 with 3 Axes>"
      ]
     },
     "metadata": {
      "needs_background": "light"
     },
     "output_type": "display_data"
    }
   ],
   "source": [
    "#3) Multivariate Feature Imputation   \n",
    "from sklearn.experimental import enable_iterative_imputer\n",
    "from sklearn.linear_model import BayesianRidge\n",
    "from sklearn.tree import DecisionTreeRegressor\n",
    "from sklearn.ensemble import ExtraTreesRegressor\n",
    "from sklearn.neighbors import KNeighborsRegressor\n",
    "from sklearn.impute import IterativeImputer\n",
    "\n",
    "complete_df_mice = complete_df2.copy(deep=True)\n",
    "\n",
    "mice_imputer = IterativeImputer(random_state=0, estimator=BayesianRidge())\n",
    "\n",
    "complete_df_mice[[\"airbnb_weekly_price_mean\",\"airbnb_monthly_price_mean\"]] = mice_imputer.fit_transform(complete_df_mice[[\"airbnb_weekly_price_mean\",\"airbnb_monthly_price_mean\"]])\n",
    "msno.bar(complete_df_mice,figsize=(12, 6), fontsize=12, color='steelblue')\n"
   ]
  },
  {
   "cell_type": "code",
   "execution_count": 24,
   "metadata": {
    "id": "QOuDmRNGuq0c"
   },
   "outputs": [],
   "source": [
    "#habría que elegir un método en realidad, justificarlo y dejarlo completo."
   ]
  },
  {
   "cell_type": "markdown",
   "metadata": {
    "id": "4Taul5Sduwre"
   },
   "source": [
    "## Ejercicio 3\n",
    "\n",
    "Crear y guardar un nuevo conjunto de datos con todas las transformaciones realizadas anteriormente."
   ]
  },
  {
   "cell_type": "code",
   "execution_count": 25,
   "metadata": {
    "id": "Jx55MDScuzP1"
   },
   "outputs": [
    {
     "ename": "NameError",
     "evalue": "name 'df_final' is not defined",
     "output_type": "error",
     "traceback": [
      "\u001b[1;31m---------------------------------------------------------------------------\u001b[0m",
      "\u001b[1;31mNameError\u001b[0m                                 Traceback (most recent call last)",
      "\u001b[1;32m<ipython-input-25-17cfc551b4d0>\u001b[0m in \u001b[0;36m<module>\u001b[1;34m\u001b[0m\n\u001b[0;32m      1\u001b[0m \u001b[1;31m#Elegir el data set con las mejores reglas de imputación para todas las variables y renombrarlo: df_final\u001b[0m\u001b[1;33m\u001b[0m\u001b[1;33m\u001b[0m\u001b[1;33m\u001b[0m\u001b[0m\n\u001b[1;32m----> 2\u001b[1;33m \u001b[0mdf_final\u001b[0m\u001b[1;33m\u001b[0m\u001b[1;33m\u001b[0m\u001b[0m\n\u001b[0m\u001b[0;32m      3\u001b[0m \u001b[1;33m\u001b[0m\u001b[0m\n\u001b[0;32m      4\u001b[0m \u001b[0mdf_final\u001b[0m\u001b[1;33m.\u001b[0m\u001b[0mto_csv\u001b[0m\u001b[1;33m(\u001b[0m\u001b[1;34m\"melbourne_houses_final_df.csv\"\u001b[0m\u001b[1;33m,\u001b[0m \u001b[0mindex\u001b[0m\u001b[1;33m=\u001b[0m\u001b[1;32mFalse\u001b[0m\u001b[1;33m)\u001b[0m\u001b[1;33m\u001b[0m\u001b[1;33m\u001b[0m\u001b[0m\n",
      "\u001b[1;31mNameError\u001b[0m: name 'df_final' is not defined"
     ]
    }
   ],
   "source": [
    "#Elegir el data set con las mejores reglas de imputación para todas las variables y renombrarlo: df_final\n",
    "df_final\n",
    "\n",
    "df_final.to_csv(\"melbourne_houses_final_df.csv\", index=False)"
   ]
  },
  {
   "cell_type": "code",
   "execution_count": null,
   "metadata": {
    "id": "ea5HTVL2u1pp"
   },
   "outputs": [],
   "source": [
    "from google.colab import files\n",
    "files.download(\"melbourne_houses_final_df.csv\")"
   ]
  }
 ],
 "metadata": {
  "colab": {
   "name": "Parte 1_Ejercicios 2 y 3.ipynb",
   "provenance": []
  },
  "kernelspec": {
   "display_name": "Python 3",
   "language": "python",
   "name": "python3"
  },
  "language_info": {
   "codemirror_mode": {
    "name": "ipython",
    "version": 3
   },
   "file_extension": ".py",
   "mimetype": "text/x-python",
   "name": "python",
   "nbconvert_exporter": "python",
   "pygments_lexer": "ipython3",
   "version": "3.8.5"
  }
 },
 "nbformat": 4,
 "nbformat_minor": 4
}
